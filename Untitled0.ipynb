{
  "nbformat": 4,
  "nbformat_minor": 0,
  "metadata": {
    "colab": {
      "provenance": [],
      "toc_visible": true,
      "mount_file_id": "1R1kH1FeXIZvix8EQJWnzKJVGQu5UQA3r",
      "authorship_tag": "ABX9TyNoIBs193o8HhSsOA4v943i",
      "include_colab_link": true
    },
    "kernelspec": {
      "name": "python3",
      "display_name": "Python 3"
    },
    "language_info": {
      "name": "python"
    }
  },
  "cells": [
    {
      "cell_type": "markdown",
      "metadata": {
        "id": "view-in-github",
        "colab_type": "text"
      },
      "source": [
        "<a href=\"https://colab.research.google.com/github/kalumay/Major/blob/master/Untitled0.ipynb\" target=\"_parent\"><img src=\"https://colab.research.google.com/assets/colab-badge.svg\" alt=\"Open In Colab\"/></a>"
      ]
    },
    {
      "cell_type": "code",
      "source": [
        "from google.colab  import drive\n",
        "drive.mount('/content/drive')"
      ],
      "metadata": {
        "id": "1CmJjKrfkxC2",
        "colab": {
          "base_uri": "https://localhost:8080/"
        },
        "outputId": "105276c3-5266-4e6d-9fc0-567f3f8fb211"
      },
      "execution_count": 15,
      "outputs": [
        {
          "output_type": "stream",
          "name": "stdout",
          "text": [
            "Drive already mounted at /content/drive; to attempt to forcibly remount, call drive.mount(\"/content/drive\", force_remount=True).\n"
          ]
        }
      ]
    },
    {
      "cell_type": "code",
      "source": [
        "data_path='/content/drive/MyDrive/Colab Notebooks/Datas/'"
      ],
      "metadata": {
        "id": "Q1bXNsV6taTT"
      },
      "execution_count": 28,
      "outputs": []
    },
    {
      "cell_type": "code",
      "source": [
        "import os\n",
        "import re\n",
        "import string\n",
        "\n",
        "import pandas as pd\n",
        "import numpy as np\n",
        "\n",
        "from collections import Counter\n",
        "\n",
        "import sklearn\n",
        "from sklearn.model_selection import train_test_split\n",
        "from sklearn.metrics import classification_report\n",
        "\n",
        "import tensorflow as tf\n",
        "from tensorflow.keras import layers\n",
        "from tensorflow.keras import losses\n",
        "from tensorflow.keras import regularizers\n",
        "from tensorflow.keras import preprocessing\n",
        "from tensorflow.keras.preprocessing.text import Tokenizer\n",
        "from tensorflow.keras.preprocessing.sequence import pad_sequences\n",
        "\n",
        "import matplotlib as mpl\n",
        "import matplotlib.pyplot as plt\n",
        "import seaborn as sns\n",
        "\n",
        "\n",
        "import warnings\n",
        "warnings.filterwarnings('ignore')"
      ],
      "metadata": {
        "id": "zvtNkoqqvaT3"
      },
      "execution_count": 17,
      "outputs": []
    },
    {
      "cell_type": "code",
      "source": [
        "ds=pd.read_csv('/content/drive/MyDrive/Colab Notebooks/Datas/labeled_data.csv/labeled_data.csv')"
      ],
      "metadata": {
        "id": "KjeLWrCqzLLJ"
      },
      "execution_count": 18,
      "outputs": []
    },
    {
      "cell_type": "code",
      "source": [
        "print(ds.to_string)"
      ],
      "metadata": {
        "colab": {
          "base_uri": "https://localhost:8080/"
        },
        "id": "TcxujE66z9r9",
        "outputId": "01fefdef-e0f4-4195-a188-3266f741203f"
      },
      "execution_count": 22,
      "outputs": [
        {
          "output_type": "stream",
          "name": "stdout",
          "text": [
            "<bound method DataFrame.to_string of        Unnamed: 0  count  hate_speech  offensive_language  neither  class  \\\n",
            "0               0      3            0                   0        3      2   \n",
            "1               1      3            0                   3        0      1   \n",
            "2               2      3            0                   3        0      1   \n",
            "3               3      3            0                   2        1      1   \n",
            "4               4      6            0                   6        0      1   \n",
            "...           ...    ...          ...                 ...      ...    ...   \n",
            "24778       25291      3            0                   2        1      1   \n",
            "24779       25292      3            0                   1        2      2   \n",
            "24780       25294      3            0                   3        0      1   \n",
            "24781       25295      6            0                   6        0      1   \n",
            "24782       25296      3            0                   0        3      2   \n",
            "\n",
            "                                                   tweet  \n",
            "0      !!! RT @mayasolovely: As a woman you shouldn't...  \n",
            "1      !!!!! RT @mleew17: boy dats cold...tyga dwn ba...  \n",
            "2      !!!!!!! RT @UrKindOfBrand Dawg!!!! RT @80sbaby...  \n",
            "3      !!!!!!!!! RT @C_G_Anderson: @viva_based she lo...  \n",
            "4      !!!!!!!!!!!!! RT @ShenikaRoberts: The shit you...  \n",
            "...                                                  ...  \n",
            "24778  you's a muthaf***in lie &#8220;@LifeAsKing: @2...  \n",
            "24779  you've gone and broke the wrong heart baby, an...  \n",
            "24780  young buck wanna eat!!.. dat nigguh like I ain...  \n",
            "24781              youu got wild bitches tellin you lies  \n",
            "24782  ~~Ruffled | Ntac Eileen Dahlia - Beautiful col...  \n",
            "\n",
            "[24783 rows x 7 columns]>\n"
          ]
        }
      ]
    },
    {
      "cell_type": "code",
      "source": [
        "directory_names = os.listdir(data_path)\n",
        "\n",
        "for directory in directory_names:\n",
        "    dir_path = os.path.join(data_path, directory)\n",
        "    if os.path.isdir(dir_path):\n",
        "        files = os.listdir(dir_path)\n",
        "        print(f\"{len(files)} \\t {directory}\")\n",
        "        for file in files:\n",
        "          file_path = os.path.join(dir_path, file)\n",
        "          if file.endswith('.csv'):\n",
        "              data_path = pd.read_csv(file_path)\n",
        "              print(f\"\\nData in {file}:\\n{data_path.head()}\\n\")"
      ],
      "metadata": {
        "colab": {
          "base_uri": "https://localhost:8080/"
        },
        "id": "CaxhIIhicyfa",
        "outputId": "82d19c41-1b21-40d3-bcb7-1316369acf1e"
      },
      "execution_count": 23,
      "outputs": [
        {
          "output_type": "stream",
          "name": "stdout",
          "text": [
            "1 \t labeled_data.csv\n",
            "\n",
            "Data in labeled_data.csv:\n",
            "   Unnamed: 0  count  hate_speech  offensive_language  neither  class  \\\n",
            "0           0      3            0                   0        3      2   \n",
            "1           1      3            0                   3        0      1   \n",
            "2           2      3            0                   3        0      1   \n",
            "3           3      3            0                   2        1      1   \n",
            "4           4      6            0                   6        0      1   \n",
            "\n",
            "                                               tweet  \n",
            "0  !!! RT @mayasolovely: As a woman you shouldn't...  \n",
            "1  !!!!! RT @mleew17: boy dats cold...tyga dwn ba...  \n",
            "2  !!!!!!! RT @UrKindOfBrand Dawg!!!! RT @80sbaby...  \n",
            "3  !!!!!!!!! RT @C_G_Anderson: @viva_based she lo...  \n",
            "4  !!!!!!!!!!!!! RT @ShenikaRoberts: The shit you...  \n",
            "\n"
          ]
        }
      ]
    },
    {
      "cell_type": "code",
      "source": [
        "csv_file_path = '/content/drive/MyDrive/Colab Notebooks/Datas/labeled_data.csv/labeled_data.csv'\n",
        "meta = pd.read_csv(os.path.join(data_path, csv_file_path))\n",
        "meta.head()\n"
      ],
      "metadata": {
        "colab": {
          "base_uri": "https://localhost:8080/",
          "height": 310
        },
        "id": "caplOqkMc7VW",
        "outputId": "f72defca-e3be-4f21-dd4e-1797f506d07a"
      },
      "execution_count": 29,
      "outputs": [
        {
          "output_type": "execute_result",
          "data": {
            "text/plain": [
              "   Unnamed: 0  count  hate_speech  offensive_language  neither  class  \\\n",
              "0           0      3            0                   0        3      2   \n",
              "1           1      3            0                   3        0      1   \n",
              "2           2      3            0                   3        0      1   \n",
              "3           3      3            0                   2        1      1   \n",
              "4           4      6            0                   6        0      1   \n",
              "\n",
              "                                               tweet  \n",
              "0  !!! RT @mayasolovely: As a woman you shouldn't...  \n",
              "1  !!!!! RT @mleew17: boy dats cold...tyga dwn ba...  \n",
              "2  !!!!!!! RT @UrKindOfBrand Dawg!!!! RT @80sbaby...  \n",
              "3  !!!!!!!!! RT @C_G_Anderson: @viva_based she lo...  \n",
              "4  !!!!!!!!!!!!! RT @ShenikaRoberts: The shit you...  "
            ],
            "text/html": [
              "\n",
              "  <div id=\"df-a443a89d-d311-4121-91a6-4bde50e2ca8a\" class=\"colab-df-container\">\n",
              "    <div>\n",
              "<style scoped>\n",
              "    .dataframe tbody tr th:only-of-type {\n",
              "        vertical-align: middle;\n",
              "    }\n",
              "\n",
              "    .dataframe tbody tr th {\n",
              "        vertical-align: top;\n",
              "    }\n",
              "\n",
              "    .dataframe thead th {\n",
              "        text-align: right;\n",
              "    }\n",
              "</style>\n",
              "<table border=\"1\" class=\"dataframe\">\n",
              "  <thead>\n",
              "    <tr style=\"text-align: right;\">\n",
              "      <th></th>\n",
              "      <th>Unnamed: 0</th>\n",
              "      <th>count</th>\n",
              "      <th>hate_speech</th>\n",
              "      <th>offensive_language</th>\n",
              "      <th>neither</th>\n",
              "      <th>class</th>\n",
              "      <th>tweet</th>\n",
              "    </tr>\n",
              "  </thead>\n",
              "  <tbody>\n",
              "    <tr>\n",
              "      <th>0</th>\n",
              "      <td>0</td>\n",
              "      <td>3</td>\n",
              "      <td>0</td>\n",
              "      <td>0</td>\n",
              "      <td>3</td>\n",
              "      <td>2</td>\n",
              "      <td>!!! RT @mayasolovely: As a woman you shouldn't...</td>\n",
              "    </tr>\n",
              "    <tr>\n",
              "      <th>1</th>\n",
              "      <td>1</td>\n",
              "      <td>3</td>\n",
              "      <td>0</td>\n",
              "      <td>3</td>\n",
              "      <td>0</td>\n",
              "      <td>1</td>\n",
              "      <td>!!!!! RT @mleew17: boy dats cold...tyga dwn ba...</td>\n",
              "    </tr>\n",
              "    <tr>\n",
              "      <th>2</th>\n",
              "      <td>2</td>\n",
              "      <td>3</td>\n",
              "      <td>0</td>\n",
              "      <td>3</td>\n",
              "      <td>0</td>\n",
              "      <td>1</td>\n",
              "      <td>!!!!!!! RT @UrKindOfBrand Dawg!!!! RT @80sbaby...</td>\n",
              "    </tr>\n",
              "    <tr>\n",
              "      <th>3</th>\n",
              "      <td>3</td>\n",
              "      <td>3</td>\n",
              "      <td>0</td>\n",
              "      <td>2</td>\n",
              "      <td>1</td>\n",
              "      <td>1</td>\n",
              "      <td>!!!!!!!!! RT @C_G_Anderson: @viva_based she lo...</td>\n",
              "    </tr>\n",
              "    <tr>\n",
              "      <th>4</th>\n",
              "      <td>4</td>\n",
              "      <td>6</td>\n",
              "      <td>0</td>\n",
              "      <td>6</td>\n",
              "      <td>0</td>\n",
              "      <td>1</td>\n",
              "      <td>!!!!!!!!!!!!! RT @ShenikaRoberts: The shit you...</td>\n",
              "    </tr>\n",
              "  </tbody>\n",
              "</table>\n",
              "</div>\n",
              "    <div class=\"colab-df-buttons\">\n",
              "\n",
              "  <div class=\"colab-df-container\">\n",
              "    <button class=\"colab-df-convert\" onclick=\"convertToInteractive('df-a443a89d-d311-4121-91a6-4bde50e2ca8a')\"\n",
              "            title=\"Convert this dataframe to an interactive table.\"\n",
              "            style=\"display:none;\">\n",
              "\n",
              "  <svg xmlns=\"http://www.w3.org/2000/svg\" height=\"24px\" viewBox=\"0 -960 960 960\">\n",
              "    <path d=\"M120-120v-720h720v720H120Zm60-500h600v-160H180v160Zm220 220h160v-160H400v160Zm0 220h160v-160H400v160ZM180-400h160v-160H180v160Zm440 0h160v-160H620v160ZM180-180h160v-160H180v160Zm440 0h160v-160H620v160Z\"/>\n",
              "  </svg>\n",
              "    </button>\n",
              "\n",
              "  <style>\n",
              "    .colab-df-container {\n",
              "      display:flex;\n",
              "      gap: 12px;\n",
              "    }\n",
              "\n",
              "    .colab-df-convert {\n",
              "      background-color: #E8F0FE;\n",
              "      border: none;\n",
              "      border-radius: 50%;\n",
              "      cursor: pointer;\n",
              "      display: none;\n",
              "      fill: #1967D2;\n",
              "      height: 32px;\n",
              "      padding: 0 0 0 0;\n",
              "      width: 32px;\n",
              "    }\n",
              "\n",
              "    .colab-df-convert:hover {\n",
              "      background-color: #E2EBFA;\n",
              "      box-shadow: 0px 1px 2px rgba(60, 64, 67, 0.3), 0px 1px 3px 1px rgba(60, 64, 67, 0.15);\n",
              "      fill: #174EA6;\n",
              "    }\n",
              "\n",
              "    .colab-df-buttons div {\n",
              "      margin-bottom: 4px;\n",
              "    }\n",
              "\n",
              "    [theme=dark] .colab-df-convert {\n",
              "      background-color: #3B4455;\n",
              "      fill: #D2E3FC;\n",
              "    }\n",
              "\n",
              "    [theme=dark] .colab-df-convert:hover {\n",
              "      background-color: #434B5C;\n",
              "      box-shadow: 0px 1px 3px 1px rgba(0, 0, 0, 0.15);\n",
              "      filter: drop-shadow(0px 1px 2px rgba(0, 0, 0, 0.3));\n",
              "      fill: #FFFFFF;\n",
              "    }\n",
              "  </style>\n",
              "\n",
              "    <script>\n",
              "      const buttonEl =\n",
              "        document.querySelector('#df-a443a89d-d311-4121-91a6-4bde50e2ca8a button.colab-df-convert');\n",
              "      buttonEl.style.display =\n",
              "        google.colab.kernel.accessAllowed ? 'block' : 'none';\n",
              "\n",
              "      async function convertToInteractive(key) {\n",
              "        const element = document.querySelector('#df-a443a89d-d311-4121-91a6-4bde50e2ca8a');\n",
              "        const dataTable =\n",
              "          await google.colab.kernel.invokeFunction('convertToInteractive',\n",
              "                                                    [key], {});\n",
              "        if (!dataTable) return;\n",
              "\n",
              "        const docLinkHtml = 'Like what you see? Visit the ' +\n",
              "          '<a target=\"_blank\" href=https://colab.research.google.com/notebooks/data_table.ipynb>data table notebook</a>'\n",
              "          + ' to learn more about interactive tables.';\n",
              "        element.innerHTML = '';\n",
              "        dataTable['output_type'] = 'display_data';\n",
              "        await google.colab.output.renderOutput(dataTable, element);\n",
              "        const docLink = document.createElement('div');\n",
              "        docLink.innerHTML = docLinkHtml;\n",
              "        element.appendChild(docLink);\n",
              "      }\n",
              "    </script>\n",
              "  </div>\n",
              "\n",
              "\n",
              "<div id=\"df-70cafb26-7f1f-49f9-abc4-2ed0bc3d4010\">\n",
              "  <button class=\"colab-df-quickchart\" onclick=\"quickchart('df-70cafb26-7f1f-49f9-abc4-2ed0bc3d4010')\"\n",
              "            title=\"Suggest charts.\"\n",
              "            style=\"display:none;\">\n",
              "\n",
              "<svg xmlns=\"http://www.w3.org/2000/svg\" height=\"24px\"viewBox=\"0 0 24 24\"\n",
              "     width=\"24px\">\n",
              "    <g>\n",
              "        <path d=\"M19 3H5c-1.1 0-2 .9-2 2v14c0 1.1.9 2 2 2h14c1.1 0 2-.9 2-2V5c0-1.1-.9-2-2-2zM9 17H7v-7h2v7zm4 0h-2V7h2v10zm4 0h-2v-4h2v4z\"/>\n",
              "    </g>\n",
              "</svg>\n",
              "  </button>\n",
              "\n",
              "<style>\n",
              "  .colab-df-quickchart {\n",
              "    background-color: #E8F0FE;\n",
              "    border: none;\n",
              "    border-radius: 50%;\n",
              "    cursor: pointer;\n",
              "    display: none;\n",
              "    fill: #1967D2;\n",
              "    height: 32px;\n",
              "    padding: 0 0 0 0;\n",
              "    width: 32px;\n",
              "  }\n",
              "\n",
              "  .colab-df-quickchart:hover {\n",
              "    background-color: #E2EBFA;\n",
              "    box-shadow: 0px 1px 2px rgba(60, 64, 67, 0.3), 0px 1px 3px 1px rgba(60, 64, 67, 0.15);\n",
              "    fill: #174EA6;\n",
              "  }\n",
              "\n",
              "  [theme=dark] .colab-df-quickchart {\n",
              "    background-color: #3B4455;\n",
              "    fill: #D2E3FC;\n",
              "  }\n",
              "\n",
              "  [theme=dark] .colab-df-quickchart:hover {\n",
              "    background-color: #434B5C;\n",
              "    box-shadow: 0px 1px 3px 1px rgba(0, 0, 0, 0.15);\n",
              "    filter: drop-shadow(0px 1px 2px rgba(0, 0, 0, 0.3));\n",
              "    fill: #FFFFFF;\n",
              "  }\n",
              "</style>\n",
              "\n",
              "  <script>\n",
              "    async function quickchart(key) {\n",
              "      const charts = await google.colab.kernel.invokeFunction(\n",
              "          'suggestCharts', [key], {});\n",
              "    }\n",
              "    (() => {\n",
              "      let quickchartButtonEl =\n",
              "        document.querySelector('#df-70cafb26-7f1f-49f9-abc4-2ed0bc3d4010 button');\n",
              "      quickchartButtonEl.style.display =\n",
              "        google.colab.kernel.accessAllowed ? 'block' : 'none';\n",
              "    })();\n",
              "  </script>\n",
              "</div>\n",
              "    </div>\n",
              "  </div>\n"
            ]
          },
          "metadata": {},
          "execution_count": 29
        }
      ]
    },
    {
      "cell_type": "code",
      "source": [
        "# ## distribution of count\n",
        "meta.groupby('count')['count'].count().sort_values().plot.barh(figsize=(5,3))"
      ],
      "metadata": {
        "colab": {
          "base_uri": "https://localhost:8080/",
          "height": 308
        },
        "id": "dKYhgR_7dHgI",
        "outputId": "beec7f25-92d3-4eae-d20c-b8abcbc06b07"
      },
      "execution_count": 34,
      "outputs": [
        {
          "output_type": "execute_result",
          "data": {
            "text/plain": [
              "<Axes: ylabel='count'>"
            ]
          },
          "metadata": {},
          "execution_count": 34
        },
        {
          "output_type": "display_data",
          "data": {
            "text/plain": [
              "<Figure size 500x300 with 1 Axes>"
            ],
            "image/png": "[encoded data removed]"
          },
          "metadata": {}
        }
      ]
    },
    {
      "cell_type": "markdown",
      "source": [
        "# New section"
      ],
      "metadata": {
        "id": "Cf0TbPZ9oJNe"
      }
    },
    {
      "cell_type": "code",
      "source": [
        "# ## distribution of hate_speech\n",
        "meta.groupby('hate_speech')['hate_speech'].count().sort_values().plot.barh(figsize=(5,3))"
      ],
      "metadata": {
        "colab": {
          "base_uri": "https://localhost:8080/",
          "height": 308
        },
        "id": "JHzL9Yc5fAHV",
        "outputId": "16648773-8026-42f1-edd9-920fe40e2af4"
      },
      "execution_count": 35,
      "outputs": [
        {
          "output_type": "execute_result",
          "data": {
            "text/plain": [
              "<Axes: ylabel='hate_speech'>"
            ]
          },
          "metadata": {},
          "execution_count": 35
        },
        {
          "output_type": "display_data",
          "data": {
            "text/plain": [
              "<Figure size 500x300 with 1 Axes>"
            ],
            "image/png": "[encoded data removed]"
          },
          "metadata": {}
        }
      ]
    },
    {
      "cell_type": "code",
      "source": [
        "# ## distribution of offensive_language\n",
        "meta.groupby('offensive_language')['offensive_language'].count().sort_values().plot.barh(figsize=(5,3))"
      ],
      "metadata": {
        "colab": {
          "base_uri": "https://localhost:8080/",
          "height": 308
        },
        "id": "jnYFqESofOLZ",
        "outputId": "bc94a4ce-9c7f-4e9b-c89e-f7a52f1810dc"
      },
      "execution_count": 36,
      "outputs": [
        {
          "output_type": "execute_result",
          "data": {
            "text/plain": [
              "<Axes: ylabel='offensive_language'>"
            ]
          },
          "metadata": {},
          "execution_count": 36
        },
        {
          "output_type": "display_data",
          "data": {
            "text/plain": [
              "<Figure size 500x300 with 1 Axes>"
            ],
            "image/png": "[encoded data removed]"
          },
          "metadata": {}
        }
      ]
    },
    {
      "cell_type": "code",
      "source": [
        "# ## distribution of neither\n",
        "meta.groupby('neither')['neither'].count().sort_values().plot.barh(figsize=(5,3))"
      ],
      "metadata": {
        "colab": {
          "base_uri": "https://localhost:8080/",
          "height": 308
        },
        "id": "FQeTmeiofbH2",
        "outputId": "96363da8-34da-41cd-8680-17197873a77a"
      },
      "execution_count": 37,
      "outputs": [
        {
          "output_type": "execute_result",
          "data": {
            "text/plain": [
              "<Axes: ylabel='neither'>"
            ]
          },
          "metadata": {},
          "execution_count": 37
        },
        {
          "output_type": "display_data",
          "data": {
            "text/plain": [
              "<Figure size 500x300 with 1 Axes>"
            ],
            "image/png": "[encoded data removed]"
          },
          "metadata": {}
        }
      ]
    },
    {
      "cell_type": "code",
      "source": [
        "#preprocess train dataset\n",
        "ds['Num_words_text'] = ds['tweet'].apply(lambda x:len(str(x).split()))\n",
        "\n",
        "train_data,test_data= train_test_split(ds, test_size=0.2)\n",
        "train_data.reset_index(drop=True,inplace=True)\n",
        "test_data.reset_index(drop=True,inplace=True)"
      ],
      "metadata": {
        "id": "jFeU2Rlof2tW"
      },
      "execution_count": 38,
      "outputs": []
    },
    {
      "cell_type": "code",
      "source": [
        "#classes proportion in dependent variable in train and test dataset\n",
        "print('===========Train Data =========')\n",
        "print(train_data.value_counts())\n",
        "print(len(train_data))\n",
        "print('==============================')\n",
        "\n",
        "print('===========Test Data =========')\n",
        "print(test_data.value_counts())\n",
        "print(len(test_data))\n",
        "print('==============================')"
      ],
      "metadata": {
        "colab": {
          "base_uri": "https://localhost:8080/"
        },
        "id": "EIWbompbhP7E",
        "outputId": "f01bedbb-f24e-4631-f5db-cec6872e942d"
      },
      "execution_count": 40,
      "outputs": [
        {
          "output_type": "stream",
          "name": "stdout",
          "text": [
            "===========Train Data =========\n",
            "Unnamed: 0  count  hate_speech  offensive_language  neither  class  tweet                                                                                                                                                                                                                                                                                                                                                                                                                                                                                                                                        Num_words_text\n",
            "0           3      0            0                   3        2      !!! RT @mayasolovely: As a woman you shouldn't complain about cleaning up your house. &amp; as a man you should always take the trash out...                                                                                                                                                                                                                                                                                                                                                                                                 25                1\n",
            "16918       3      0            0                   3        2      RT @Mr_MshkL: &#1589;&#1608;&#1585;&#1577; &#1604;&#1591;&#1575;&#1574;&#1585; &#1575;&#1604;&#1603;&#1575;&#1585;&#1583;&#1610;&#1606;&#1575;&#1604; &#1575;&#1604;&#1571;&#1581;&#1605;&#1585; &#1575;&#1604;&#1605;&#1605;&#1610;&#1586;&#1548; &#1571;&#1581;&#1583; &#1588;&#1582;&#1589;&#1610;&#1575;&#1578; &#1604;&#1593;&#1576;&#1577; &#1575;&#1604;&#1591;&#1610;&#1608;&#1585; &#1575;&#1604;&#1594;&#1575;&#1590;&#1576;&#1577; angry birds &#1575;&#1604;&#1588;&#1607;&#1610;&#1585;&#1577; !\\n&#8226; http://t.co/0lowkClb  18                1\n",
            "16926       3      0            3                   0        1      RT @MsKeeKee90s: Throw it up! Like a pizza! Get stirring in that pussy like a feature &#128514;&#128514;&#128514; @t_ndyy @PamiiBabesh                                                                                                                                                                                                                                                                                                                                                                                                       19                1\n",
            "16925       3      0            0                   3        2      RT @MsKeeKee90s: @t_ndyy haha Oreo lol. Well I gota do dee's video for his dance soon, I can show you how to use equipment and that x                                                                                                                                                                                                                                                                                                                                                                                                        27                1\n",
            "16924       6      1            5                   0        1      RT @MsKeShera_: these bitches be sending shots but be missing me ian been @'d yet you cant be dissing me!                                                                                                                                                                                                                                                                                                                                                                                                                                    20                1\n",
            "                                                                                                                                                                                                                                                                                                                                                                                                                                                                                                                                                                                                                                  ..\n",
            "8570        3      0            3                   0        1      Can't fuck wit no bitch ugly friends,                                                                                                                                                                                                                                                                                                                                                                                                                                                                                                        7                 1\n",
            "8569        3      0            0                   3        2      Can't find my BC powder .. I'll just chug this children's Advil                                                                                                                                                                                                                                                                                                                                                                                                                                                                              12                1\n",
            "8568        3      0            3                   0        1      Can't even sleep in the fucking car because this mother fucker drives like a retard and pumps the breaks too hard                                                                                                                                                                                                                                                                                                                                                                                                                            21                1\n",
            "8567        3      0            0                   3        2      Can't beat a score of 12 on flappy bird #givingup                                                                                                                                                                                                                                                                                                                                                                                                                                                                                            10                1\n",
            "25296       3      0            0                   3        2      ~~Ruffled | Ntac Eileen Dahlia - Beautiful color combination of pink, orange, yellow &amp; white. A Coll http://t.co/H0dYEBvnZB                                                                                                                                                                                                                                                                                                                                                                                                              18                1\n",
            "Length: 19826, dtype: int64\n",
            "19826\n",
            "==============================\n",
            "===========Test Data =========\n",
            "Unnamed: 0  count  hate_speech  offensive_language  neither  class  tweet                                                                                                                                               Num_words_text\n",
            "8           3      0            3                   0        1      \" &amp; you might not get ya bitch back &amp; thats that \"                                                                                          13                1\n",
            "16783       3      0            0                   3        2      RT @McNarstle: ...and rounding out our CNN Ebola panel tonight, the monkey from the 1995 film, OUTBREAK.                                            17                1\n",
            "16847       3      0            3                   0        1      RT @Milesss_: If u say #blessed u r hashtag lying and r probably unhappy w/ ur life fake bitches lolz&#128514;                                      20                1\n",
            "16842       3      0            3                   0        1      RT @MikeyBlackheart: \"I never talk to anybody!\"\\n\\n*has dinner with family*\\n\\n\"I hate everyone!\"\\n\\n*defends 45 people when I call them cunts*     22                1\n",
            "16837       3      1            2                   0        1      RT @MikeDiggEm: Yo niggas would fuck with you broke or not if they really yo niggas. You a bitch if you only fuck with yo niggs when they g&#8230;  29                1\n",
            "                                                                                                                                                                                                                                         ..\n",
            "8228        3      0            0                   3        2      Bet Charlie Strong has contacted Ridley                                                                                                             6                 1\n",
            "8222        3      1            0                   2        2      Bengals kicker trash.                                                                                                                               3                 1\n",
            "8208        3      0            3                   0        1      Before I let a pussy cut my hair I just will let it grow                                                                                            14                1\n",
            "8198        3      0            2                   1        1      Because of the message that sends to LGBTQ residents in the state. Not as if West Virginia is a paradise for queer people. Today is major.          26                1\n",
            "25295       6      0            6                   0        1      youu got wild bitches tellin you lies                                                                                                               7                 1\n",
            "Length: 4957, dtype: int64\n",
            "4957\n",
            "==============================\n"
          ]
        }
      ]
    },
    {
      "cell_type": "code",
      "source": [
        "#train and validation dataset splitting\n",
        "X_train, X_valid, y_train, y_valid = train_test_split(train_data['tweet'].tolist(),\\\n",
        "                                                      train_data['count'].tolist(),\\\n",
        "                                                      # train_data['hate_speech'].tolist(),\\\n",
        "                                                      #   train_data['offensive_language'].tolist(),\\\n",
        "                                                      #   train_data['neither'].tolist(),\\\n",
        "                                                      #   train_data['class'].tolist(),\\\n",
        "                                                      test_size=0.2,\\\n",
        "                                                      stratify = train_data['class'].tolist(),\\\n",
        "                                                      random_state=0)\n",
        "\n",
        "\n",
        "print('Train data len:'+str(len(X_train)))\n",
        "print('Class distribution'+str(Counter(y_train)))\n",
        "print('Valid data len:'+str(len(X_valid)))\n",
        "print('Class distribution'+ str(Counter(y_valid)))"
      ],
      "metadata": {
        "colab": {
          "base_uri": "https://localhost:8080/"
        },
        "id": "MFArtdHzjLH8",
        "outputId": "b58b8c74-429a-44de-97d4-f0d056cd3b03"
      },
      "execution_count": 45,
      "outputs": [
        {
          "output_type": "stream",
          "name": "stdout",
          "text": [
            "Train data len:15860\n",
            "Class distributionCounter({3: 14588, 6: 1016, 4: 130, 9: 114, 7: 12})\n",
            "Valid data len:3966\n",
            "Class distributionCounter({3: 3668, 6: 234, 4: 35, 9: 23, 7: 6})\n"
          ]
        }
      ]
    },
    {
      "cell_type": "code",
      "source": [
        "num_words = 50000\n",
        "\n",
        "tokenizer = Tokenizer(num_words=num_words,oov_token=\"unk\")\n",
        "tokenizer.fit_on_texts(X_train)"
      ],
      "metadata": {
        "id": "qFDikgtCjmco"
      },
      "execution_count": 46,
      "outputs": []
    },
    {
      "cell_type": "code",
      "source": [
        "#convert sentences to sequences of numbers\n",
        "x_train = np.array( tokenizer.texts_to_sequences(X_train) )\n",
        "x_valid = np.array( tokenizer.texts_to_sequences(X_valid) )\n",
        "x_test  = np.array( tokenizer.texts_to_sequences(test_data['tweet'].tolist()) )\n",
        "\n",
        "#padding\n",
        "maxlen=50\n",
        "x_train = pad_sequences(x_train, padding='post', maxlen=maxlen)\n",
        "x_valid = pad_sequences(x_valid, padding='post', maxlen=maxlen)\n",
        "x_test = pad_sequences(x_test, padding='post', maxlen=maxlen)\n",
        "\n",
        "\n",
        "train_labels = np.asarray(y_train)\n",
        "valid_labels = np.asarray(y_valid)\n",
        "test_labels = np.asarray(test_data['count'].tolist())\n",
        "\n",
        "\n",
        "print('Train data len:'+str(len(x_train)))\n",
        "print('Class distribution'+str(Counter(train_labels)))\n",
        "\n",
        "print('Validation data len:'+str(len(x_valid)))\n",
        "print('Class distribution'+str(Counter(valid_labels)))\n",
        "\n",
        "print('Test data len:'+str(len(x_test)))\n",
        "print('Class distribution'+str(Counter(test_labels)))\n",
        "\n",
        "#tensorflow dataset preparation\n",
        "train_ds = tf.data.Dataset.from_tensor_slices((x_train,train_labels))\n",
        "valid_ds = tf.data.Dataset.from_tensor_slices((x_valid,valid_labels))\n",
        "test_ds = tf.data.Dataset.from_tensor_slices((x_test,test_labels))"
      ],
      "metadata": {
        "colab": {
          "base_uri": "https://localhost:8080/"
        },
        "id": "bPdYDYpSlVhh",
        "outputId": "af05de28-02dd-497c-8c00-d4b3764c7f58"
      },
      "execution_count": 49,
      "outputs": [
        {
          "output_type": "stream",
          "name": "stdout",
          "text": [
            "Train data len:15860\n",
            "Class distributionCounter({3: 14588, 6: 1016, 4: 130, 9: 114, 7: 12})\n",
            "Validation data len:3966\n",
            "Class distributionCounter({3: 3668, 6: 234, 4: 35, 9: 23, 7: 6})\n",
            "Test data len:4957\n",
            "Class distributionCounter({3: 4551, 6: 321, 4: 46, 9: 30, 7: 9})\n"
          ]
        }
      ]
    },
    {
      "cell_type": "code",
      "source": [
        "test_labels = np.asarray(test_data['hate_speech'].tolist())\n",
        "print('Test data len:'+str(len(x_test)))\n",
        "print('Class distribution'+str(Counter(test_labels)))\n",
        "\n",
        "test_labels = np.asarray(test_data['offensive_language'].tolist())\n",
        "print('Test data len:'+str(len(x_test)))\n",
        "print('Class distribution'+str(Counter(test_labels)))\n",
        "\n",
        "test_labels = np.asarray(test_data['neither'].tolist())\n",
        "print('Test data len:'+str(len(x_test)))\n",
        "print('Class distribution'+str(Counter(test_labels)))\n",
        "\n",
        "test_labels = np.asarray(test_data['class'].tolist())\n",
        "print('Test data len:'+str(len(x_test)))\n",
        "print('Class distribution'+str(Counter(test_labels)))"
      ],
      "metadata": {
        "colab": {
          "base_uri": "https://localhost:8080/"
        },
        "id": "tJ-I249clb9w",
        "outputId": "ecc8a794-ee2a-4826-a4ab-de762ddf9f28"
      },
      "execution_count": 54,
      "outputs": [
        {
          "output_type": "stream",
          "name": "stdout",
          "text": [
            "Test data len:4957\n",
            "Class distributionCounter({0: 3970, 1: 696, 2: 226, 3: 56, 4: 6, 6: 2, 5: 1})\n",
            "Test data len:4957\n",
            "Class distributionCounter({3: 2663, 2: 868, 0: 716, 1: 391, 6: 175, 5: 62, 4: 54, 9: 20, 7: 4, 8: 4})\n",
            "Test data len:4957\n",
            "Class distributionCounter({0: 3758, 3: 569, 1: 339, 2: 241, 6: 24, 5: 15, 4: 7, 8: 2, 9: 1, 7: 1})\n",
            "Test data len:4957\n",
            "Class distributionCounter({1: 3842, 2: 853, 0: 262})\n"
          ]
        }
      ]
    },
    {
      "cell_type": "code",
      "source": [],
      "metadata": {
        "id": "6xWWCfBQmZez"
      },
      "execution_count": null,
      "outputs": []
    }
  ]
}