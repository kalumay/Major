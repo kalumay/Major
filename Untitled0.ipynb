{
  "nbformat": 4,
  "nbformat_minor": 0,
  "metadata": {
    "colab": {
      "provenance": [],
      "toc_visible": true,
      "mount_file_id": "1R1kH1FeXIZvix8EQJWnzKJVGQu5UQA3r",
      "authorship_tag": "ABX9TyOFlK+s6ebu2PkP0TI4E/Xb",
      "include_colab_link": true
    },
    "kernelspec": {
      "name": "python3",
      "display_name": "Python 3"
    },
    "language_info": {
      "name": "python"
    }
  },
  "cells": [
    {
      "cell_type": "markdown",
      "metadata": {
        "id": "view-in-github",
        "colab_type": "text"
      },
      "source": [
        "<a href=\"https://colab.research.google.com/github/kalumay/Major/blob/master/Untitled0.ipynb\" target=\"_parent\"><img src=\"https://colab.research.google.com/assets/colab-badge.svg\" alt=\"Open In Colab\"/></a>"
      ]
    },
    {
      "cell_type": "code",
      "source": [
        "from google.colab  import drive\n",
        "drive.mount('/content/drive')"
      ],
      "metadata": {
        "id": "1CmJjKrfkxC2",
        "colab": {
          "base_uri": "https://localhost:8080/"
        },
        "outputId": "d55699ce-bcfd-4812-e440-8787d25476a1"
      },
      "execution_count": 1,
      "outputs": [
        {
          "output_type": "stream",
          "name": "stdout",
          "text": [
            "Drive already mounted at /content/drive; to attempt to forcibly remount, call drive.mount(\"/content/drive\", force_remount=True).\n"
          ]
        }
      ]
    },
    {
      "cell_type": "code",
      "source": [
        "data_path='/content/drive/MyDrive/Colab Notebooks/Datas/'"
      ],
      "metadata": {
        "id": "Q1bXNsV6taTT"
      },
      "execution_count": 2,
      "outputs": []
    },
    {
      "cell_type": "code",
      "source": [
        "import os\n",
        "import re\n",
        "import string\n",
        "\n",
        "import pandas as pd\n",
        "import numpy as np\n",
        "\n",
        "from collections import Counter\n",
        "\n",
        "import sklearn\n",
        "from sklearn.model_selection import train_test_split\n",
        "from sklearn.metrics import classification_report\n",
        "\n",
        "import tensorflow as tf\n",
        "from tensorflow.keras import layers\n",
        "from tensorflow.keras import losses\n",
        "from tensorflow.keras import regularizers\n",
        "from tensorflow.keras import preprocessing\n",
        "from tensorflow.keras.preprocessing.text import Tokenizer\n",
        "from tensorflow.keras.preprocessing.sequence import pad_sequences\n",
        "\n",
        "import matplotlib as mpl\n",
        "import matplotlib.pyplot as plt\n",
        "import seaborn as sns\n",
        "\n",
        "\n",
        "import warnings\n",
        "warnings.filterwarnings('ignore')"
      ],
      "metadata": {
        "id": "zvtNkoqqvaT3"
      },
      "execution_count": 3,
      "outputs": []
    },
    {
      "cell_type": "code",
      "source": [
        "ds=pd.read_csv('/content/drive/MyDrive/Colab Notebooks/Datas/labeled_data.csv/labeled_data.csv')"
      ],
      "metadata": {
        "id": "KjeLWrCqzLLJ"
      },
      "execution_count": 4,
      "outputs": []
    },
    {
      "cell_type": "code",
      "source": [
        "print(ds.to_string)"
      ],
      "metadata": {
        "colab": {
          "base_uri": "https://localhost:8080/"
        },
        "id": "TcxujE66z9r9",
        "outputId": "47ffab0d-6a4c-44cc-dbfe-c6e44a8162df"
      },
      "execution_count": 5,
      "outputs": [
        {
          "output_type": "stream",
          "name": "stdout",
          "text": [
            "<bound method DataFrame.to_string of        Unnamed: 0  count  hate_speech  offensive_language  neither  class  \\\n",
            "0               0      3            0                   0        3      2   \n",
            "1               1      3            0                   3        0      1   \n",
            "2               2      3            0                   3        0      1   \n",
            "3               3      3            0                   2        1      1   \n",
            "4               4      6            0                   6        0      1   \n",
            "...           ...    ...          ...                 ...      ...    ...   \n",
            "24778       25291      3            0                   2        1      1   \n",
            "24779       25292      3            0                   1        2      2   \n",
            "24780       25294      3            0                   3        0      1   \n",
            "24781       25295      6            0                   6        0      1   \n",
            "24782       25296      3            0                   0        3      2   \n",
            "\n",
            "                                                   tweet  \n",
            "0      !!! RT @mayasolovely: As a woman you shouldn't...  \n",
            "1      !!!!! RT @mleew17: boy dats cold...tyga dwn ba...  \n",
            "2      !!!!!!! RT @UrKindOfBrand Dawg!!!! RT @80sbaby...  \n",
            "3      !!!!!!!!! RT @C_G_Anderson: @viva_based she lo...  \n",
            "4      !!!!!!!!!!!!! RT @ShenikaRoberts: The shit you...  \n",
            "...                                                  ...  \n",
            "24778  you's a muthaf***in lie &#8220;@LifeAsKing: @2...  \n",
            "24779  you've gone and broke the wrong heart baby, an...  \n",
            "24780  young buck wanna eat!!.. dat nigguh like I ain...  \n",
            "24781              youu got wild bitches tellin you lies  \n",
            "24782  ~~Ruffled | Ntac Eileen Dahlia - Beautiful col...  \n",
            "\n",
            "[24783 rows x 7 columns]>\n"
          ]
        }
      ]
    },
    {
      "cell_type": "code",
      "source": [
        "directory_names = os.listdir(data_path)\n",
        "\n",
        "for directory in directory_names:\n",
        "    dir_path = os.path.join(data_path, directory)\n",
        "    if os.path.isdir(dir_path):\n",
        "        files = os.listdir(dir_path)\n",
        "        print(f\"{len(files)} \\t {directory}\")\n",
        "        for file in files:\n",
        "          file_path = os.path.join(dir_path, file)\n",
        "          if file.endswith('.csv'):\n",
        "              data_path = pd.read_csv(file_path)\n",
        "              print(f\"\\nData in {file}:\\n{data_path.head()}\\n\")"
      ],
      "metadata": {
        "colab": {
          "base_uri": "https://localhost:8080/"
        },
        "id": "CaxhIIhicyfa",
        "outputId": "549abf49-0475-48df-9e60-8b19efc67472"
      },
      "execution_count": 6,
      "outputs": [
        {
          "output_type": "stream",
          "name": "stdout",
          "text": [
            "1 \t labeled_data.csv\n",
            "\n",
            "Data in labeled_data.csv:\n",
            "   Unnamed: 0  count  hate_speech  offensive_language  neither  class  \\\n",
            "0           0      3            0                   0        3      2   \n",
            "1           1      3            0                   3        0      1   \n",
            "2           2      3            0                   3        0      1   \n",
            "3           3      3            0                   2        1      1   \n",
            "4           4      6            0                   6        0      1   \n",
            "\n",
            "                                               tweet  \n",
            "0  !!! RT @mayasolovely: As a woman you shouldn't...  \n",
            "1  !!!!! RT @mleew17: boy dats cold...tyga dwn ba...  \n",
            "2  !!!!!!! RT @UrKindOfBrand Dawg!!!! RT @80sbaby...  \n",
            "3  !!!!!!!!! RT @C_G_Anderson: @viva_based she lo...  \n",
            "4  !!!!!!!!!!!!! RT @ShenikaRoberts: The shit you...  \n",
            "\n"
          ]
        }
      ]
    },
    {
      "cell_type": "code",
      "source": [
        "csv_file_path = '/content/drive/MyDrive/Colab Notebooks/Datas/labeled_data.csv/labeled_data.csv'\n",
        "data_path='/content/drive/MyDrive/Colab Notebooks/Datas/'\n",
        "meta = pd.read_csv(os.path.join(data_path, csv_file_path))\n",
        "meta.head()\n"
      ],
      "metadata": {
        "colab": {
          "base_uri": "https://localhost:8080/",
          "height": 486
        },
        "id": "caplOqkMc7VW",
        "outputId": "cd35515f-5865-48c6-a85a-d022334a98b5"
      },
      "execution_count": 7,
      "outputs": [
        {
          "output_type": "execute_result",
          "data": {
            "text/plain": [
              "   Unnamed: 0  count  hate_speech  offensive_language  neither  class  \\\n",
              "0           0      3            0                   0        3      2   \n",
              "1           1      3            0                   3        0      1   \n",
              "2           2      3            0                   3        0      1   \n",
              "3           3      3            0                   2        1      1   \n",
              "4           4      6            0                   6        0      1   \n",
              "\n",
              "                                               tweet  \n",
              "0  !!! RT @mayasolovely: As a woman you shouldn't...  \n",
              "1  !!!!! RT @mleew17: boy dats cold...tyga dwn ba...  \n",
              "2  !!!!!!! RT @UrKindOfBrand Dawg!!!! RT @80sbaby...  \n",
              "3  !!!!!!!!! RT @C_G_Anderson: @viva_based she lo...  \n",
              "4  !!!!!!!!!!!!! RT @ShenikaRoberts: The shit you...  "
            ],
            "text/html": [
              "\n",
              "  <div id=\"df-4a8d6307-a16e-4011-a957-ff3a259aeb9e\" class=\"colab-df-container\">\n",
              "    <div>\n",
              "<style scoped>\n",
              "    .dataframe tbody tr th:only-of-type {\n",
              "        vertical-align: middle;\n",
              "    }\n",
              "\n",
              "    .dataframe tbody tr th {\n",
              "        vertical-align: top;\n",
              "    }\n",
              "\n",
              "    .dataframe thead th {\n",
              "        text-align: right;\n",
              "    }\n",
              "</style>\n",
              "<table border=\"1\" class=\"dataframe\">\n",
              "  <thead>\n",
              "    <tr style=\"text-align: right;\">\n",
              "      <th></th>\n",
              "      <th>Unnamed: 0</th>\n",
              "      <th>count</th>\n",
              "      <th>hate_speech</th>\n",
              "      <th>offensive_language</th>\n",
              "      <th>neither</th>\n",
              "      <th>class</th>\n",
              "      <th>tweet</th>\n",
              "    </tr>\n",
              "  </thead>\n",
              "  <tbody>\n",
              "    <tr>\n",
              "      <th>0</th>\n",
              "      <td>0</td>\n",
              "      <td>3</td>\n",
              "      <td>0</td>\n",
              "      <td>0</td>\n",
              "      <td>3</td>\n",
              "      <td>2</td>\n",
              "      <td>!!! RT @mayasolovely: As a woman you shouldn't...</td>\n",
              "    </tr>\n",
              "    <tr>\n",
              "      <th>1</th>\n",
              "      <td>1</td>\n",
              "      <td>3</td>\n",
              "      <td>0</td>\n",
              "      <td>3</td>\n",
              "      <td>0</td>\n",
              "      <td>1</td>\n",
              "      <td>!!!!! RT @mleew17: boy dats cold...tyga dwn ba...</td>\n",
              "    </tr>\n",
              "    <tr>\n",
              "      <th>2</th>\n",
              "      <td>2</td>\n",
              "      <td>3</td>\n",
              "      <td>0</td>\n",
              "      <td>3</td>\n",
              "      <td>0</td>\n",
              "      <td>1</td>\n",
              "      <td>!!!!!!! RT @UrKindOfBrand Dawg!!!! RT @80sbaby...</td>\n",
              "    </tr>\n",
              "    <tr>\n",
              "      <th>3</th>\n",
              "      <td>3</td>\n",
              "      <td>3</td>\n",
              "      <td>0</td>\n",
              "      <td>2</td>\n",
              "      <td>1</td>\n",
              "      <td>1</td>\n",
              "      <td>!!!!!!!!! RT @C_G_Anderson: @viva_based she lo...</td>\n",
              "    </tr>\n",
              "    <tr>\n",
              "      <th>4</th>\n",
              "      <td>4</td>\n",
              "      <td>6</td>\n",
              "      <td>0</td>\n",
              "      <td>6</td>\n",
              "      <td>0</td>\n",
              "      <td>1</td>\n",
              "      <td>!!!!!!!!!!!!! RT @ShenikaRoberts: The shit you...</td>\n",
              "    </tr>\n",
              "  </tbody>\n",
              "</table>\n",
              "</div>\n",
              "    <div class=\"colab-df-buttons\">\n",
              "\n",
              "  <div class=\"colab-df-container\">\n",
              "    <button class=\"colab-df-convert\" onclick=\"convertToInteractive('df-4a8d6307-a16e-4011-a957-ff3a259aeb9e')\"\n",
              "            title=\"Convert this dataframe to an interactive table.\"\n",
              "            style=\"display:none;\">\n",
              "\n",
              "  <svg xmlns=\"http://www.w3.org/2000/svg\" height=\"24px\" viewBox=\"0 -960 960 960\">\n",
              "    <path d=\"M120-120v-720h720v720H120Zm60-500h600v-160H180v160Zm220 220h160v-160H400v160Zm0 220h160v-160H400v160ZM180-400h160v-160H180v160Zm440 0h160v-160H620v160ZM180-180h160v-160H180v160Zm440 0h160v-160H620v160Z\"/>\n",
              "  </svg>\n",
              "    </button>\n",
              "\n",
              "  <style>\n",
              "    .colab-df-container {\n",
              "      display:flex;\n",
              "      gap: 12px;\n",
              "    }\n",
              "\n",
              "    .colab-df-convert {\n",
              "      background-color: #E8F0FE;\n",
              "      border: none;\n",
              "      border-radius: 50%;\n",
              "      cursor: pointer;\n",
              "      display: none;\n",
              "      fill: #1967D2;\n",
              "      height: 32px;\n",
              "      padding: 0 0 0 0;\n",
              "      width: 32px;\n",
              "    }\n",
              "\n",
              "    .colab-df-convert:hover {\n",
              "      background-color: #E2EBFA;\n",
              "      box-shadow: 0px 1px 2px rgba(60, 64, 67, 0.3), 0px 1px 3px 1px rgba(60, 64, 67, 0.15);\n",
              "      fill: #174EA6;\n",
              "    }\n",
              "\n",
              "    .colab-df-buttons div {\n",
              "      margin-bottom: 4px;\n",
              "    }\n",
              "\n",
              "    [theme=dark] .colab-df-convert {\n",
              "      background-color: #3B4455;\n",
              "      fill: #D2E3FC;\n",
              "    }\n",
              "\n",
              "    [theme=dark] .colab-df-convert:hover {\n",
              "      background-color: #434B5C;\n",
              "      box-shadow: 0px 1px 3px 1px rgba(0, 0, 0, 0.15);\n",
              "      filter: drop-shadow(0px 1px 2px rgba(0, 0, 0, 0.3));\n",
              "      fill: #FFFFFF;\n",
              "    }\n",
              "  </style>\n",
              "\n",
              "    <script>\n",
              "      const buttonEl =\n",
              "        document.querySelector('#df-4a8d6307-a16e-4011-a957-ff3a259aeb9e button.colab-df-convert');\n",
              "      buttonEl.style.display =\n",
              "        google.colab.kernel.accessAllowed ? 'block' : 'none';\n",
              "\n",
              "      async function convertToInteractive(key) {\n",
              "        const element = document.querySelector('#df-4a8d6307-a16e-4011-a957-ff3a259aeb9e');\n",
              "        const dataTable =\n",
              "          await google.colab.kernel.invokeFunction('convertToInteractive',\n",
              "                                                    [key], {});\n",
              "        if (!dataTable) return;\n",
              "\n",
              "        const docLinkHtml = 'Like what you see? Visit the ' +\n",
              "          '<a target=\"_blank\" href=https://colab.research.google.com/notebooks/data_table.ipynb>data table notebook</a>'\n",
              "          + ' to learn more about interactive tables.';\n",
              "        element.innerHTML = '';\n",
              "        dataTable['output_type'] = 'display_data';\n",
              "        await google.colab.output.renderOutput(dataTable, element);\n",
              "        const docLink = document.createElement('div');\n",
              "        docLink.innerHTML = docLinkHtml;\n",
              "        element.appendChild(docLink);\n",
              "      }\n",
              "    </script>\n",
              "  </div>\n",
              "\n",
              "\n",
              "<div id=\"df-6a25253f-dfdd-434d-ba11-441a4c13e8c5\">\n",
              "  <button class=\"colab-df-quickchart\" onclick=\"quickchart('df-6a25253f-dfdd-434d-ba11-441a4c13e8c5')\"\n",
              "            title=\"Suggest charts\"\n",
              "            style=\"display:none;\">\n",
              "\n",
              "<svg xmlns=\"http://www.w3.org/2000/svg\" height=\"24px\"viewBox=\"0 0 24 24\"\n",
              "     width=\"24px\">\n",
              "    <g>\n",
              "        <path d=\"M19 3H5c-1.1 0-2 .9-2 2v14c0 1.1.9 2 2 2h14c1.1 0 2-.9 2-2V5c0-1.1-.9-2-2-2zM9 17H7v-7h2v7zm4 0h-2V7h2v10zm4 0h-2v-4h2v4z\"/>\n",
              "    </g>\n",
              "</svg>\n",
              "  </button>\n",
              "\n",
              "<style>\n",
              "  .colab-df-quickchart {\n",
              "      --bg-color: #E8F0FE;\n",
              "      --fill-color: #1967D2;\n",
              "      --hover-bg-color: #E2EBFA;\n",
              "      --hover-fill-color: #174EA6;\n",
              "      --disabled-fill-color: #AAA;\n",
              "      --disabled-bg-color: #DDD;\n",
              "  }\n",
              "\n",
              "  [theme=dark] .colab-df-quickchart {\n",
              "      --bg-color: #3B4455;\n",
              "      --fill-color: #D2E3FC;\n",
              "      --hover-bg-color: #434B5C;\n",
              "      --hover-fill-color: #FFFFFF;\n",
              "      --disabled-bg-color: #3B4455;\n",
              "      --disabled-fill-color: #666;\n",
              "  }\n",
              "\n",
              "  .colab-df-quickchart {\n",
              "    background-color: var(--bg-color);\n",
              "    border: none;\n",
              "    border-radius: 50%;\n",
              "    cursor: pointer;\n",
              "    display: none;\n",
              "    fill: var(--fill-color);\n",
              "    height: 32px;\n",
              "    padding: 0;\n",
              "    width: 32px;\n",
              "  }\n",
              "\n",
              "  .colab-df-quickchart:hover {\n",
              "    background-color: var(--hover-bg-color);\n",
              "    box-shadow: 0 1px 2px rgba(60, 64, 67, 0.3), 0 1px 3px 1px rgba(60, 64, 67, 0.15);\n",
              "    fill: var(--button-hover-fill-color);\n",
              "  }\n",
              "\n",
              "  .colab-df-quickchart-complete:disabled,\n",
              "  .colab-df-quickchart-complete:disabled:hover {\n",
              "    background-color: var(--disabled-bg-color);\n",
              "    fill: var(--disabled-fill-color);\n",
              "    box-shadow: none;\n",
              "  }\n",
              "\n",
              "  .colab-df-spinner {\n",
              "    border: 2px solid var(--fill-color);\n",
              "    border-color: transparent;\n",
              "    border-bottom-color: var(--fill-color);\n",
              "    animation:\n",
              "      spin 1s steps(1) infinite;\n",
              "  }\n",
              "\n",
              "  @keyframes spin {\n",
              "    0% {\n",
              "      border-color: transparent;\n",
              "      border-bottom-color: var(--fill-color);\n",
              "      border-left-color: var(--fill-color);\n",
              "    }\n",
              "    20% {\n",
              "      border-color: transparent;\n",
              "      border-left-color: var(--fill-color);\n",
              "      border-top-color: var(--fill-color);\n",
              "    }\n",
              "    30% {\n",
              "      border-color: transparent;\n",
              "      border-left-color: var(--fill-color);\n",
              "      border-top-color: var(--fill-color);\n",
              "      border-right-color: var(--fill-color);\n",
              "    }\n",
              "    40% {\n",
              "      border-color: transparent;\n",
              "      border-right-color: var(--fill-color);\n",
              "      border-top-color: var(--fill-color);\n",
              "    }\n",
              "    60% {\n",
              "      border-color: transparent;\n",
              "      border-right-color: var(--fill-color);\n",
              "    }\n",
              "    80% {\n",
              "      border-color: transparent;\n",
              "      border-right-color: var(--fill-color);\n",
              "      border-bottom-color: var(--fill-color);\n",
              "    }\n",
              "    90% {\n",
              "      border-color: transparent;\n",
              "      border-bottom-color: var(--fill-color);\n",
              "    }\n",
              "  }\n",
              "</style>\n",
              "\n",
              "  <script>\n",
              "    async function quickchart(key) {\n",
              "      const quickchartButtonEl =\n",
              "        document.querySelector('#' + key + ' button');\n",
              "      quickchartButtonEl.disabled = true;  // To prevent multiple clicks.\n",
              "      quickchartButtonEl.classList.add('colab-df-spinner');\n",
              "      try {\n",
              "        const charts = await google.colab.kernel.invokeFunction(\n",
              "            'suggestCharts', [key], {});\n",
              "      } catch (error) {\n",
              "        console.error('Error during call to suggestCharts:', error);\n",
              "      }\n",
              "      quickchartButtonEl.classList.remove('colab-df-spinner');\n",
              "      quickchartButtonEl.classList.add('colab-df-quickchart-complete');\n",
              "    }\n",
              "    (() => {\n",
              "      let quickchartButtonEl =\n",
              "        document.querySelector('#df-6a25253f-dfdd-434d-ba11-441a4c13e8c5 button');\n",
              "      quickchartButtonEl.style.display =\n",
              "        google.colab.kernel.accessAllowed ? 'block' : 'none';\n",
              "    })();\n",
              "  </script>\n",
              "</div>\n",
              "    </div>\n",
              "  </div>\n"
            ]
          },
          "metadata": {},
          "execution_count": 7
        }
      ]
    },
    {
      "cell_type": "code",
      "source": [
        "# ## distribution of count\n",
        "meta.groupby('count')['count'].count().sort_values().plot.barh(figsize=(5,3))"
      ],
      "metadata": {
        "colab": {
          "base_uri": "https://localhost:8080/",
          "height": 308
        },
        "id": "dKYhgR_7dHgI",
        "outputId": "7ce6cdf3-e10a-40ed-869c-85a0292eb715"
      },
      "execution_count": 8,
      "outputs": [
        {
          "output_type": "execute_result",
          "data": {
            "text/plain": [
              "<Axes: ylabel='count'>"
            ]
          },
          "metadata": {},
          "execution_count": 8
        },
        {
          "output_type": "display_data",
          "data": {
            "text/plain": [
              "<Figure size 500x300 with 1 Axes>"
            ],
            "image/png": "[encoded data removed]"
          },
          "metadata": {}
        }
      ]
    },
    {
      "cell_type": "markdown",
      "source": [
        "# New section"
      ],
      "metadata": {
        "id": "Cf0TbPZ9oJNe"
      }
    },
    {
      "cell_type": "code",
      "source": [
        "# ## distribution of hate_speech\n",
        "meta.groupby('hate_speech')['hate_speech'].count().sort_values().plot.barh(figsize=(5,3))"
      ],
      "metadata": {
        "colab": {
          "base_uri": "https://localhost:8080/",
          "height": 308
        },
        "id": "JHzL9Yc5fAHV",
        "outputId": "23b098e7-b812-4e5c-ef18-0fa639ec2490"
      },
      "execution_count": 9,
      "outputs": [
        {
          "output_type": "execute_result",
          "data": {
            "text/plain": [
              "<Axes: ylabel='hate_speech'>"
            ]
          },
          "metadata": {},
          "execution_count": 9
        },
        {
          "output_type": "display_data",
          "data": {
            "text/plain": [
              "<Figure size 500x300 with 1 Axes>"
            ],
            "image/png": "[encoded data removed]"
          },
          "metadata": {}
        }
      ]
    },
    {
      "cell_type": "code",
      "source": [
        "# ## distribution of offensive_language\n",
        "meta.groupby('offensive_language')['offensive_language'].count().sort_values().plot.barh(figsize=(5,3))"
      ],
      "metadata": {
        "colab": {
          "base_uri": "https://localhost:8080/",
          "height": 308
        },
        "id": "jnYFqESofOLZ",
        "outputId": "6ec09e29-9ff5-4889-8410-da13dec8ef1b"
      },
      "execution_count": 10,
      "outputs": [
        {
          "output_type": "execute_result",
          "data": {
            "text/plain": [
              "<Axes: ylabel='offensive_language'>"
            ]
          },
          "metadata": {},
          "execution_count": 10
        },
        {
          "output_type": "display_data",
          "data": {
            "text/plain": [
              "<Figure size 500x300 with 1 Axes>"
            ],
            "image/png": "[encoded data removed]"
          },
          "metadata": {}
        }
      ]
    },
    {
      "cell_type": "code",
      "source": [
        "# ## distribution of neither\n",
        "meta.groupby('neither')['neither'].count().sort_values().plot.barh(figsize=(5,3))"
      ],
      "metadata": {
        "colab": {
          "base_uri": "https://localhost:8080/",
          "height": 308
        },
        "id": "FQeTmeiofbH2",
        "outputId": "786e8188-8275-4bed-e2b5-bf202125b19e"
      },
      "execution_count": 11,
      "outputs": [
        {
          "output_type": "execute_result",
          "data": {
            "text/plain": [
              "<Axes: ylabel='neither'>"
            ]
          },
          "metadata": {},
          "execution_count": 11
        },
        {
          "output_type": "display_data",
          "data": {
            "text/plain": [
              "<Figure size 500x300 with 1 Axes>"
            ],
            "image/png": "[encoded data removed]"
          },
          "metadata": {}
        }
      ]
    },
    {
      "cell_type": "code",
      "source": [
        "#preprocess train dataset\n",
        "ds['Num_words_text'] = ds['tweet'].apply(lambda x:len(str(x).split()))\n",
        "\n",
        "train_data,test_data= train_test_split(ds, test_size=0.2)\n",
        "train_data.reset_index(drop=True,inplace=True)\n",
        "test_data.reset_index(drop=True,inplace=True)"
      ],
      "metadata": {
        "id": "jFeU2Rlof2tW"
      },
      "execution_count": 12,
      "outputs": []
    },
    {
      "cell_type": "code",
      "source": [
        "#classes proportion in dependent variable in train and test dataset\n",
        "print('===========Train Data =========')\n",
        "print(train_data.value_counts())\n",
        "print(len(train_data))\n",
        "print('==============================')\n",
        "\n",
        "print('===========Test Data =========')\n",
        "print(test_data.value_counts())\n",
        "print(len(test_data))\n",
        "print('==============================')"
      ],
      "metadata": {
        "colab": {
          "base_uri": "https://localhost:8080/"
        },
        "id": "EIWbompbhP7E",
        "outputId": "462fb0a3-90fb-40a2-a976-2c27d1490e82"
      },
      "execution_count": 13,
      "outputs": [
        {
          "output_type": "stream",
          "name": "stdout",
          "text": [
            "===========Train Data =========\n",
            "Unnamed: 0  count  hate_speech  offensive_language  neither  class  tweet                                                                                                                                               Num_words_text\n",
            "0           3      0            0                   3        2      !!! RT @mayasolovely: As a woman you shouldn't complain about cleaning up your house. &amp; as a man you should always take the trash out...        25                1\n",
            "16899       3      0            3                   0        1      RT @MrFrankOcean__: Kim K a hoe, because she fucked 4 dudes we see on TV? Some of you hoes have fucked 40 dudes that don't even got a TV ...        30                1\n",
            "16906       3      0            3                   0        1      RT @MrPOONsoaker: Foh RT @Thotcho: @MrPOONsoaker lmao 6&#8242;0 but I&#8217;m hella skinny so bitches don&#8217;t like me                           17                1\n",
            "16905       3      0            3                   0        1      RT @MrNationWide: fake eyelashes are okay if they look natural, but some of you bitches look like you gonna take flight if you blink too fa&#8230;  26                1\n",
            "16904       3      1            2                   0        1      RT @MrNBAallday: Kobe calls Dwight Howard a \"bitch ass nigga\" &#128514;&#128514;\\n\\nhttps://t.co/9l5E8kKW7D                                         12                1\n",
            "                                                                                                                                                                                                                                         ..\n",
            "8374        3      0            3                   0        1      Bout to get a breasts reduction these bitches be in the way&#128530;                                                                                12                1\n",
            "8372        3      1            2                   0        1      Bout to bust this bitch wide open. Such a waste of money!                                                                                           12                1\n",
            "8370        3      0            3                   0        1      Bout tht time where the hoes are gettin dicked down                                                                                                 10                1\n",
            "8369        3      0            0                   3        2      Bought this Lp in Manchester the other week, had no idea it was coloured vinyl. Man what a steal!!!!! #VinylGasm #Re-Machined                       21                1\n",
            "25296       3      0            0                   3        2      ~~Ruffled | Ntac Eileen Dahlia - Beautiful color combination of pink, orange, yellow &amp; white. A Coll http://t.co/H0dYEBvnZB                     18                1\n",
            "Length: 19826, dtype: int64\n",
            "19826\n",
            "==============================\n",
            "===========Test Data =========\n",
            "Unnamed: 0  count  hate_speech  offensive_language  neither  class  tweet                                                                                                                                  Num_words_text\n",
            "3           3      0            2                   1        1      !!!!!!!!! RT @C_G_Anderson: @viva_based she look like a tranny                                                                         9                 1\n",
            "16895       3      0            3                   0        1      RT @MrBrenBren: \"@1waynostra: These bitches crazzzyyyyyy\" maaannnnn                                                                    7                 1\n",
            "16925       3      0            0                   3        2      RT @MsKeeKee90s: @t_ndyy haha Oreo lol. Well I gota do dee's video for his dance soon, I can show you how to use equipment and that x  27                1\n",
            "16921       3      2            1                   0        0      RT @MrzSixTrue: Ill break a Bitch down, like the pussy she is.                                                                         12                1\n",
            "16919       3      0            3                   0        1      RT @Mr_buckets5: Lol Rahshauna has hoes                                                                                                6                 1\n",
            "                                                                                                                                                                                                                            ..\n",
            "8872        3      0            3                   0        1      Damn they act like Bron tore his ACL! Toughen up bitch! Lol                                                                            12                1\n",
            "8850        3      0            1                   2        2      Damn I think your redskins lost @KxRxSxB                                                                                               7                 1\n",
            "8834        3      0            0                   3        2      Dad bought me a brownie shake #lovehim                                                                                                 7                 1\n",
            "8832        3      0            3                   0        1      Daaamn lmao right back to them old ways RT @KingTralle Look at this hoe ass nigga covering Wiz face you hoe http://t.co/lpPToFmj5R     22                1\n",
            "25295       6      0            6                   0        1      youu got wild bitches tellin you lies                                                                                                  7                 1\n",
            "Length: 4957, dtype: int64\n",
            "4957\n",
            "==============================\n"
          ]
        }
      ]
    },
    {
      "cell_type": "code",
      "source": [
        "#train and validation dataset splitting\n",
        "X_train, X_valid, Y_train, Y_valid = train_test_split(train_data['tweet'].tolist(),\\\n",
        "                                                      train_data['count'].tolist(),\\\n",
        "                                                      # train_data['hate_speech'].tolist(),\\\n",
        "                                                      #   train_data['offensive_language'].tolist(),\\\n",
        "                                                      #   train_data['neither'].tolist(),\\\n",
        "                                                      #   train_data['class'].tolist(),\\\n",
        "                                                      test_size=0.2,\\\n",
        "                                                      stratify = train_data['class'].tolist(),\\\n",
        "                                                      random_state=0)\n",
        "\n",
        "\n",
        "print('Train data len:'+str(len(X_train)))\n",
        "print('Class distribution'+str(Counter(Y_train)))\n",
        "print('Valid data len:'+str(len(X_valid)))\n",
        "print('Class distribution'+ str(Counter(Y_valid)))"
      ],
      "metadata": {
        "colab": {
          "base_uri": "https://localhost:8080/"
        },
        "id": "MFArtdHzjLH8",
        "outputId": "42f89218-4e41-4fc8-ef52-2048ff20b1cb"
      },
      "execution_count": 14,
      "outputs": [
        {
          "output_type": "stream",
          "name": "stdout",
          "text": [
            "Train data len:15860\n",
            "Class distributionCounter({3: 14622, 6: 995, 4: 129, 9: 99, 7: 15})\n",
            "Valid data len:3966\n",
            "Class distributionCounter({3: 3659, 6: 239, 4: 37, 9: 25, 7: 6})\n"
          ]
        }
      ]
    },
    {
      "cell_type": "code",
      "source": [
        "num_words = 50000\n",
        "\n",
        "tokenizer = Tokenizer(num_words=num_words,oov_token=\"unk\")\n",
        "tokenizer.fit_on_texts(X_train)"
      ],
      "metadata": {
        "id": "qFDikgtCjmco"
      },
      "execution_count": 15,
      "outputs": []
    },
    {
      "cell_type": "code",
      "source": [
        "#convert sentences to sequences of numbers\n",
        "x_train = np.array( tokenizer.texts_to_sequences(X_train) )\n",
        "x_valid = np.array( tokenizer.texts_to_sequences(X_valid) )\n",
        "x_test  = np.array( tokenizer.texts_to_sequences(test_data['tweet'].tolist()) )\n",
        "\n",
        "y_train = np.array(Y_train)\n",
        "y_valid = np.array(Y_valid)\n",
        "y_test  = np.array( tokenizer.texts_to_sequences(test_data['tweet'].tolist()) )\n",
        "\n",
        "#padding\n",
        "maxlen=50\n",
        "x_train = pad_sequences(x_train, padding='post', maxlen=maxlen)\n",
        "x_valid = pad_sequences(x_valid, padding='post', maxlen=maxlen)\n",
        "x_test = pad_sequences(x_test, padding='post', maxlen=maxlen)\n",
        "\n",
        "\n",
        "train_labels = np.asarray(y_train)\n",
        "valid_labels = np.asarray(y_valid)\n",
        "test_labels = np.asarray(test_data['count'].tolist())\n",
        "\n",
        "\n",
        "print('Train data len:'+str(len(x_train)))\n",
        "print('Class distribution'+str(Counter(train_labels)))\n",
        "\n",
        "print('Validation data len:'+str(len(x_valid)))\n",
        "print('Class distribution'+str(Counter(valid_labels)))\n",
        "\n",
        "print('Test data len:'+str(len(x_test)))\n",
        "print('Class distribution'+str(Counter(test_labels)))\n",
        "\n",
        "#tensorflow dataset preparation\n",
        "train_ds = tf.data.Dataset.from_tensor_slices((x_train,train_labels))\n",
        "valid_ds = tf.data.Dataset.from_tensor_slices((x_valid,valid_labels))\n",
        "test_ds = tf.data.Dataset.from_tensor_slices((x_test,test_labels))"
      ],
      "metadata": {
        "colab": {
          "base_uri": "https://localhost:8080/"
        },
        "id": "bPdYDYpSlVhh",
        "outputId": "0ff3ebdd-ed1f-4afb-8559-8d5081ace943"
      },
      "execution_count": 16,
      "outputs": [
        {
          "output_type": "stream",
          "name": "stdout",
          "text": [
            "Train data len:15860\n",
            "Class distributionCounter({3: 14622, 6: 995, 4: 129, 9: 99, 7: 15})\n",
            "Validation data len:3966\n",
            "Class distributionCounter({3: 3659, 6: 239, 4: 37, 9: 25, 7: 6})\n",
            "Test data len:4957\n",
            "Class distributionCounter({3: 4526, 6: 337, 4: 45, 9: 43, 7: 6})\n"
          ]
        }
      ]
    },
    {
      "cell_type": "code",
      "source": [
        "test_labels = np.asarray(test_data['hate_speech'].tolist())\n",
        "print('Test data len:'+str(len(x_test)))\n",
        "print('Class distribution'+str(Counter(test_labels)))\n",
        "\n",
        "test_labels = np.asarray(test_data['offensive_language'].tolist())\n",
        "print('Test data len:'+str(len(x_test)))\n",
        "print('Class distribution'+str(Counter(test_labels)))\n",
        "\n",
        "test_labels = np.asarray(test_data['neither'].tolist())\n",
        "print('Test data len:'+str(len(x_test)))\n",
        "print('Class distribution'+str(Counter(test_labels)))\n",
        "\n",
        "test_labels = np.asarray(test_data['class'].tolist())\n",
        "print('Test data len:'+str(len(x_test)))\n",
        "print('Class distribution'+str(Counter(test_labels)))"
      ],
      "metadata": {
        "colab": {
          "base_uri": "https://localhost:8080/"
        },
        "id": "tJ-I249clb9w",
        "outputId": "bf07a5cc-3b4d-4725-9ac5-505f905856be"
      },
      "execution_count": 17,
      "outputs": [
        {
          "output_type": "stream",
          "name": "stdout",
          "text": [
            "Test data len:4957\n",
            "Class distributionCounter({0: 3934, 1: 706, 2: 241, 3: 62, 4: 7, 5: 3, 6: 2, 7: 2})\n",
            "Test data len:4957\n",
            "Class distributionCounter({3: 2670, 2: 861, 0: 672, 1: 405, 6: 187, 5: 80, 4: 53, 8: 14, 9: 10, 7: 5})\n",
            "Test data len:4957\n",
            "Class distributionCounter({0: 3796, 3: 522, 1: 347, 2: 247, 6: 18, 5: 15, 4: 7, 9: 2, 7: 2, 8: 1})\n",
            "Test data len:4957\n",
            "Class distributionCounter({1: 3869, 2: 804, 0: 284})\n"
          ]
        }
      ]
    },
    {
      "cell_type": "code",
      "source": [
        "from sklearn.feature_extraction.text import TfidfVectorizer\n",
        "vect = TfidfVectorizer(ngram_range=(1,2)).fit(ds['tweet'])"
      ],
      "metadata": {
        "id": "6xWWCfBQmZez"
      },
      "execution_count": 18,
      "outputs": []
    },
    {
      "cell_type": "code",
      "source": [
        "feature_names = vect.get_feature_names_out()\n",
        "print(\"Number of features: {}\\n\".format(len(feature_names)))\n",
        "print(\"First 20 features:\\n{}\".format(feature_names[:20]))"
      ],
      "metadata": {
        "colab": {
          "base_uri": "https://localhost:8080/"
        },
        "id": "05TSUpBjK-5-",
        "outputId": "255fe763-894a-4135-8724-9abeadbe910f"
      },
      "execution_count": 19,
      "outputs": [
        {
          "output_type": "stream",
          "name": "stdout",
          "text": [
            "Number of features: 208234\n",
            "\n",
            "First 20 features:\n",
            "['00' '00 bet' '00 burg' '00 lives' '00 pm' '000' '000 000' '000 128514'\n",
            " '000 8230' '000 birds' '000 bitches' '000 deaths' '000 dinner'\n",
            " '000 dollars' '000 elixer' '000 florida' '000 followers' '000 from'\n",
            " '000 neworleans' '000 person']\n"
          ]
        }
      ]
    },
    {
      "cell_type": "code",
      "source": [
        "from sklearn.linear_model import LogisticRegression\n",
        "from sklearn.metrics import accuracy_score\n",
        "# logreg= LogisticRegression()\n",
        "# logreg.fit(x_train, y_train)\n",
        "# logreg_predict= logreg.predict(x_test)\n",
        "# logreg_acc= accuracy_score(logreg_predict, test_labels)\n",
        "# print(\"test accuracy:{:.2f}%\".format(logreg_acc*100))\n",
        "#model preparation\n",
        "max_features =50000\n",
        "embedding_dim =16\n",
        "sequence_length = maxlen\n",
        "\n",
        "model = tf.keras.Sequential()\n",
        "model.add(tf.keras.layers.Embedding(max_features +1, embedding_dim, input_length=sequence_length,\\\n",
        "                                    embeddings_regularizer = regularizers.l2(0.005)))\n",
        "model.add(tf.keras.layers.Dropout(0.4))\n",
        "\n",
        "model.add(tf.keras.layers.LSTM(embedding_dim,dropout=0.2, recurrent_dropout=0.2,return_sequences=True,\\\n",
        "                                                             kernel_regularizer=regularizers.l2(0.005),\\\n",
        "                                                             bias_regularizer=regularizers.l2(0.005)))\n",
        "\n",
        "model.add(tf.keras.layers.Flatten())\n",
        "\n",
        "model.add(tf.keras.layers.Dense(512, activation='relu',\\\n",
        "                                kernel_regularizer=regularizers.l2(0.001),\\\n",
        "                                bias_regularizer=regularizers.l2(0.001),))\n",
        "model.add(tf.keras.layers.Dropout(0.4))\n",
        "\n",
        "model.add(tf.keras.layers.Dense(8, activation='relu',\\\n",
        "                                kernel_regularizer=regularizers.l2(0.001),\\\n",
        "                                bias_regularizer=regularizers.l2(0.001),))\n",
        "model.add(tf.keras.layers.Dropout(0.4))\n",
        "\n",
        "\n",
        "model.add(tf.keras.layers.Dense(1,activation='sigmoid'))\n",
        "\n",
        "\n",
        "\n",
        "\n",
        "model.summary()\n",
        "model.compile(loss=tf.keras.losses.BinaryCrossentropy(),optimizer=tf.keras.optimizers.Adam(1e-3),metrics=[tf.keras.metrics.BinaryAccuracy()])\n"
      ],
      "metadata": {
        "colab": {
          "base_uri": "https://localhost:8080/"
        },
        "id": "JDkzEFd3Lne_",
        "outputId": "158d41d4-ca9a-4e6f-b999-4782a958f48d"
      },
      "execution_count": 20,
      "outputs": [
        {
          "output_type": "stream",
          "name": "stdout",
          "text": [
            "Model: \"sequential\"\n",
            "_________________________________________________________________\n",
            " Layer (type)                Output Shape              Param #   \n",
            "=================================================================\n",
            " embedding (Embedding)       (None, 50, 16)            800016    \n",
            "                                                                 \n",
            " dropout (Dropout)           (None, 50, 16)            0         \n",
            "                                                                 \n",
            " lstm (LSTM)                 (None, 50, 16)            2112      \n",
            "                                                                 \n",
            " flatten (Flatten)           (None, 800)               0         \n",
            "                                                                 \n",
            " dense (Dense)               (None, 512)               410112    \n",
            "                                                                 \n",
            " dropout_1 (Dropout)         (None, 512)               0         \n",
            "                                                                 \n",
            " dense_1 (Dense)             (None, 8)                 4104      \n",
            "                                                                 \n",
            " dropout_2 (Dropout)         (None, 8)                 0         \n",
            "                                                                 \n",
            " dense_2 (Dense)             (None, 1)                 9         \n",
            "                                                                 \n",
            "=================================================================\n",
            "Total params: 1216353 (4.64 MB)\n",
            "Trainable params: 1216353 (4.64 MB)\n",
            "Non-trainable params: 0 (0.00 Byte)\n",
            "_________________________________________________________________\n"
          ]
        }
      ]
    },
    {
      "cell_type": "code",
      "source": [
        "#make predictions on validation dataset\n",
        "valid_predict= model.predict(x_valid)\n",
        "print(valid_predict[:10])"
      ],
      "metadata": {
        "colab": {
          "base_uri": "https://localhost:8080/"
        },
        "id": "3p0kk0JITrQr",
        "outputId": "5113c3ee-79ba-4376-fb43-d5d1ddb6636d"
      },
      "execution_count": 22,
      "outputs": [
        {
          "output_type": "stream",
          "name": "stdout",
          "text": [
            "124/124 [==============================] - 4s 21ms/step\n",
            "[[1.]\n",
            " [1.]\n",
            " [1.]\n",
            " [1.]\n",
            " [1.]\n",
            " [1.]\n",
            " [1.]\n",
            " [1.]\n",
            " [1.]\n",
            " [1.]]\n"
          ]
        }
      ]
    },
    {
      "cell_type": "code",
      "source": [
        "#model's metrics on test dataset\n",
        "x_test  = np.array( tokenizer.texts_to_sequences(test_data['tweet'].tolist()) )\n",
        "x_test = pad_sequences(x_test, padding='post', maxlen=maxlen)\n",
        "\n",
        "\n",
        "#Generate predictions for all samples\n",
        "predictions = model.predict(x_test)"
      ],
      "metadata": {
        "colab": {
          "base_uri": "https://localhost:8080/"
        },
        "id": "NNytcbPKUEmV",
        "outputId": "c2a33e1b-3102-436e-9822-ca0a7aca433e"
      },
      "execution_count": 23,
      "outputs": [
        {
          "output_type": "stream",
          "name": "stdout",
          "text": [
            "155/155 [==============================] - 2s 11ms/step\n"
          ]
        }
      ]
    },
    {
      "cell_type": "code",
      "source": [
        "print(\"Unique classes in y_train:\", np.unique(y_train))\n",
        "print(\"Unique classes in y_valid:\", np.unique(y_valid))\n"
      ],
      "metadata": {
        "id": "GCcIinqVULRu",
        "colab": {
          "base_uri": "https://localhost:8080/"
        },
        "outputId": "3933b608-5c7d-4d1f-8719-6772d9228a62"
      },
      "execution_count": 24,
      "outputs": [
        {
          "output_type": "stream",
          "name": "stdout",
          "text": [
            "Unique classes in y_train: [3 4 6 7 9]\n",
            "Unique classes in y_valid: [3 4 6 7 9]\n"
          ]
        }
      ]
    },
    {
      "cell_type": "code",
      "source": [
        "from keras.models import Sequential\n",
        "from keras.layers import Embedding, SpatialDropout1D, LSTM, Dense\n",
        "from keras.preprocessing.sequence import pad_sequences\n",
        "from keras.utils import to_categorical\n",
        "\n",
        "# Assuming x_train_array and x_valid_array are your tokenized and padded sequences\n",
        "# x_train_array = np.array(tokenizer.texts_to_sequences(x_train))\n",
        " #x_valid_array = np.array(tokenizer.texts_to_sequences(x_valid))\n",
        "num_classes = 10\n",
        "y_train_categorical = to_categorical(y_train, num_classes=num_classes)\n",
        "y_valid_categorical = to_categorical(y_valid, num_classes=num_classes)\n",
        "\n",
        "# Padding sequences to a consistent length\n",
        "maxlen = 50\n",
        "x_train_padded = pad_sequences(x_train, padding='post', maxlen=maxlen)\n",
        "x_valid_padded = pad_sequences(x_valid, padding='post', maxlen=maxlen)\n",
        "\n",
        "# Convert to NumPy arrays\n",
        "x_train_array = np.array(x_train_padded)\n",
        "x_valid_array = np.array(x_valid_padded)\n",
        "\n",
        "model = Sequential()\n",
        "model.add(Embedding(232337, 100, input_length=maxlen))\n",
        "model.add(SpatialDropout1D(0.2))\n",
        "model.add(LSTM(20, dropout=0.2, recurrent_dropout=0.2))\n",
        "model.add(Dense(num_classes, activation='softmax'))\n",
        "\n",
        "# Compile the model\n",
        "model.compile(loss='categorical_crossentropy', optimizer='adam', metrics=['accuracy'])\n",
        "\n",
        "# Train the model\n",
        "epochs = 25\n",
        "batch_size = 64\n",
        "history = model.fit(x_train_array, y_train_categorical, validation_data=(x_valid_array, y_valid_categorical), epochs=epochs, batch_size=batch_size)\n"
      ],
      "metadata": {
        "colab": {
          "base_uri": "https://localhost:8080/"
        },
        "id": "nRit6XRaWRqJ",
        "outputId": "e988921b-83f6-4815-f6ff-23bdf72e424a"
      },
      "execution_count": 25,
      "outputs": [
        {
          "metadata": {
            "tags": null
          },
          "name": "stdout",
          "output_type": "stream",
          "text": [
            "Epoch 1/25\n",
            "248/248 [==============================] - 160s 627ms/step - loss: 0.5120 - accuracy: 0.9144 - val_loss: 0.3399 - val_accuracy: 0.9226\n",
            "Epoch 2/25\n",
            "248/248 [==============================] - 154s 621ms/step - loss: 0.3320 - accuracy: 0.9219 - val_loss: 0.3335 - val_accuracy: 0.9226\n",
            "Epoch 3/25\n",
            "248/248 [==============================] - 157s 631ms/step - loss: 0.3289 - accuracy: 0.9219 - val_loss: 0.3311 - val_accuracy: 0.9226\n",
            "Epoch 4/25\n",
            "248/248 [==============================] - 157s 633ms/step - loss: 0.3280 - accuracy: 0.9219 - val_loss: 0.3313 - val_accuracy: 0.9226\n",
            "Epoch 5/25\n",
            "248/248 [==============================] - 173s 697ms/step - loss: 0.3275 - accuracy: 0.9219 - val_loss: 0.3303 - val_accuracy: 0.9226\n",
            "Epoch 6/25\n",
            "248/248 [==============================] - 157s 635ms/step - loss: 0.3272 - accuracy: 0.9219 - val_loss: 0.3302 - val_accuracy: 0.9226\n",
            "Epoch 7/25\n",
            "248/248 [==============================] - 158s 637ms/step - loss: 0.3271 - accuracy: 0.9219 - val_loss: 0.3300 - val_accuracy: 0.9226\n",
            "Epoch 8/25\n",
            "248/248 [==============================] - 154s 620ms/step - loss: 0.3269 - accuracy: 0.9219 - val_loss: 0.3301 - val_accuracy: 0.9226\n",
            "Epoch 9/25\n",
            "248/248 [==============================] - 156s 629ms/step - loss: 0.3270 - accuracy: 0.9219 - val_loss: 0.3297 - val_accuracy: 0.9226\n",
            "Epoch 10/25\n",
            "248/248 [==============================] - 154s 622ms/step - loss: 0.3273 - accuracy: 0.9219 - val_loss: 0.3294 - val_accuracy: 0.9226\n",
            "Epoch 11/25\n",
            "248/248 [==============================] - 153s 616ms/step - loss: 0.3166 - accuracy: 0.9219 - val_loss: 0.3298 - val_accuracy: 0.9226\n",
            "Epoch 12/25\n",
            "248/248 [==============================] - 157s 633ms/step - loss: 0.2487 - accuracy: 0.9284 - val_loss: 0.4737 - val_accuracy: 0.8074\n",
            "Epoch 13/25\n",
            "248/248 [==============================] - 154s 619ms/step - loss: 0.1725 - accuracy: 0.9546 - val_loss: 0.6264 - val_accuracy: 0.7620\n",
            "Epoch 14/25\n",
            "248/248 [==============================] - 155s 626ms/step - loss: 0.1321 - accuracy: 0.9657 - val_loss: 1.2811 - val_accuracy: 0.5721\n",
            "Epoch 15/25\n",
            "248/248 [==============================] - 157s 632ms/step - loss: 0.1116 - accuracy: 0.9697 - val_loss: 1.3540 - val_accuracy: 0.5888\n",
            "Epoch 16/25\n",
            "248/248 [==============================] - 152s 613ms/step - loss: 0.1001 - accuracy: 0.9732 - val_loss: 1.3875 - val_accuracy: 0.5986\n",
            "Epoch 17/25\n",
            "248/248 [==============================] - 152s 613ms/step - loss: 0.0918 - accuracy: 0.9736 - val_loss: 1.4240 - val_accuracy: 0.6107\n",
            "Epoch 18/25\n",
            "248/248 [==============================] - 149s 603ms/step - loss: 0.0837 - accuracy: 0.9764 - val_loss: 1.6270 - val_accuracy: 0.6016\n",
            "Epoch 19/25\n",
            "248/248 [==============================] - 151s 609ms/step - loss: 0.0827 - accuracy: 0.9769 - val_loss: 1.6892 - val_accuracy: 0.5613\n",
            "Epoch 20/25\n",
            "248/248 [==============================] - 152s 612ms/step - loss: 0.0773 - accuracy: 0.9788 - val_loss: 1.6001 - val_accuracy: 0.6172\n",
            "Epoch 21/25\n",
            "248/248 [==============================] - 149s 603ms/step - loss: 0.0751 - accuracy: 0.9796 - val_loss: 1.7150 - val_accuracy: 0.5996\n",
            "Epoch 22/25\n",
            "248/248 [==============================] - 151s 608ms/step - loss: 0.0737 - accuracy: 0.9790 - val_loss: 1.8202 - val_accuracy: 0.5353\n",
            "Epoch 23/25\n",
            "248/248 [==============================] - 149s 602ms/step - loss: 0.0721 - accuracy: 0.9795 - val_loss: 1.9011 - val_accuracy: 0.5802\n",
            "Epoch 24/25\n",
            "248/248 [==============================] - 152s 615ms/step - loss: 0.0682 - accuracy: 0.9810 - val_loss: 1.8157 - val_accuracy: 0.6104\n",
            "Epoch 25/25\n",
            "248/248 [==============================] - 152s 615ms/step - loss: 0.0675 - accuracy: 0.9799 - val_loss: 2.0966 - val_accuracy: 0.5640\n"
          ]
        }
      ]
    },
    {
      "cell_type": "code",
      "source": [
        "import matplotlib.pyplot as plt\n",
        "plt.plot(history.history['accuracy'], label='Training')\n",
        "plt.plot(history.history['val_accuracy'], label='Validation')\n",
        "plt.title('Model Accuracy')\n",
        "plt.ylabel('Accuracy')\n",
        "plt.xlabel('epoch')\n",
        "#plt.legend(['train'],loc='upper left')\n",
        "plt.show()"
      ],
      "metadata": {
        "colab": {
          "base_uri": "https://localhost:8080/",
          "height": 472
        },
        "id": "1I4wM6d4meOj",
        "outputId": "1c0b39d3-9d0d-4bd0-8d3d-346d867e94ae"
      },
      "execution_count": 26,
      "outputs": [
        {
          "output_type": "display_data",
          "data": {
            "text/plain": [
              "<Figure size 640x480 with 1 Axes>"
            ],
            "image/png": "[encoded data removed]"
          },
          "metadata": {}
        }
      ]
    },
    {
      "cell_type": "code",
      "source": [
        "print(y_train_categorical.shape, y_valid_categorical.shape)"
      ],
      "metadata": {
        "colab": {
          "base_uri": "https://localhost:8080/"
        },
        "id": "rLgC7rq81YPC",
        "outputId": "01e560f8-33ec-4642-aeca-3b91a84eb8d0"
      },
      "execution_count": 27,
      "outputs": [
        {
          "output_type": "stream",
          "name": "stdout",
          "text": [
            "(15860, 10) (3966, 10)\n"
          ]
        }
      ]
    },
    {
      "cell_type": "code",
      "source": [
        "from keras.preprocessing import sequence\n",
        "from keras.callbacks import EarlyStopping, ModelCheckpoint\n",
        "from keras.utils import to_categorical\n",
        "\n",
        "# Assuming num_classes is the number of unique classes in your data\n",
        "num_classes = 10\n",
        "\n",
        "# One-hot encode your target labels\n",
        "y_train_categorical = to_categorical(y_train, num_classes=num_classes)\n",
        "y_valid_categorical = to_categorical(y_valid, num_classes=num_classes)\n",
        "# Define the EarlyStopping and ModelCheckpoint callbacks\n",
        "stop = EarlyStopping(monitor='val_loss', patience=3)\n",
        "checkpoint = ModelCheckpoint('best_model.h5', monitor='val_accuracy', save_best_only=True)\n",
        "max_words = 50000\n",
        "max_len = 50\n",
        "tokenizer = Tokenizer(num_words=max_words)\n",
        "x_train_list = [str(item) for item in x_train] # Convert NumPy array to a Python list\n",
        "tokenizer.fit_on_texts(x_train_list)\n",
        "sequences = tokenizer.texts_to_sequences(x_train_list)\n",
        "sequences_matrix = sequence.pad_sequences(sequences,maxlen=max_len)\n",
        "history=model.fit(sequences_matrix,y_train_categorical,batch_size=1024,epochs=8,\n",
        "          validation_split=0.1,callbacks=[stop,checkpoint])"
      ],
      "metadata": {
        "colab": {
          "base_uri": "https://localhost:8080/"
        },
        "id": "gje0u-98nnO5",
        "outputId": "4a8ae143-15e2-496d-ed66-3ab66ed6b482"
      },
      "execution_count": 28,
      "outputs": [
        {
          "output_type": "stream",
          "name": "stdout",
          "text": [
            "Epoch 1/8\n",
            "14/14 [==============================] - 16s 1s/step - loss: 0.6382 - accuracy: 0.8655 - val_loss: 0.5160 - val_accuracy: 0.9206\n",
            "Epoch 2/8\n",
            "14/14 [==============================] - 16s 1s/step - loss: 0.3759 - accuracy: 0.9236 - val_loss: 0.3202 - val_accuracy: 0.9237\n",
            "Epoch 3/8\n",
            "14/14 [==============================] - 16s 1s/step - loss: 0.2343 - accuracy: 0.9395 - val_loss: 0.2408 - val_accuracy: 0.9306\n",
            "Epoch 4/8\n",
            "14/14 [==============================] - 16s 1s/step - loss: 0.1955 - accuracy: 0.9526 - val_loss: 0.2272 - val_accuracy: 0.9401\n",
            "Epoch 5/8\n",
            "14/14 [==============================] - 16s 1s/step - loss: 0.1675 - accuracy: 0.9576 - val_loss: 0.2236 - val_accuracy: 0.9414\n",
            "Epoch 6/8\n",
            "14/14 [==============================] - 24s 2s/step - loss: 0.1428 - accuracy: 0.9628 - val_loss: 0.2266 - val_accuracy: 0.9407\n",
            "Epoch 7/8\n",
            "14/14 [==============================] - 16s 1s/step - loss: 0.1283 - accuracy: 0.9660 - val_loss: 0.2287 - val_accuracy: 0.9395\n",
            "Epoch 8/8\n",
            "14/14 [==============================] - 16s 1s/step - loss: 0.1188 - accuracy: 0.9688 - val_loss: 0.2307 - val_accuracy: 0.9414\n"
          ]
        }
      ]
    },
    {
      "cell_type": "code",
      "source": [
        "import matplotlib.pyplot as plt\n",
        "plt.plot(history.history['accuracy'], label='Training')\n",
        "plt.plot(history.history['val_accuracy'], label='Validation')\n",
        "plt.title('Model Accuracy')\n",
        "plt.ylabel('Accuracy')\n",
        "plt.xlabel('epoch')\n",
        "#plt.legend(['train'],loc='upper left')\n",
        "plt.show()"
      ],
      "metadata": {
        "id": "8WuJ_kTA2UmU"
      },
      "execution_count": null,
      "outputs": []
    },
    {
      "cell_type": "code",
      "source": [
        "test_sequences = tokenizer.texts_to_sequences([str(item) for item in x_test.tolist()])\n",
        "test_sequences_matrix = sequence.pad_sequences(test_sequences, maxlen=max_len)\n",
        "lstm_prediction = model.predict(test_sequences_matrix)\n"
      ],
      "metadata": {
        "colab": {
          "base_uri": "https://localhost:8080/"
        },
        "id": "pqL5CnIB4bs3",
        "outputId": "39793307-1623-4982-e90a-2c138e77f524"
      },
      "execution_count": 30,
      "outputs": [
        {
          "metadata": {
            "tags": null
          },
          "name": "stdout",
          "output_type": "stream",
          "text": [
            "155/155 [==============================] - 3s 15ms/step\n"
          ]
        }
      ]
    },
    {
      "cell_type": "code",
      "source": [
        "# checking the model parameters\n",
        "model.summary()"
      ],
      "metadata": {
        "colab": {
          "base_uri": "https://localhost:8080/"
        },
        "id": "i7qkYY_O4cuJ",
        "outputId": "4c8bcbbe-cf79-4816-d947-3e9f8663da56"
      },
      "execution_count": 31,
      "outputs": [
        {
          "output_type": "stream",
          "name": "stdout",
          "text": [
            "Model: \"sequential_1\"\n",
            "_________________________________________________________________\n",
            " Layer (type)                Output Shape              Param #   \n",
            "=================================================================\n",
            " embedding_1 (Embedding)     (None, 50, 100)           23233700  \n",
            "                                                                 \n",
            " spatial_dropout1d (Spatial  (None, 50, 100)           0         \n",
            " Dropout1D)                                                      \n",
            "                                                                 \n",
            " lstm_1 (LSTM)               (None, 20)                9680      \n",
            "                                                                 \n",
            " dense_3 (Dense)             (None, 10)                210       \n",
            "                                                                 \n",
            "=================================================================\n",
            "Total params: 23243590 (88.67 MB)\n",
            "Trainable params: 23243590 (88.67 MB)\n",
            "Non-trainable params: 0 (0.00 Byte)\n",
            "_________________________________________________________________\n"
          ]
        }
      ]
    },
    {
      "cell_type": "code",
      "source": [
        "# Save model\n",
        "model.save('model_technique.h5')\n",
        "\n"
      ],
      "metadata": {
        "id": "Pdykr5mI8q8s"
      },
      "execution_count": 33,
      "outputs": []
    }
  ]
}