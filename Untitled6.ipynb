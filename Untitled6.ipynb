{
  "nbformat": 4,
  "nbformat_minor": 0,
  "metadata": {
    "colab": {
      "provenance": [],
      "authorship_tag": "ABX9TyNICkqhXfo3eKJosTPtBLWo",
      "include_colab_link": true
    },
    "kernelspec": {
      "name": "python3",
      "display_name": "Python 3"
    },
    "language_info": {
      "name": "python"
    }
  },
  "cells": [
    {
      "cell_type": "markdown",
      "metadata": {
        "id": "view-in-github",
        "colab_type": "text"
      },
      "source": [
        "<a href=\"https://colab.research.google.com/github/kalumay/Major/blob/master/Untitled6.ipynb\" target=\"_parent\"><img src=\"https://colab.research.google.com/assets/colab-badge.svg\" alt=\"Open In Colab\"/></a>"
      ]
    },
    {
      "cell_type": "code",
      "execution_count": null,
      "metadata": {
        "colab": {
          "base_uri": "https://localhost:8080/"
        },
        "id": "m_G9CDCMZS1f",
        "outputId": "60c76f86-5a5f-4ecc-ed82-97454487b62f"
      },
      "outputs": [
        {
          "output_type": "stream",
          "name": "stdout",
          "text": [
            "Mounted at /content/drive\n"
          ]
        }
      ],
      "source": [
        "from google.colab import drive\n",
        "drive.mount('/content/drive')"
      ]
    },
    {
      "cell_type": "code",
      "source": [
        "import pandas as pd\n"
      ],
      "metadata": {
        "id": "52Sv_fTPZVks"
      },
      "execution_count": null,
      "outputs": []
    },
    {
      "cell_type": "code",
      "source": [
        "# Load dataset\n",
        "df = pd.read_csv('/content/drive/MyDrive/Colab Notebooks/Datas/newData1.csv')\n",
        "df.shape"
      ],
      "metadata": {
        "colab": {
          "base_uri": "https://localhost:8080/"
        },
        "id": "Sf7Jt-tVZXkc",
        "outputId": "e30f8b21-f6fe-4bfd-d339-371114516773"
      },
      "execution_count": null,
      "outputs": [
        {
          "output_type": "execute_result",
          "data": {
            "text/plain": [
              "(184354, 5)"
            ]
          },
          "metadata": {},
          "execution_count": 37
        }
      ]
    },
    {
      "cell_type": "code",
      "source": [
        "import pandas as pd\n",
        "import nltk\n",
        "from nltk.tokenize import sent_tokenize\n",
        "\n",
        "# Download NLTK sentence tokenization data\n",
        "nltk.download('punkt')\n",
        "\n",
        "# Assuming df is your DataFrame with 'comment_text' column\n",
        "# Convert the column to string type (if not already)\n",
        "df['comment_text'] = df['comment_text'].astype(str)\n",
        "\n",
        "# Tokenize sentences in the 'comment_text' column\n",
        "df['num_sentences'] = df['comment_text'].apply(lambda x: len(sent_tokenize(x)))\n",
        "\n",
        "# Create a table with sentence statistics\n",
        "sentence_stats = df['num_sentences'].value_counts().reset_index()\n",
        "sentence_stats.columns = ['Num Sentences', 'Count']\n",
        "\n",
        "# Display the table\n",
        "print(sentence_stats)\n"
      ],
      "metadata": {
        "colab": {
          "base_uri": "https://localhost:8080/"
        },
        "id": "N1eWu3H8ZeN2",
        "outputId": "c613439e-7a5e-4cab-f2d1-a34d75e92eda"
      },
      "execution_count": null,
      "outputs": [
        {
          "output_type": "stream",
          "name": "stderr",
          "text": [
            "[nltk_data] Downloading package punkt to /root/nltk_data...\n",
            "[nltk_data]   Package punkt is already up-to-date!\n"
          ]
        },
        {
          "output_type": "stream",
          "name": "stdout",
          "text": [
            "     Num Sentences  Count\n",
            "0                1  52958\n",
            "1                2  38390\n",
            "2                3  28368\n",
            "3                4  18153\n",
            "4                5  12266\n",
            "..             ...    ...\n",
            "130            208      1\n",
            "131            127      1\n",
            "132            128      1\n",
            "133             86      1\n",
            "134            358      1\n",
            "\n",
            "[135 rows x 2 columns]\n"
          ]
        }
      ]
    },
    {
      "cell_type": "code",
      "source": [
        "# Assuming df is your DataFrame with 'comment_text' and 'num_sentences' columns\n",
        "\n",
        "# Filter rows with 3 or fewer sentences\n",
        "df_filtered = df[df['num_sentences'] <= 3]\n",
        "\n",
        "# Drop the 'num_sentences' column (if you no longer need it)\n",
        "df_filtered = df_filtered.drop('num_sentences', axis=1)\n",
        "\n",
        "# Display the resulting DataFrame\n",
        "print(df_filtered)\n"
      ],
      "metadata": {
        "colab": {
          "base_uri": "https://localhost:8080/"
        },
        "id": "Ne9-Gj7qbNs1",
        "outputId": "19f170b1-f0a9-4ce9-dff8-cd866ae7355a"
      },
      "execution_count": null,
      "outputs": [
        {
          "output_type": "stream",
          "name": "stdout",
          "text": [
            "                                             comment_text  hate_speech  \\\n",
            "0       Explanation\\nWhy the edits made under my usern...            0   \n",
            "2       Hey man, I'm really not trying to edit war. It...            0   \n",
            "4       You, sir, are my hero. Any chance you remember...            0   \n",
            "5       \"\\n\\nCongratulations from me as well, use the ...            0   \n",
            "6            COCKSUCKER BEFORE YOU PISS AROUND ON MY WORK            1   \n",
            "...                                                   ...          ...   \n",
            "184348  you're such a retard i hope you get type 2 dia...            0   \n",
            "184350  you've gone and broke the wrong heart baby, an...            0   \n",
            "184351  young buck wanna eat!!.. dat nigguh like I ain...            0   \n",
            "184352              youu got wild bitches tellin you lies            0   \n",
            "184353  ~~Ruffled | Ntac Eileen Dahlia - Beautiful col...            0   \n",
            "\n",
            "        offensive  neither  class  \n",
            "0               0        1      2  \n",
            "2               0        1      2  \n",
            "4               0        1      2  \n",
            "5               0        1      2  \n",
            "6               1        0      0  \n",
            "...           ...      ...    ...  \n",
            "184348          0        0      0  \n",
            "184350          0        0      2  \n",
            "184351          0        0      1  \n",
            "184352          0        0      1  \n",
            "184353          0        0      2  \n",
            "\n",
            "[119716 rows x 5 columns]\n"
          ]
        }
      ]
    },
    {
      "cell_type": "code",
      "source": [
        "df_filtered.shape"
      ],
      "metadata": {
        "colab": {
          "base_uri": "https://localhost:8080/"
        },
        "id": "taBaWPYibZFA",
        "outputId": "1929b015-536d-4b04-963e-9c09acc9f88e"
      },
      "execution_count": null,
      "outputs": [
        {
          "output_type": "execute_result",
          "data": {
            "text/plain": [
              "(119716, 5)"
            ]
          },
          "metadata": {},
          "execution_count": 40
        }
      ]
    },
    {
      "cell_type": "code",
      "source": [
        "# # Save df_filtered to a CSV file\n",
        "# df_filtered.to_csv('filtered_data.csv', index=False)"
      ],
      "metadata": {
        "id": "oHMW7LkqczLd"
      },
      "execution_count": null,
      "outputs": []
    },
    {
      "cell_type": "code",
      "source": [
        "# Delete rows where 'class' is equal to 2, starting from row 170,000\n",
        "df = df[~((df['class'] == 2) & (df.index >= 10000))]\n",
        "df = df[~((df['class'] == 1) & (df.index >= 100000))]\n",
        "df.shape"
      ],
      "metadata": {
        "colab": {
          "base_uri": "https://localhost:8080/"
        },
        "id": "We58bV82dVI5",
        "outputId": "83d1aed3-5213-411d-ad88-d6482279be77"
      },
      "execution_count": null,
      "outputs": [
        {
          "output_type": "execute_result",
          "data": {
            "text/plain": [
              "(21609, 6)"
            ]
          },
          "metadata": {},
          "execution_count": 43
        }
      ]
    },
    {
      "cell_type": "code",
      "source": [
        "import matplotlib.pyplot as plt\n",
        "class_counts = df['class'].value_counts()\n",
        "# Plot a pie chart\n",
        "plt.figure(figsize=(5, 5))\n",
        "plt.pie(class_counts, labels=class_counts.index, autopct='%1.1f%%', startangle=90)\n",
        "plt.title('Class Distribution')\n",
        "plt.show()"
      ],
      "metadata": {
        "colab": {
          "base_uri": "https://localhost:8080/",
          "height": 444
        },
        "id": "Jxh3_DNsd82z",
        "outputId": "b28e175b-bdc9-4d6c-c513-08c6702bed30"
      },
      "execution_count": null,
      "outputs": [
        {
          "output_type": "display_data",
          "data": {
            "text/plain": [
              "<Figure size 500x500 with 1 Axes>"
            ],
            "image/png": "[encoded data removed]"
          },
          "metadata": {}
        }
      ]
    },
    {
      "cell_type": "code",
      "source": [
        "df.shape"
      ],
      "metadata": {
        "colab": {
          "base_uri": "https://localhost:8080/"
        },
        "id": "6XpFaAzneAKt",
        "outputId": "a255dfc4-37b5-42ac-9a8c-850dbdc28c04"
      },
      "execution_count": null,
      "outputs": [
        {
          "output_type": "execute_result",
          "data": {
            "text/plain": [
              "(21609, 6)"
            ]
          },
          "metadata": {},
          "execution_count": 45
        }
      ]
    },
    {
      "cell_type": "code",
      "source": [
        "text = []\n",
        "clas = []\n",
        "\n",
        "# text = df['comment_text'].tolist()[:60000]\n",
        "# clas = df['class'].tolist()[:60000]\n",
        "text = df['comment_text'].tolist()\n",
        "clas = df['class'].tolist()\n",
        "len(text), len(clas)"
      ],
      "metadata": {
        "colab": {
          "base_uri": "https://localhost:8080/"
        },
        "id": "UPl7gv0PftRk",
        "outputId": "4a02c923-09bd-4137-e479-ceecf7aefe65"
      },
      "execution_count": null,
      "outputs": [
        {
          "output_type": "execute_result",
          "data": {
            "text/plain": [
              "(21609, 21609)"
            ]
          },
          "metadata": {},
          "execution_count": 46
        }
      ]
    },
    {
      "cell_type": "code",
      "source": [
        "df = pd.DataFrame({'comment_text': text, 'class': clas})"
      ],
      "metadata": {
        "id": "aDRSVc_rf0nZ"
      },
      "execution_count": null,
      "outputs": []
    },
    {
      "cell_type": "code",
      "source": [
        "df['comment_text'] = df['comment_text'].apply(lambda x:x.lower())"
      ],
      "metadata": {
        "id": "klCBqzSMf2n7"
      },
      "execution_count": null,
      "outputs": []
    },
    {
      "cell_type": "code",
      "source": [
        "punctuation_signs = list(\"?:!.,;|\")\n",
        "remove_usernames = r'@([^\\s]+)'\n",
        "remove_hash_no = r'#\\d+'\n",
        "\n",
        "# Remove punctuation signs\n",
        "for punct_sign in punctuation_signs:\n",
        "    df['comment_text'] = df['comment_text'].str.replace(punct_sign, '', regex=True)\n",
        "\n",
        "# Remove usernames\n",
        "df['comment_text'] = df['comment_text'].str.replace(remove_usernames, '', regex=True)\n",
        "\n",
        "# Remove hashtags with numbers\n",
        "df['comment_text'] = df['comment_text'].str.replace(remove_hash_no, '', regex=True)"
      ],
      "metadata": {
        "id": "mYcqC2fHf4ZU"
      },
      "execution_count": null,
      "outputs": []
    },
    {
      "cell_type": "code",
      "source": [
        "df['comment_text'] = df['comment_text'].apply(lambda x: x.replace('\\n', ' '))\n",
        "df['comment_text'] = df['comment_text'].apply(lambda x: x.replace('\\t', ' '))\n",
        "\n",
        "# Replace url and symbols\n",
        "df['comment_text'] = df['comment_text'].str.replace(\"    \", \" \")\n",
        "df['comment_text'] = df['comment_text'].str.replace('\"', '')\n",
        "df['comment_text'] = df['comment_text'].str.replace(\"!\", \"\")\n",
        "df['comment_text'] = df['comment_text'].str.replace(\"'s\", \"\")\n",
        "df['comment_text'] = df['comment_text'].str.replace(\"'\", \"\")\n",
        "df['comment_text'] = df['comment_text'].str.replace(\"`\", \"\")\n",
        "df['comment_text'] = df['comment_text'].str.replace(\"https\", \"\")\n",
        "df['comment_text'] = df['comment_text'].str.replace(\"http\", \"\")\n",
        "df['comment_text'] = df['comment_text'].str.replace(\"rt\", \"\")\n",
        "df['comment_text'] = df['comment_text'].str.replace(\"-\", \"\")"
      ],
      "metadata": {
        "id": "VVRK4qNgf6VZ"
      },
      "execution_count": null,
      "outputs": []
    },
    {
      "cell_type": "code",
      "source": [
        "df['comment_text']"
      ],
      "metadata": {
        "colab": {
          "base_uri": "https://localhost:8080/"
        },
        "id": "UuHGooCJf8Jh",
        "outputId": "3ad5a166-e241-4838-87be-fba268c9cdc1"
      },
      "execution_count": null,
      "outputs": [
        {
          "output_type": "execute_result",
          "data": {
            "text/plain": [
              "0        explanation why the edits made under my userna...\n",
              "1        daww he matches this background colour im seem...\n",
              "2        hey man im really not trying to edit war it ju...\n",
              "3         more i cant make any real suggestions on impr...\n",
              "4        you sir are my hero any chance you remember wh...\n",
              "                               ...                        \n",
              "21604                  this guy is the biggest faggot omfg\n",
              "21605    which one of these names is more offensive kik...\n",
              "21606            you a pussy ass nigga and i know it nigga\n",
              "21607                                    youre all niggers\n",
              "21608    youre such a retard i hope you get type 2 diab...\n",
              "Name: comment_text, Length: 21609, dtype: object"
            ]
          },
          "metadata": {},
          "execution_count": 51
        }
      ]
    },
    {
      "cell_type": "code",
      "source": [
        "import nltk\n",
        "import re\n",
        "from nltk.stem import PorterStemmer\n",
        "from nltk.corpus import stopwords\n",
        "nltk.download('stopwords')\n",
        "stop_words = set(stopwords.words('english'))\n",
        "\n",
        "for stop_word in stop_words:\n",
        "    regex_stopword = r\"\\b\" + stop_word + r\"\\b\"\n",
        "    df['comment_text'] = df['comment_text'].str.replace(regex_stopword, '', regex=True)"
      ],
      "metadata": {
        "colab": {
          "base_uri": "https://localhost:8080/"
        },
        "id": "x62tuuk1f-R4",
        "outputId": "42ca6967-0b9f-41b2-9ffa-cf2a58ad5798"
      },
      "execution_count": null,
      "outputs": [
        {
          "output_type": "stream",
          "name": "stderr",
          "text": [
            "[nltk_data] Downloading package stopwords to /root/nltk_data...\n",
            "[nltk_data]   Unzipping corpora/stopwords.zip.\n"
          ]
        }
      ]
    },
    {
      "cell_type": "code",
      "source": [
        "df.sample(5)"
      ],
      "metadata": {
        "colab": {
          "base_uri": "https://localhost:8080/",
          "height": 206
        },
        "id": "UdexSPeFgA5a",
        "outputId": "0c6fa726-6b85-4425-afff-6ac39efafd20"
      },
      "execution_count": null,
      "outputs": [
        {
          "output_type": "execute_result",
          "data": {
            "text/plain": [
              "                                            comment_text  class\n",
              "17443  omg captain jimmy wales &  wikipolice  coming ...      1\n",
              "19597       stop sucking  fatass dick  niggerloving kike      0\n",
              "4507     admins  block   sockpuppetry             tea...      1\n",
              "13758     fuck   pompous ass   singlked     education...      1\n",
              "20574                                faggots drive stick      0"
            ],
            "text/html": [
              "\n",
              "  <div id=\"df-057e441c-a0db-4fd0-a665-0dc57024df25\" class=\"colab-df-container\">\n",
              "    <div>\n",
              "<style scoped>\n",
              "    .dataframe tbody tr th:only-of-type {\n",
              "        vertical-align: middle;\n",
              "    }\n",
              "\n",
              "    .dataframe tbody tr th {\n",
              "        vertical-align: top;\n",
              "    }\n",
              "\n",
              "    .dataframe thead th {\n",
              "        text-align: right;\n",
              "    }\n",
              "</style>\n",
              "<table border=\"1\" class=\"dataframe\">\n",
              "  <thead>\n",
              "    <tr style=\"text-align: right;\">\n",
              "      <th></th>\n",
              "      <th>comment_text</th>\n",
              "      <th>class</th>\n",
              "    </tr>\n",
              "  </thead>\n",
              "  <tbody>\n",
              "    <tr>\n",
              "      <th>17443</th>\n",
              "      <td>omg captain jimmy wales &amp;  wikipolice  coming ...</td>\n",
              "      <td>1</td>\n",
              "    </tr>\n",
              "    <tr>\n",
              "      <th>19597</th>\n",
              "      <td>stop sucking  fatass dick  niggerloving kike</td>\n",
              "      <td>0</td>\n",
              "    </tr>\n",
              "    <tr>\n",
              "      <th>4507</th>\n",
              "      <td>admins  block   sockpuppetry             tea...</td>\n",
              "      <td>1</td>\n",
              "    </tr>\n",
              "    <tr>\n",
              "      <th>13758</th>\n",
              "      <td>fuck   pompous ass   singlked     education...</td>\n",
              "      <td>1</td>\n",
              "    </tr>\n",
              "    <tr>\n",
              "      <th>20574</th>\n",
              "      <td>faggots drive stick</td>\n",
              "      <td>0</td>\n",
              "    </tr>\n",
              "  </tbody>\n",
              "</table>\n",
              "</div>\n",
              "    <div class=\"colab-df-buttons\">\n",
              "\n",
              "  <div class=\"colab-df-container\">\n",
              "    <button class=\"colab-df-convert\" onclick=\"convertToInteractive('df-057e441c-a0db-4fd0-a665-0dc57024df25')\"\n",
              "            title=\"Convert this dataframe to an interactive table.\"\n",
              "            style=\"display:none;\">\n",
              "\n",
              "  <svg xmlns=\"http://www.w3.org/2000/svg\" height=\"24px\" viewBox=\"0 -960 960 960\">\n",
              "    <path d=\"M120-120v-720h720v720H120Zm60-500h600v-160H180v160Zm220 220h160v-160H400v160Zm0 220h160v-160H400v160ZM180-400h160v-160H180v160Zm440 0h160v-160H620v160ZM180-180h160v-160H180v160Zm440 0h160v-160H620v160Z\"/>\n",
              "  </svg>\n",
              "    </button>\n",
              "\n",
              "  <style>\n",
              "    .colab-df-container {\n",
              "      display:flex;\n",
              "      gap: 12px;\n",
              "    }\n",
              "\n",
              "    .colab-df-convert {\n",
              "      background-color: #E8F0FE;\n",
              "      border: none;\n",
              "      border-radius: 50%;\n",
              "      cursor: pointer;\n",
              "      display: none;\n",
              "      fill: #1967D2;\n",
              "      height: 32px;\n",
              "      padding: 0 0 0 0;\n",
              "      width: 32px;\n",
              "    }\n",
              "\n",
              "    .colab-df-convert:hover {\n",
              "      background-color: #E2EBFA;\n",
              "      box-shadow: 0px 1px 2px rgba(60, 64, 67, 0.3), 0px 1px 3px 1px rgba(60, 64, 67, 0.15);\n",
              "      fill: #174EA6;\n",
              "    }\n",
              "\n",
              "    .colab-df-buttons div {\n",
              "      margin-bottom: 4px;\n",
              "    }\n",
              "\n",
              "    [theme=dark] .colab-df-convert {\n",
              "      background-color: #3B4455;\n",
              "      fill: #D2E3FC;\n",
              "    }\n",
              "\n",
              "    [theme=dark] .colab-df-convert:hover {\n",
              "      background-color: #434B5C;\n",
              "      box-shadow: 0px 1px 3px 1px rgba(0, 0, 0, 0.15);\n",
              "      filter: drop-shadow(0px 1px 2px rgba(0, 0, 0, 0.3));\n",
              "      fill: #FFFFFF;\n",
              "    }\n",
              "  </style>\n",
              "\n",
              "    <script>\n",
              "      const buttonEl =\n",
              "        document.querySelector('#df-057e441c-a0db-4fd0-a665-0dc57024df25 button.colab-df-convert');\n",
              "      buttonEl.style.display =\n",
              "        google.colab.kernel.accessAllowed ? 'block' : 'none';\n",
              "\n",
              "      async function convertToInteractive(key) {\n",
              "        const element = document.querySelector('#df-057e441c-a0db-4fd0-a665-0dc57024df25');\n",
              "        const dataTable =\n",
              "          await google.colab.kernel.invokeFunction('convertToInteractive',\n",
              "                                                    [key], {});\n",
              "        if (!dataTable) return;\n",
              "\n",
              "        const docLinkHtml = 'Like what you see? Visit the ' +\n",
              "          '<a target=\"_blank\" href=https://colab.research.google.com/notebooks/data_table.ipynb>data table notebook</a>'\n",
              "          + ' to learn more about interactive tables.';\n",
              "        element.innerHTML = '';\n",
              "        dataTable['output_type'] = 'display_data';\n",
              "        await google.colab.output.renderOutput(dataTable, element);\n",
              "        const docLink = document.createElement('div');\n",
              "        docLink.innerHTML = docLinkHtml;\n",
              "        element.appendChild(docLink);\n",
              "      }\n",
              "    </script>\n",
              "  </div>\n",
              "\n",
              "\n",
              "<div id=\"df-6a8cb47a-62f5-4ab6-95de-6b657b73d9a0\">\n",
              "  <button class=\"colab-df-quickchart\" onclick=\"quickchart('df-6a8cb47a-62f5-4ab6-95de-6b657b73d9a0')\"\n",
              "            title=\"Suggest charts\"\n",
              "            style=\"display:none;\">\n",
              "\n",
              "<svg xmlns=\"http://www.w3.org/2000/svg\" height=\"24px\"viewBox=\"0 0 24 24\"\n",
              "     width=\"24px\">\n",
              "    <g>\n",
              "        <path d=\"M19 3H5c-1.1 0-2 .9-2 2v14c0 1.1.9 2 2 2h14c1.1 0 2-.9 2-2V5c0-1.1-.9-2-2-2zM9 17H7v-7h2v7zm4 0h-2V7h2v10zm4 0h-2v-4h2v4z\"/>\n",
              "    </g>\n",
              "</svg>\n",
              "  </button>\n",
              "\n",
              "<style>\n",
              "  .colab-df-quickchart {\n",
              "      --bg-color: #E8F0FE;\n",
              "      --fill-color: #1967D2;\n",
              "      --hover-bg-color: #E2EBFA;\n",
              "      --hover-fill-color: #174EA6;\n",
              "      --disabled-fill-color: #AAA;\n",
              "      --disabled-bg-color: #DDD;\n",
              "  }\n",
              "\n",
              "  [theme=dark] .colab-df-quickchart {\n",
              "      --bg-color: #3B4455;\n",
              "      --fill-color: #D2E3FC;\n",
              "      --hover-bg-color: #434B5C;\n",
              "      --hover-fill-color: #FFFFFF;\n",
              "      --disabled-bg-color: #3B4455;\n",
              "      --disabled-fill-color: #666;\n",
              "  }\n",
              "\n",
              "  .colab-df-quickchart {\n",
              "    background-color: var(--bg-color);\n",
              "    border: none;\n",
              "    border-radius: 50%;\n",
              "    cursor: pointer;\n",
              "    display: none;\n",
              "    fill: var(--fill-color);\n",
              "    height: 32px;\n",
              "    padding: 0;\n",
              "    width: 32px;\n",
              "  }\n",
              "\n",
              "  .colab-df-quickchart:hover {\n",
              "    background-color: var(--hover-bg-color);\n",
              "    box-shadow: 0 1px 2px rgba(60, 64, 67, 0.3), 0 1px 3px 1px rgba(60, 64, 67, 0.15);\n",
              "    fill: var(--button-hover-fill-color);\n",
              "  }\n",
              "\n",
              "  .colab-df-quickchart-complete:disabled,\n",
              "  .colab-df-quickchart-complete:disabled:hover {\n",
              "    background-color: var(--disabled-bg-color);\n",
              "    fill: var(--disabled-fill-color);\n",
              "    box-shadow: none;\n",
              "  }\n",
              "\n",
              "  .colab-df-spinner {\n",
              "    border: 2px solid var(--fill-color);\n",
              "    border-color: transparent;\n",
              "    border-bottom-color: var(--fill-color);\n",
              "    animation:\n",
              "      spin 1s steps(1) infinite;\n",
              "  }\n",
              "\n",
              "  @keyframes spin {\n",
              "    0% {\n",
              "      border-color: transparent;\n",
              "      border-bottom-color: var(--fill-color);\n",
              "      border-left-color: var(--fill-color);\n",
              "    }\n",
              "    20% {\n",
              "      border-color: transparent;\n",
              "      border-left-color: var(--fill-color);\n",
              "      border-top-color: var(--fill-color);\n",
              "    }\n",
              "    30% {\n",
              "      border-color: transparent;\n",
              "      border-left-color: var(--fill-color);\n",
              "      border-top-color: var(--fill-color);\n",
              "      border-right-color: var(--fill-color);\n",
              "    }\n",
              "    40% {\n",
              "      border-color: transparent;\n",
              "      border-right-color: var(--fill-color);\n",
              "      border-top-color: var(--fill-color);\n",
              "    }\n",
              "    60% {\n",
              "      border-color: transparent;\n",
              "      border-right-color: var(--fill-color);\n",
              "    }\n",
              "    80% {\n",
              "      border-color: transparent;\n",
              "      border-right-color: var(--fill-color);\n",
              "      border-bottom-color: var(--fill-color);\n",
              "    }\n",
              "    90% {\n",
              "      border-color: transparent;\n",
              "      border-bottom-color: var(--fill-color);\n",
              "    }\n",
              "  }\n",
              "</style>\n",
              "\n",
              "  <script>\n",
              "    async function quickchart(key) {\n",
              "      const quickchartButtonEl =\n",
              "        document.querySelector('#' + key + ' button');\n",
              "      quickchartButtonEl.disabled = true;  // To prevent multiple clicks.\n",
              "      quickchartButtonEl.classList.add('colab-df-spinner');\n",
              "      try {\n",
              "        const charts = await google.colab.kernel.invokeFunction(\n",
              "            'suggestCharts', [key], {});\n",
              "      } catch (error) {\n",
              "        console.error('Error during call to suggestCharts:', error);\n",
              "      }\n",
              "      quickchartButtonEl.classList.remove('colab-df-spinner');\n",
              "      quickchartButtonEl.classList.add('colab-df-quickchart-complete');\n",
              "    }\n",
              "    (() => {\n",
              "      let quickchartButtonEl =\n",
              "        document.querySelector('#df-6a8cb47a-62f5-4ab6-95de-6b657b73d9a0 button');\n",
              "      quickchartButtonEl.style.display =\n",
              "        google.colab.kernel.accessAllowed ? 'block' : 'none';\n",
              "    })();\n",
              "  </script>\n",
              "</div>\n",
              "\n",
              "    </div>\n",
              "  </div>\n"
            ]
          },
          "metadata": {},
          "execution_count": 53
        }
      ]
    },
    {
      "cell_type": "code",
      "source": [
        "from nltk.tokenize import word_tokenize\n",
        "\n",
        "# Download NLTK tokenization data\n",
        "nltk.download('punkt')\n",
        "\n",
        "# Specify the column(s) you want to tokenize\n",
        "columns_to_tokenize = ['comment_text']  # Replace with actual column names\n",
        "\n",
        "# Convert the column to string type\n",
        "df['comment_text'] = df['comment_text'].astype(str)\n",
        "\n",
        "# Tokenize text in the specified columns\n",
        "for column in columns_to_tokenize:\n",
        "    df['comment_text'] = df['comment_text'].apply(lambda x: word_tokenize(x))\n",
        "\n",
        "# Display the DataFrame after tokenization\n",
        "print(df)\n"
      ],
      "metadata": {
        "colab": {
          "base_uri": "https://localhost:8080/"
        },
        "id": "dHhonstLgDx4",
        "outputId": "9583ccf0-7b4c-405c-cf4a-f203619446d1"
      },
      "execution_count": null,
      "outputs": [
        {
          "output_type": "stream",
          "name": "stderr",
          "text": [
            "[nltk_data] Downloading package punkt to /root/nltk_data...\n",
            "[nltk_data]   Package punkt is already up-to-date!\n"
          ]
        },
        {
          "output_type": "stream",
          "name": "stdout",
          "text": [
            "                                            comment_text  class\n",
            "0      [explanation, edits, made, username, hardcore,...      2\n",
            "1      [daww, matches, background, colour, im, seemin...      2\n",
            "2      [hey, man, im, really, trying, edit, war, guy,...      2\n",
            "3      [cant, make, real, suggestions, improvement, w...      2\n",
            "4                    [sir, hero, chance, remember, page]      2\n",
            "...                                                  ...    ...\n",
            "21604                       [guy, biggest, faggot, omfg]      0\n",
            "21605  [one, names, offensive, kike, wop, kraut, wetb...      0\n",
            "21606                   [pussy, ass, nigga, know, nigga]      0\n",
            "21607                                   [youre, niggers]      0\n",
            "21608  [youre, retard, hope, get, type, 2, diabetes, ...      0\n",
            "\n",
            "[21609 rows x 2 columns]\n"
          ]
        }
      ]
    },
    {
      "cell_type": "code",
      "source": [
        "# # Get max_count featured names in the dataset column 'comment_text'\n",
        "# from sklearn.feature_extraction.text import CountVectorizer\n",
        "# cv = CountVectorizer(max_features = 100)\n",
        "# X = cv.fit_transform(df['comment_text']).toarray()\n",
        "# y = df['class']\n",
        "\n",
        "from sklearn.feature_extraction.text import CountVectorizer\n",
        "\n",
        "\n",
        "# Convert lists in 'comment_text' column to strings\n",
        "df['comment_text'] = df['comment_text'].apply(lambda x: ' '.join(map(str, x)) if isinstance(x, list) else str(x))\n",
        "\n",
        "# Use CountVectorizer\n",
        "cv = CountVectorizer(max_features=100)\n",
        "X = cv.fit_transform(df['comment_text']).toarray()\n",
        "y = df['class']\n"
      ],
      "metadata": {
        "id": "OIJUaNiZgFx2"
      },
      "execution_count": null,
      "outputs": []
    },
    {
      "cell_type": "code",
      "source": [
        "cv.get_feature_names_out()"
      ],
      "metadata": {
        "colab": {
          "base_uri": "https://localhost:8080/"
        },
        "id": "LRNH3SMCgH8b",
        "outputId": "4723dc33-93f9-46f9-a0eb-14df15a322c1"
      },
      "execution_count": null,
      "outputs": [
        {
          "output_type": "execute_result",
          "data": {
            "text/plain": [
              "array(['aicle', 'aicles', 'also', 'ass', 'asshole', 'back', 'balls',\n",
              "       'bark', 'bitch', 'block', 'blocked', 'bullshit', 'cant', 'cock',\n",
              "       'could', 'cunt', 'deletion', 'dick', 'die', 'dont', 'edit',\n",
              "       'editing', 'edits', 'even', 'fag', 'faggot', 'fat', 'find',\n",
              "       'first', 'fuck', 'fucking', 'gay', 'get', 'give', 'go', 'going',\n",
              "       'good', 'hate', 'hi', 'im', 'information', 'ive', 'jew', 'know',\n",
              "       'life', 'like', 'little', 'look', 'made', 'make', 'many', 'may',\n",
              "       'moron', 'much', 'name', 'need', 'never', 'new', 'nigger', 'one',\n",
              "       'page', 'pages', 'penis', 'people', 'person', 'pig', 'please',\n",
              "       'read', 'really', 'right', 'said', 'say', 'see', 'sex', 'shit',\n",
              "       'since', 'someone', 'something', 'sources', 'still', 'stop',\n",
              "       'stupid', 'suck', 'sucks', 'take', 'talk', 'thanks', 'think',\n",
              "       'time', 'use', 'user', 'vandalism', 'want', 'way', 'well', 'wiki',\n",
              "       'wikipedia', 'work', 'would', 'youre'], dtype=object)"
            ]
          },
          "metadata": {},
          "execution_count": 56
        }
      ]
    },
    {
      "cell_type": "code",
      "source": [
        "import torch\n",
        "from torch import nn\n",
        "import torch.nn.functional as F\n",
        "import torch.optim as optim\n",
        "\n",
        "print(torch.__version__)\n",
        "\n",
        "# Setting up device agnostic\n",
        "device = 'cuda' if torch.cuda.is_available() else 'cpu'\n",
        "print(device)"
      ],
      "metadata": {
        "colab": {
          "base_uri": "https://localhost:8080/"
        },
        "id": "HS8LErfvgKTM",
        "outputId": "3d1a241b-ec15-4574-dfb5-7b4fec193b61"
      },
      "execution_count": null,
      "outputs": [
        {
          "output_type": "stream",
          "name": "stdout",
          "text": [
            "2.1.0+cu121\n",
            "cpu\n"
          ]
        }
      ]
    },
    {
      "cell_type": "code",
      "source": [
        "X.dtype, y.dtype"
      ],
      "metadata": {
        "colab": {
          "base_uri": "https://localhost:8080/"
        },
        "id": "lrEBzeVTgPjb",
        "outputId": "3beb9849-b610-4fcc-d63d-fb7cdc6c1587"
      },
      "execution_count": null,
      "outputs": [
        {
          "output_type": "execute_result",
          "data": {
            "text/plain": [
              "(dtype('int64'), dtype('int64'))"
            ]
          },
          "metadata": {},
          "execution_count": 58
        }
      ]
    },
    {
      "cell_type": "code",
      "source": [
        "#  X and y are your input features and labels\n",
        "X = torch.tensor(X, dtype=torch.long)\n",
        "y = torch.tensor(y, dtype=torch.long)\n",
        "\n",
        "X, y"
      ],
      "metadata": {
        "colab": {
          "base_uri": "https://localhost:8080/"
        },
        "id": "DKKxmmwhgSKC",
        "outputId": "94d46ab5-b413-4768-ff2b-cc470e586980"
      },
      "execution_count": null,
      "outputs": [
        {
          "output_type": "execute_result",
          "data": {
            "text/plain": [
              "(tensor([[0, 0, 0,  ..., 0, 0, 0],\n",
              "         [0, 0, 0,  ..., 0, 0, 0],\n",
              "         [0, 0, 0,  ..., 0, 0, 0],\n",
              "         ...,\n",
              "         [0, 0, 0,  ..., 0, 0, 0],\n",
              "         [0, 0, 0,  ..., 0, 0, 1],\n",
              "         [0, 0, 0,  ..., 0, 0, 1]]),\n",
              " tensor([2, 2, 2,  ..., 0, 0, 0]))"
            ]
          },
          "metadata": {},
          "execution_count": 59
        }
      ]
    },
    {
      "cell_type": "code",
      "source": [
        "X.ndim, y.ndim, X.shape, y.shape"
      ],
      "metadata": {
        "colab": {
          "base_uri": "https://localhost:8080/"
        },
        "id": "aKcf0pHCgUSv",
        "outputId": "8533b3fc-fe6f-4036-f51d-2cdd9120b1e8"
      },
      "execution_count": null,
      "outputs": [
        {
          "output_type": "execute_result",
          "data": {
            "text/plain": [
              "(2, 1, torch.Size([21609, 100]), torch.Size([21609]))"
            ]
          },
          "metadata": {},
          "execution_count": 60
        }
      ]
    },
    {
      "cell_type": "code",
      "source": [
        "from sklearn.model_selection import train_test_split\n",
        "\n",
        "X_train, X_test, y_train, y_test = train_test_split(X,\n",
        "                                                    y,\n",
        "                                                    test_size = 0.2,  # 80%: train | 20% test\n",
        "                                                    # shuffle = True,\n",
        "                                                    random_state = 42)"
      ],
      "metadata": {
        "id": "krrUmHZLgWto"
      },
      "execution_count": null,
      "outputs": []
    },
    {
      "cell_type": "code",
      "source": [
        "len(X_train),len(y_train), len(X_test), len(y_test)"
      ],
      "metadata": {
        "colab": {
          "base_uri": "https://localhost:8080/"
        },
        "id": "cPe8aMPlgYY7",
        "outputId": "b83734c0-fd89-4dc7-e51a-d32c9222dd1d"
      },
      "execution_count": null,
      "outputs": [
        {
          "output_type": "execute_result",
          "data": {
            "text/plain": [
              "(17287, 17287, 4322, 4322)"
            ]
          },
          "metadata": {},
          "execution_count": 62
        }
      ]
    },
    {
      "cell_type": "code",
      "source": [
        "# Making sure if datasets are in long types\n",
        "X_train, y_train = X_train.clone().detach().long(), y_train.clone().detach().long()\n",
        "X_test, y_test = X_test.clone().detach().long(), y_test.clone().detach().long()"
      ],
      "metadata": {
        "id": "hLWk9qNugaVM"
      },
      "execution_count": null,
      "outputs": []
    },
    {
      "cell_type": "code",
      "source": [
        "X_train.dtype, X_test.dtype, y_train.dtype, y_test.dtype"
      ],
      "metadata": {
        "colab": {
          "base_uri": "https://localhost:8080/"
        },
        "id": "NtLPeAySgdAA",
        "outputId": "41fc0cc2-087a-4944-c720-3264edcbbc7f"
      },
      "execution_count": null,
      "outputs": [
        {
          "output_type": "execute_result",
          "data": {
            "text/plain": [
              "(torch.int64, torch.int64, torch.int64, torch.int64)"
            ]
          },
          "metadata": {},
          "execution_count": 64
        }
      ]
    },
    {
      "cell_type": "code",
      "source": [
        "X_train.shape, X_test.shape, y_train.shape, y_test.shape"
      ],
      "metadata": {
        "colab": {
          "base_uri": "https://localhost:8080/"
        },
        "id": "6pJnZLwage9i",
        "outputId": "762ea7e1-6d77-4c1e-d1c1-0576dffb0053"
      },
      "execution_count": null,
      "outputs": [
        {
          "output_type": "execute_result",
          "data": {
            "text/plain": [
              "(torch.Size([17287, 100]),\n",
              " torch.Size([4322, 100]),\n",
              " torch.Size([17287]),\n",
              " torch.Size([4322]))"
            ]
          },
          "metadata": {},
          "execution_count": 65
        }
      ]
    },
    {
      "cell_type": "code",
      "source": [
        "class LSTMModel(nn.Module):\n",
        "  def __init__(self, vocab_size, embedding_dim, hidden_dim, output_dim):\n",
        "    super(LSTMModel, self).__init__()\n",
        "    self.embedding = nn.Embedding(vocab_size, embedding_dim, max_norm = True)\n",
        "    self.lstm = nn.LSTM(embedding_dim, hidden_dim, batch_first=True)\n",
        "    self.dropout = nn.Dropout(0.2)\n",
        "    self.bn = nn.BatchNorm1d(hidden_dim)\n",
        "    self.fc = nn.Linear(hidden_dim, output_dim)\n",
        "    self.softmax = nn.Softmax(dim=1)\n",
        "    # self.relu = nn.ReLU()\n",
        "\n",
        "  def forward(self, x):\n",
        "    embedded = self.embedding(x)\n",
        "    embedded = self.dropout(embedded)\n",
        "    lstm_out, _ = self.lstm(embedded)\n",
        "    lstm_out = lstm_out[:, -1, :]\n",
        "\n",
        "    # Apply batch normalization after LSTM\n",
        "    lstm_out = self.bn(lstm_out)\n",
        "\n",
        "    fc_out = self.fc(lstm_out)\n",
        "    output = F.softmax(fc_out, dim=1)\n",
        "    return output"
      ],
      "metadata": {
        "id": "2d-INS_xgg7C"
      },
      "execution_count": null,
      "outputs": []
    },
    {
      "cell_type": "code",
      "source": [
        "vocab_size = 10000\n",
        "embedding_dim = 24  # 100 for LSTM | 50 for BiDirectionalLSTM\n",
        "hidden_dim = 16\n",
        "output_dim = 3\n",
        "\n",
        "# Change Model Class name if you want 'BidirectionalLSTMModel' or 'LSTMModel'\n",
        "model = LSTMModel(vocab_size, embedding_dim, hidden_dim, output_dim)\n",
        "model"
      ],
      "metadata": {
        "colab": {
          "base_uri": "https://localhost:8080/"
        },
        "id": "hPrQIqPPgjHe",
        "outputId": "91cdc07b-31dc-460a-d16c-01c854605e1b"
      },
      "execution_count": null,
      "outputs": [
        {
          "output_type": "execute_result",
          "data": {
            "text/plain": [
              "LSTMModel(\n",
              "  (embedding): Embedding(10000, 24, max_norm=True)\n",
              "  (lstm): LSTM(24, 16, batch_first=True)\n",
              "  (dropout): Dropout(p=0.2, inplace=False)\n",
              "  (bn): BatchNorm1d(16, eps=1e-05, momentum=0.1, affine=True, track_running_stats=True)\n",
              "  (fc): Linear(in_features=16, out_features=3, bias=True)\n",
              "  (softmax): Softmax(dim=1)\n",
              ")"
            ]
          },
          "metadata": {},
          "execution_count": 67
        }
      ]
    },
    {
      "cell_type": "code",
      "source": [
        "next(model.parameters()).device"
      ],
      "metadata": {
        "colab": {
          "base_uri": "https://localhost:8080/"
        },
        "id": "t1GIOZldglxl",
        "outputId": "d5e1d4cd-6882-4fc8-f014-89a245806800"
      },
      "execution_count": null,
      "outputs": [
        {
          "output_type": "execute_result",
          "data": {
            "text/plain": [
              "device(type='cpu')"
            ]
          },
          "metadata": {},
          "execution_count": 68
        }
      ]
    },
    {
      "cell_type": "code",
      "source": [
        "# Set model usage to CUDA\n",
        "model.to(device)\n",
        "next(model.parameters()).device"
      ],
      "metadata": {
        "colab": {
          "base_uri": "https://localhost:8080/"
        },
        "id": "SihBjRscgpex",
        "outputId": "71d432e2-1202-4bf2-bd0b-88f240339f9e"
      },
      "execution_count": null,
      "outputs": [
        {
          "output_type": "execute_result",
          "data": {
            "text/plain": [
              "device(type='cpu')"
            ]
          },
          "metadata": {},
          "execution_count": 69
        }
      ]
    },
    {
      "cell_type": "code",
      "source": [
        "# Loss function and optimizers\n",
        "loss_fn = nn.CrossEntropyLoss()\n",
        "optimizer = torch.optim.SGD(model.parameters(), lr=0.1)"
      ],
      "metadata": {
        "id": "TU5hw6R1grKR"
      },
      "execution_count": null,
      "outputs": []
    },
    {
      "cell_type": "code",
      "source": [
        "# Before training loop\n",
        "torch.cuda.empty_cache()\n"
      ],
      "metadata": {
        "id": "U87oj53ags-R"
      },
      "execution_count": null,
      "outputs": []
    },
    {
      "cell_type": "code",
      "source": [
        "torch.manual_seed(42)\n",
        "\n",
        "epochs = 50\n",
        "batch_size = 64\n",
        "\n",
        "# Placing data on CUDA\n",
        "X_train = X_train.to(device)\n",
        "X_test = X_test.to(device)\n",
        "y_train = y_train.to(device)\n",
        "y_test = y_test.to(device)\n",
        "\n",
        "# Tracking\n",
        "epoch_count = []\n",
        "loss_values = []\n",
        "test_loss_values = []\n",
        "train_accuracies = []\n",
        "test_accuracies = []\n",
        "\n",
        "# Train loop\n",
        "for epoch in range(epochs):\n",
        "    # train_accuracy, test_accuracy = 0, 0\n",
        "    model.train()\n",
        "    y_pred = model(X_train)\n",
        "    loss = loss_fn(y_pred, y_train)\n",
        "\n",
        "    optimizer.zero_grad()\n",
        "    loss.backward()\n",
        "    optimizer.step()\n",
        "\n",
        "    # Calculate training accuracy\n",
        "    _, predicted_train_labels = torch.max(y_pred, 1)\n",
        "    train_accuracy = (predicted_train_labels == y_train).sum().item() / len(y_train)\n",
        "    # train_accuracy += torchmetrics_accuracy(y_train,\n",
        "    #                                         y_pred.argmax(1))\n",
        "\n",
        "    # Testing\n",
        "    model.eval()\n",
        "    with torch.inference_mode():  # Use torch.no_grad() for inference mode\n",
        "        test_pred = model(X_test)\n",
        "        test_loss = loss_fn(test_pred, y_test)\n",
        "\n",
        "        # Calculate test accuracy\n",
        "        _, predicted_test_labels = torch.max(test_pred, 1)\n",
        "        test_accuracy = (predicted_test_labels == y_test).sum().item() / len(y_test)\n",
        "        # test_accuracy += torchmetrics_accuracy(y_test,\n",
        "        #                                   test_pred.argmax(dim=1))\n",
        "\n",
        "    # Print Training Progress\n",
        "    if epoch % 10 == 0 or epoch == epochs-1:\n",
        "        epoch_count.append(epoch)\n",
        "        loss_values.append(loss)\n",
        "        test_loss_values.append(test_loss)\n",
        "        train_accuracies.append(train_accuracy)\n",
        "        test_accuracies.append(test_accuracy)\n",
        "        print(f\"Epoch: {epoch} | Train Loss: {loss:.4f} | Test Loss: {test_loss:.4f} | Train Accuracy: {train_accuracy*100:.2f}% | Test Accuracy: {test_accuracy*100:.2f}%\")\n"
      ],
      "metadata": {
        "colab": {
          "base_uri": "https://localhost:8080/"
        },
        "id": "oBkckmXLgvLV",
        "outputId": "fddb151c-2d04-4ec1-ae80-0fb427eec4b9"
      },
      "execution_count": null,
      "outputs": [
        {
          "output_type": "stream",
          "name": "stdout",
          "text": [
            "Epoch: 0 | Train Loss: 1.1098 | Test Loss: 1.1018 | Train Accuracy: 33.23% | Test Accuracy: 40.58%\n",
            "Epoch: 10 | Train Loss: 1.1022 | Test Loss: 1.0979 | Train Accuracy: 35.75% | Test Accuracy: 41.16%\n",
            "Epoch: 20 | Train Loss: 1.0965 | Test Loss: 1.0945 | Train Accuracy: 38.05% | Test Accuracy: 41.21%\n",
            "Epoch: 30 | Train Loss: 1.0917 | Test Loss: 1.0914 | Train Accuracy: 39.41% | Test Accuracy: 41.44%\n",
            "Epoch: 40 | Train Loss: 1.0874 | Test Loss: 1.0885 | Train Accuracy: 40.89% | Test Accuracy: 41.05%\n",
            "Epoch: 49 | Train Loss: 1.0848 | Test Loss: 1.0861 | Train Accuracy: 40.45% | Test Accuracy: 40.88%\n"
          ]
        }
      ]
    },
    {
      "cell_type": "code",
      "source": [
        "import matplotlib.pyplot as plt\n",
        "import numpy as np\n",
        "\n",
        "# Plot loss curves\n",
        "plt.figure(figsize=(8,3))\n",
        "plt.plot(epoch_count, np.array(torch.tensor(loss_values).numpy()), label=\"Train Loss\")\n",
        "plt.plot(epoch_count, np.array(torch.tensor(test_loss_values).numpy()), label=\"Test Loss\")\n",
        "plt.title(\"Train/Test loss curves\")\n",
        "plt.ylabel(\"Loss\")\n",
        "plt.xlabel(\"Epoch\")\n",
        "plt.legend();"
      ],
      "metadata": {
        "colab": {
          "base_uri": "https://localhost:8080/",
          "height": 333
        },
        "id": "Q2SgDyEHgxat",
        "outputId": "ae3d97b0-ca32-4729-b6aa-5a125e1b90bd"
      },
      "execution_count": null,
      "outputs": [
        {
          "output_type": "display_data",
          "data": {
            "text/plain": [
              "<Figure size 800x300 with 1 Axes>"
            ],
            "image/png": "[encoded data removed]"
          },
          "metadata": {}
        }
      ]
    },
    {
      "cell_type": "code",
      "source": [
        "pip install h5py\n"
      ],
      "metadata": {
        "colab": {
          "base_uri": "https://localhost:8080/"
        },
        "id": "_-NPMFGehIpo",
        "outputId": "ff94f483-c90f-4244-f142-cb0b31ce2879"
      },
      "execution_count": null,
      "outputs": [
        {
          "output_type": "stream",
          "name": "stdout",
          "text": [
            "Requirement already satisfied: h5py in /usr/local/lib/python3.10/dist-packages (3.9.0)\n",
            "Requirement already satisfied: numpy>=1.17.3 in /usr/local/lib/python3.10/dist-packages (from h5py) (1.23.5)\n"
          ]
        }
      ]
    },
    {
      "cell_type": "code",
      "source": [
        "import torch\n",
        "import h5py\n",
        "\n",
        "# Assuming 'model' is your PyTorch model\n",
        "model_state_dict = model.state_dict()\n",
        "\n",
        "# Create an HDF5 file and save the model state dictionary\n",
        "with h5py.File('hate.h5', 'w') as f:\n",
        "    for key, value in model_state_dict.items():\n",
        "        # Move the tensor to CPU before converting to NumPy\n",
        "        f.create_dataset(key, data=value.cpu().numpy())\n"
      ],
      "metadata": {
        "id": "bqy0MqQuhJqy"
      },
      "execution_count": null,
      "outputs": []
    },
    {
      "cell_type": "code",
      "source": [
        "# Load the state dictionary from the HDF5 file\n",
        "with h5py.File('hate.h5', 'r') as f:\n",
        "    model_state_dict = {key: torch.tensor(f[key][:]) for key in f.keys()}\n",
        "\n",
        "# Load the state dictionary into the model\n",
        "model.load_state_dict(model_state_dict)\n",
        "\n",
        "# Set the model to evaluation mode\n",
        "model.eval()"
      ],
      "metadata": {
        "id": "medj_oL0hMn-"
      },
      "execution_count": null,
      "outputs": []
    },
    {
      "cell_type": "code",
      "source": [
        "# Example: Input text for testing\n",
        "input_text = \"Your input text here.\"\n",
        "\n",
        "# Example: Preprocess the input text (adjust this based on your model's requirements)\n",
        "def preprocess_text(text):\n",
        "    # Your preprocessing logic here (tokenization, embedding, etc.)\n",
        "    tokens = word_tokenize(text)\n",
        "    return processed_text\n",
        "\n",
        "# Example: Tokenization\n",
        "processed_text = preprocess_text(input_text)\n",
        "\n",
        "# Pass the preprocessed input through the loaded model for prediction\n",
        "with torch.no_grad():\n",
        "    input_tensor = torch.tensor(processed_text)  # Adjust this based on your preprocessing\n",
        "    output = model(input_tensor)\n",
        "\n",
        "# The 'output' variable now contains the model's prediction.\n",
        "# You might need to post-process the output based on your model's task (e.g., softmax for classification).\n",
        "print(output)"
      ],
      "metadata": {
        "id": "RI9OSKOhhPpt"
      },
      "execution_count": null,
      "outputs": []
    }
  ]
}