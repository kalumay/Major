{
  "nbformat": 4,
  "nbformat_minor": 0,
  "metadata": {
    "colab": {
      "provenance": [],
      "mount_file_id": "11h8hTiYdMCEXxa93_PzmKe5QmdojOxAs",
      "authorship_tag": "ABX9TyPGjZ5l/mLyNzkNXfg80C01",
      "include_colab_link": true
    },
    "kernelspec": {
      "name": "python3",
      "display_name": "Python 3"
    },
    "language_info": {
      "name": "python"
    }
  },
  "cells": [
    {
      "cell_type": "markdown",
      "metadata": {
        "id": "view-in-github",
        "colab_type": "text"
      },
      "source": [
        "<a href=\"https://colab.research.google.com/github/kalumay/Major/blob/master/RehateNtoxic.ipynb\" target=\"_parent\"><img src=\"https://colab.research.google.com/assets/colab-badge.svg\" alt=\"Open In Colab\"/></a>"
      ]
    },
    {
      "cell_type": "code",
      "execution_count": null,
      "metadata": {
        "id": "CdzjOEURO3NS"
      },
      "outputs": [],
      "source": []
    },
    {
      "cell_type": "code",
      "source": [
        "from google.colab import drive\n",
        "drive.mount('/content/drive')"
      ],
      "metadata": {
        "colab": {
          "base_uri": "https://localhost:8080/"
        },
        "id": "lOU5FvodO-p4",
        "outputId": "7c1730e9-23f7-4042-923c-0b748a0c352b"
      },
      "execution_count": null,
      "outputs": [
        {
          "output_type": "stream",
          "name": "stdout",
          "text": [
            "Drive already mounted at /content/drive; to attempt to forcibly remount, call drive.mount(\"/content/drive\", force_remount=True).\n"
          ]
        }
      ]
    },
    {
      "cell_type": "code",
      "source": [
        "data_path='/content/drive/MyDrive/Colab Notebooks/Datas/'"
      ],
      "metadata": {
        "id": "-npuJdA7O_o3"
      },
      "execution_count": null,
      "outputs": []
    },
    {
      "cell_type": "code",
      "source": [
        "import pandas as pd\n",
        "ds=pd.read_csv('/content/drive/MyDrive/Colab Notebooks/Datas/labeled_data.csv/labeled_data.csv')"
      ],
      "metadata": {
        "id": "eebx1SZXPEiR"
      },
      "execution_count": null,
      "outputs": []
    },
    {
      "cell_type": "code",
      "source": [
        "print(ds.to_string)"
      ],
      "metadata": {
        "colab": {
          "base_uri": "https://localhost:8080/"
        },
        "id": "UCJuCVeGPHGx",
        "outputId": "0c2224e8-1627-4079-8fbe-6afb12f781fb"
      },
      "execution_count": null,
      "outputs": [
        {
          "output_type": "stream",
          "name": "stdout",
          "text": [
            "<bound method DataFrame.to_string of        Unnamed: 0  count  hate_speech  offensive_language  neither  class  \\\n",
            "0               0      3            0                   0        3      2   \n",
            "1               1      3            0                   3        0      1   \n",
            "2               2      3            0                   3        0      1   \n",
            "3               3      3            0                   2        1      1   \n",
            "4               4      6            0                   6        0      1   \n",
            "...           ...    ...          ...                 ...      ...    ...   \n",
            "24778       25291      3            0                   2        1      1   \n",
            "24779       25292      3            0                   1        2      2   \n",
            "24780       25294      3            0                   3        0      1   \n",
            "24781       25295      6            0                   6        0      1   \n",
            "24782       25296      3            0                   0        3      2   \n",
            "\n",
            "                                                   tweet  \n",
            "0      !!! RT @mayasolovely: As a woman you shouldn't...  \n",
            "1      !!!!! RT @mleew17: boy dats cold...tyga dwn ba...  \n",
            "2      !!!!!!! RT @UrKindOfBrand Dawg!!!! RT @80sbaby...  \n",
            "3      !!!!!!!!! RT @C_G_Anderson: @viva_based she lo...  \n",
            "4      !!!!!!!!!!!!! RT @ShenikaRoberts: The shit you...  \n",
            "...                                                  ...  \n",
            "24778  you's a muthaf***in lie &#8220;@LifeAsKing: @2...  \n",
            "24779  you've gone and broke the wrong heart baby, an...  \n",
            "24780  young buck wanna eat!!.. dat nigguh like I ain...  \n",
            "24781              youu got wild bitches tellin you lies  \n",
            "24782  ~~Ruffled | Ntac Eileen Dahlia - Beautiful col...  \n",
            "\n",
            "[24783 rows x 7 columns]>\n"
          ]
        }
      ]
    },
    {
      "cell_type": "code",
      "source": [
        "for column in ds.columns:\n",
        "    print(f\"\\nColumn: {column}\")\n",
        "    print(ds[column].value_counts())\n"
      ],
      "metadata": {
        "colab": {
          "base_uri": "https://localhost:8080/"
        },
        "id": "8LvE6KXLPJ4A",
        "outputId": "72cbf070-5db2-4e88-d67b-5d1a4df1756c"
      },
      "execution_count": null,
      "outputs": [
        {
          "output_type": "stream",
          "name": "stdout",
          "text": [
            "\n",
            "Column: Unnamed: 0\n",
            "0        1\n",
            "16934    1\n",
            "16907    1\n",
            "16906    1\n",
            "16905    1\n",
            "        ..\n",
            "8487     1\n",
            "8486     1\n",
            "8485     1\n",
            "8484     1\n",
            "25296    1\n",
            "Name: Unnamed: 0, Length: 24783, dtype: int64\n",
            "\n",
            "Column: count\n",
            "3    22807\n",
            "6     1571\n",
            "4      211\n",
            "9      167\n",
            "7       27\n",
            "Name: count, dtype: int64\n",
            "\n",
            "Column: hate_speech\n",
            "0    19790\n",
            "1     3419\n",
            "2     1251\n",
            "3      287\n",
            "4       21\n",
            "5        7\n",
            "6        5\n",
            "7        3\n",
            "Name: hate_speech, dtype: int64\n",
            "\n",
            "Column: offensive_language\n",
            "3    13383\n",
            "2     4246\n",
            "0     3475\n",
            "1     2066\n",
            "6      857\n",
            "5      369\n",
            "4      251\n",
            "9       66\n",
            "8       37\n",
            "7       33\n",
            "Name: offensive_language, dtype: int64\n",
            "\n",
            "Column: neither\n",
            "0    18892\n",
            "3     2790\n",
            "1     1694\n",
            "2     1200\n",
            "6      103\n",
            "5       54\n",
            "4       35\n",
            "9        5\n",
            "8        5\n",
            "7        5\n",
            "Name: neither, dtype: int64\n",
            "\n",
            "Column: class\n",
            "1    19190\n",
            "2     4163\n",
            "0     1430\n",
            "Name: class, dtype: int64\n",
            "\n",
            "Column: tweet\n",
            "!!! RT @mayasolovely: As a woman you shouldn't complain about cleaning up your house. &amp; as a man you should always take the trash out...          1\n",
            "RT @MurderHigashi: I cannot be worried 'bout no bitch.                                                                                                1\n",
            "RT @MrPerfect_22: Most of these niggas go broke for these hoes !!                                                                                     1\n",
            "RT @MrPOONsoaker: Foh RT @Thotcho: @MrPOONsoaker lmao 6&#8242;0 but I&#8217;m hella skinny so bitches don&#8217;t like me                             1\n",
            "RT @MrNationWide: fake eyelashes are okay if they look natural, but some of you bitches look like you gonna take flight if you blink too fa&#8230;    1\n",
            "                                                                                                                                                     ..\n",
            "But she can shade the shit out a bitch RT @axolROSE: #YourWifeCantRead                                                                                1\n",
            "But she a bad bad bitch make you late for it.                                                                                                         1\n",
            "But rich is a light skin coon. So it's expected.                                                                                                      1\n",
            "But not prettier than Amber's. RT @YumiYoko: Her pussy is pretty                                                                                      1\n",
            "~~Ruffled | Ntac Eileen Dahlia - Beautiful color combination of pink, orange, yellow &amp; white. A Coll http://t.co/H0dYEBvnZB                       1\n",
            "Name: tweet, Length: 24783, dtype: int64\n"
          ]
        }
      ]
    },
    {
      "cell_type": "code",
      "source": [
        "columns_to_clean = ['tweet']  # Replace with actual column names\n",
        "\n",
        "# Remove words starting with \"@\" in the specified columns\n",
        "for column in columns_to_clean:\n",
        "    ds[column] = ds[column].str.replace(r'\\S*@\\S*', '', regex=True)\n",
        "\n",
        "print(ds)\n",
        "\n"
      ],
      "metadata": {
        "colab": {
          "base_uri": "https://localhost:8080/"
        },
        "id": "v4mWA-8mPNRl",
        "outputId": "4dbe3f14-7b4b-47ef-a0e0-dfc18e07a81e"
      },
      "execution_count": null,
      "outputs": [
        {
          "output_type": "stream",
          "name": "stdout",
          "text": [
            "       Unnamed: 0  count  hate_speech  offensive_language  neither  class  \\\n",
            "0               0      3            0                   0        3      2   \n",
            "1               1      3            0                   3        0      1   \n",
            "2               2      3            0                   3        0      1   \n",
            "3               3      3            0                   2        1      1   \n",
            "4               4      6            0                   6        0      1   \n",
            "...           ...    ...          ...                 ...      ...    ...   \n",
            "24778       25291      3            0                   2        1      1   \n",
            "24779       25292      3            0                   1        2      2   \n",
            "24780       25294      3            0                   3        0      1   \n",
            "24781       25295      6            0                   6        0      1   \n",
            "24782       25296      3            0                   0        3      2   \n",
            "\n",
            "                                                   tweet  \n",
            "0      !!! RT  As a woman you shouldn't complain abou...  \n",
            "1      !!!!! RT  boy dats cold...tyga dwn bad for cuf...  \n",
            "2      !!!!!!! RT  Dawg!!!! RT  You ever fuck a bitch...  \n",
            "3                  !!!!!!!!! RT   she look like a tranny  \n",
            "4      !!!!!!!!!!!!! RT  The shit you hear about me m...  \n",
            "...                                                  ...  \n",
            "24778  you's a muthaf***in lie    right! His TL is tr...  \n",
            "24779  you've gone and broke the wrong heart baby, an...  \n",
            "24780  young buck wanna eat!!.. dat nigguh like I ain...  \n",
            "24781              youu got wild bitches tellin you lies  \n",
            "24782  ~~Ruffled | Ntac Eileen Dahlia - Beautiful col...  \n",
            "\n",
            "[24783 rows x 7 columns]\n"
          ]
        }
      ]
    },
    {
      "cell_type": "code",
      "source": [
        "row_65 = ds.iloc[66]\n",
        "print(row_65)"
      ],
      "metadata": {
        "colab": {
          "base_uri": "https://localhost:8080/"
        },
        "id": "FwS1b2ioPhA3",
        "outputId": "6c776ce2-cc54-4738-a24b-a21f0cc118be"
      },
      "execution_count": null,
      "outputs": [
        {
          "output_type": "stream",
          "name": "stdout",
          "text": [
            "Unnamed: 0                                                          66\n",
            "count                                                                3\n",
            "hate_speech                                                          0\n",
            "offensive_language                                                   1\n",
            "neither                                                              2\n",
            "class                                                                2\n",
            "tweet                  http://t.co/3gzUpfuMev\" woof woof and hot soles\n",
            "Name: 66, dtype: object\n"
          ]
        }
      ]
    },
    {
      "cell_type": "code",
      "source": [
        "columns_to_clean = ['tweet']  # Replace with actual column names\n",
        "\n",
        "# Clean special characters in the specified columns\n",
        "for column in columns_to_clean:\n",
        "    ds[column] = ds[column].str.replace('[^a-zA-Z0-9\\s]', '', regex=True)\n",
        "\n",
        "# Display the cleaned DataFrame\n",
        "print(ds)\n"
      ],
      "metadata": {
        "colab": {
          "base_uri": "https://localhost:8080/"
        },
        "id": "YHeoN8ZcP2lL",
        "outputId": "4ce1cef6-e8f6-4e8c-e814-9b62da0f5f88"
      },
      "execution_count": null,
      "outputs": [
        {
          "output_type": "stream",
          "name": "stdout",
          "text": [
            "       Unnamed: 0  count  hate_speech  offensive_language  neither  class  \\\n",
            "0               0      3            0                   0        3      2   \n",
            "1               1      3            0                   3        0      1   \n",
            "2               2      3            0                   3        0      1   \n",
            "3               3      3            0                   2        1      1   \n",
            "4               4      6            0                   6        0      1   \n",
            "...           ...    ...          ...                 ...      ...    ...   \n",
            "24778       25291      3            0                   2        1      1   \n",
            "24779       25292      3            0                   1        2      2   \n",
            "24780       25294      3            0                   3        0      1   \n",
            "24781       25295      6            0                   6        0      1   \n",
            "24782       25296      3            0                   0        3      2   \n",
            "\n",
            "                                                   tweet  \n",
            "0       RT  As a woman you shouldnt complain about cl...  \n",
            "1       RT  boy dats coldtyga dwn bad for cuffin dat ...  \n",
            "2       RT  Dawg RT  You ever fuck a bitch and she st...  \n",
            "3                            RT   she look like a tranny  \n",
            "4       RT  The shit you hear about me might be true ...  \n",
            "...                                                  ...  \n",
            "24778  yous a muthafin lie    right His TL is trash 8...  \n",
            "24779  youve gone and broke the wrong heart baby and ...  \n",
            "24780  young buck wanna eat dat nigguh like I aint fu...  \n",
            "24781              youu got wild bitches tellin you lies  \n",
            "24782  Ruffled  Ntac Eileen Dahlia  Beautiful color c...  \n",
            "\n",
            "[24783 rows x 7 columns]\n"
          ]
        }
      ]
    },
    {
      "cell_type": "code",
      "source": [
        "row_55 = ds.iloc[56]\n",
        "print(row_55)"
      ],
      "metadata": {
        "colab": {
          "base_uri": "https://localhost:8080/"
        },
        "id": "4h3IDR9gSI4v",
        "outputId": "14741ea3-3272-46a4-e3aa-239f1f876ccf"
      },
      "execution_count": null,
      "outputs": [
        {
          "output_type": "stream",
          "name": "stdout",
          "text": [
            "Unnamed: 0                                                           56\n",
            "count                                                                 3\n",
            "hate_speech                                                           0\n",
            "offensive_language                                                    3\n",
            "neither                                                               0\n",
            "class                                                                 1\n",
            "tweet                  And ima steal his cat n replace it with a pit...\n",
            "Name: 56, dtype: object\n"
          ]
        }
      ]
    },
    {
      "cell_type": "code",
      "source": [
        "# Remove rows with null values in the specified columns\n",
        "ds.dropna(subset=columns_to_clean, inplace=True)\n",
        "\n",
        "# Display the DataFrame after removing null values\n",
        "print(ds)"
      ],
      "metadata": {
        "colab": {
          "base_uri": "https://localhost:8080/"
        },
        "id": "dRY2JhbVSS1d",
        "outputId": "3fe7e6d4-d0c7-4ec9-b8c7-e92e039c3e24"
      },
      "execution_count": null,
      "outputs": [
        {
          "output_type": "stream",
          "name": "stdout",
          "text": [
            "       Unnamed: 0  count  hate_speech  offensive_language  neither  class  \\\n",
            "0               0      3            0                   0        3      2   \n",
            "1               1      3            0                   3        0      1   \n",
            "2               2      3            0                   3        0      1   \n",
            "3               3      3            0                   2        1      1   \n",
            "4               4      6            0                   6        0      1   \n",
            "...           ...    ...          ...                 ...      ...    ...   \n",
            "24778       25291      3            0                   2        1      1   \n",
            "24779       25292      3            0                   1        2      2   \n",
            "24780       25294      3            0                   3        0      1   \n",
            "24781       25295      6            0                   6        0      1   \n",
            "24782       25296      3            0                   0        3      2   \n",
            "\n",
            "                                                   tweet  \n",
            "0       RT  As a woman you shouldnt complain about cl...  \n",
            "1       RT  boy dats coldtyga dwn bad for cuffin dat ...  \n",
            "2       RT  Dawg RT  You ever fuck a bitch and she st...  \n",
            "3                            RT   she look like a tranny  \n",
            "4       RT  The shit you hear about me might be true ...  \n",
            "...                                                  ...  \n",
            "24778  yous a muthafin lie    right His TL is trash 8...  \n",
            "24779  youve gone and broke the wrong heart baby and ...  \n",
            "24780  young buck wanna eat dat nigguh like I aint fu...  \n",
            "24781              youu got wild bitches tellin you lies  \n",
            "24782  Ruffled  Ntac Eileen Dahlia  Beautiful color c...  \n",
            "\n",
            "[24783 rows x 7 columns]\n"
          ]
        }
      ]
    },
    {
      "cell_type": "code",
      "source": [
        "import nltk\n",
        "from nltk.corpus import stopwords\n",
        "\n",
        "# Download NLTK stopwords data\n",
        "nltk.download('stopwords')\n",
        "\n",
        "columns_to_clean = ['tweet']  # Replace with actual column names\n",
        "\n",
        "# Remove stopwords in the specified columns\n",
        "stop_words = set(stopwords.words('english'))\n",
        "for column in columns_to_clean:\n",
        "    ds[column] = ds[column].apply(lambda x: ' '.join([word for word in x.split() if word.lower() not in stop_words]))\n",
        "\n",
        "# Display the DataFrame after removing stopwords\n",
        "print(ds)\n"
      ],
      "metadata": {
        "colab": {
          "base_uri": "https://localhost:8080/"
        },
        "id": "a9iOEi7DS3rs",
        "outputId": "909b68a0-4462-417e-d673-3a235dae9a73"
      },
      "execution_count": null,
      "outputs": [
        {
          "output_type": "stream",
          "name": "stderr",
          "text": [
            "[nltk_data] Downloading package stopwords to /root/nltk_data...\n",
            "[nltk_data]   Unzipping corpora/stopwords.zip.\n"
          ]
        },
        {
          "output_type": "stream",
          "name": "stdout",
          "text": [
            "       Unnamed: 0  count  hate_speech  offensive_language  neither  class  \\\n",
            "0               0      3            0                   0        3      2   \n",
            "1               1      3            0                   3        0      1   \n",
            "2               2      3            0                   3        0      1   \n",
            "3               3      3            0                   2        1      1   \n",
            "4               4      6            0                   6        0      1   \n",
            "...           ...    ...          ...                 ...      ...    ...   \n",
            "24778       25291      3            0                   2        1      1   \n",
            "24779       25292      3            0                   1        2      2   \n",
            "24780       25294      3            0                   3        0      1   \n",
            "24781       25295      6            0                   6        0      1   \n",
            "24782       25296      3            0                   0        3      2   \n",
            "\n",
            "                                                   tweet  \n",
            "0      RT woman shouldnt complain cleaning house amp ...  \n",
            "1      RT boy dats coldtyga dwn bad cuffin dat hoe 1s...  \n",
            "2      RT Dawg RT ever fuck bitch start cry confused ...  \n",
            "3                                    RT look like tranny  \n",
            "4      RT shit hear might true might faker bitch told...  \n",
            "...                                                  ...  \n",
            "24778  yous muthafin lie right TL trash 8230 mine Bib...  \n",
            "24779  youve gone broke wrong heart baby drove rednec...  \n",
            "24780  young buck wanna eat dat nigguh like aint fuck...  \n",
            "24781                  youu got wild bitches tellin lies  \n",
            "24782  Ruffled Ntac Eileen Dahlia Beautiful color com...  \n",
            "\n",
            "[24783 rows x 7 columns]\n"
          ]
        }
      ]
    },
    {
      "cell_type": "code",
      "source": [
        "columns_to_clean = ['tweet']  # Replace with actual column names\n",
        "\n",
        "# Remove \"RT\" in the specified columns\n",
        "for column in columns_to_clean:\n",
        "    ds[column] = ds[column].str.replace(r'\\bRT\\b', '', regex=True)\n",
        "\n",
        "print(ds)\n"
      ],
      "metadata": {
        "colab": {
          "base_uri": "https://localhost:8080/"
        },
        "id": "5Oy8rMWPUftq",
        "outputId": "19fa17ab-7b30-4c9f-aed0-7cdafe366e78"
      },
      "execution_count": null,
      "outputs": [
        {
          "output_type": "stream",
          "name": "stdout",
          "text": [
            "       Unnamed: 0  count  hate_speech  offensive_language  neither  class  \\\n",
            "0               0      3            0                   0        3      2   \n",
            "1               1      3            0                   3        0      1   \n",
            "2               2      3            0                   3        0      1   \n",
            "3               3      3            0                   2        1      1   \n",
            "4               4      6            0                   6        0      1   \n",
            "...           ...    ...          ...                 ...      ...    ...   \n",
            "24778       25291      3            0                   2        1      1   \n",
            "24779       25292      3            0                   1        2      2   \n",
            "24780       25294      3            0                   3        0      1   \n",
            "24781       25295      6            0                   6        0      1   \n",
            "24782       25296      3            0                   0        3      2   \n",
            "\n",
            "                                                   tweet  \n",
            "0       woman shouldnt complain cleaning house amp ma...  \n",
            "1       boy dats coldtyga dwn bad cuffin dat hoe 1st ...  \n",
            "2          Dawg  ever fuck bitch start cry confused shit  \n",
            "3                                       look like tranny  \n",
            "4       shit hear might true might faker bitch told y...  \n",
            "...                                                  ...  \n",
            "24778  yous muthafin lie right TL trash 8230 mine Bib...  \n",
            "24779  youve gone broke wrong heart baby drove rednec...  \n",
            "24780  young buck wanna eat dat nigguh like aint fuck...  \n",
            "24781                  youu got wild bitches tellin lies  \n",
            "24782  Ruffled Ntac Eileen Dahlia Beautiful color com...  \n",
            "\n",
            "[24783 rows x 7 columns]\n"
          ]
        }
      ]
    },
    {
      "cell_type": "code",
      "source": [
        "import nltk\n",
        "from nltk.tokenize import word_tokenize\n",
        "\n",
        "# Download NLTK tokenization data\n",
        "nltk.download('punkt')\n",
        "\n",
        "# Assuming your dataset is loaded into a DataFrame called 'ds'\n",
        "# Replace 'ds' with the actual name of your DataFrame\n",
        "# Replace 'tweet' with the actual name of your text column\n",
        "\n",
        "# Specify the column(s) you want to tokenize\n",
        "columns_to_tokenize = ['tweet']  # Replace with actual column names\n",
        "\n",
        "# Convert the column to string type\n",
        "ds['tweet'] = ds['tweet'].astype(str)\n",
        "\n",
        "# Tokenize text in the specified columns\n",
        "for column in columns_to_tokenize:\n",
        "    ds['tweet'] = ds['tweet'].apply(lambda x: word_tokenize(x))\n",
        "\n",
        "# Display the DataFrame after tokenization\n",
        "print(ds)\n"
      ],
      "metadata": {
        "colab": {
          "base_uri": "https://localhost:8080/"
        },
        "id": "R-04AnSYU9HA",
        "outputId": "3f2fe639-02c5-4991-aa83-b9168fcef348"
      },
      "execution_count": 17,
      "outputs": [
        {
          "output_type": "stream",
          "name": "stderr",
          "text": [
            "[nltk_data] Downloading package punkt to /root/nltk_data...\n",
            "[nltk_data]   Package punkt is already up-to-date!\n"
          ]
        },
        {
          "output_type": "stream",
          "name": "stdout",
          "text": [
            "       Unnamed: 0  count  hate_speech  offensive_language  neither  class  \\\n",
            "0               0      3            0                   0        3      2   \n",
            "1               1      3            0                   3        0      1   \n",
            "2               2      3            0                   3        0      1   \n",
            "3               3      3            0                   2        1      1   \n",
            "4               4      6            0                   6        0      1   \n",
            "...           ...    ...          ...                 ...      ...    ...   \n",
            "24778       25291      3            0                   2        1      1   \n",
            "24779       25292      3            0                   1        2      2   \n",
            "24780       25294      3            0                   3        0      1   \n",
            "24781       25295      6            0                   6        0      1   \n",
            "24782       25296      3            0                   0        3      2   \n",
            "\n",
            "                                                   tweet  \n",
            "0      [[, 'woman, ', ,, 'shouldnt, ', ,, 'complain, ...  \n",
            "1      [[, 'boy, ', ,, 'dats, ', ,, 'coldtyga, ', ,, ...  \n",
            "2      [[, 'Dawg, ', ,, 'ever, ', ,, 'fuck, ', ,, 'bi...  \n",
            "3           [[, 'look, ', ,, 'like, ', ,, 'tranny, ', ]]  \n",
            "4      [[, 'shit, ', ,, 'hear, ', ,, 'might, ', ,, 't...  \n",
            "...                                                  ...  \n",
            "24778  [[, 'yous, ', ,, 'muthafin, ', ,, 'lie, ', ,, ...  \n",
            "24779  [[, 'youve, ', ,, 'gone, ', ,, 'broke, ', ,, '...  \n",
            "24780  [[, 'young, ', ,, 'buck, ', ,, 'wan, ', ,, 'na...  \n",
            "24781  [[, 'youu, ', ,, 'got, ', ,, 'wild, ', ,, 'bit...  \n",
            "24782  [[, 'Ruffled, ', ,, 'Ntac, ', ,, 'Eileen, ', ,...  \n",
            "\n",
            "[24783 rows x 7 columns]\n"
          ]
        }
      ]
    },
    {
      "cell_type": "code",
      "source": [
        "from sklearn.feature_extraction.text import TfidfVectorizer\n",
        "\n",
        "# Convert the tokenized text back to string\n",
        "ds['tweet'] = ds['tweet'].apply(lambda x: ' '.join(x))\n",
        "\n",
        "# Create a TF-IDF Vectorizer instance\n",
        "vectorizer = TfidfVectorizer(max_features=5000, ngram_range=(1, 1))  # Adjust parameters as needed\n",
        "\n",
        "# Fit and transform the text data\n",
        "X_tfidf = vectorizer.fit_transform(ds['tweet'])\n",
        "\n",
        "# Display the feature names\n",
        "feature_names = vectorizer.get_feature_names_out()\n",
        "print(\"Feature names:\", feature_names)\n",
        "\n",
        "# Display the TF-IDF matrix\n",
        "print(\"TF-IDF matrix:\")\n",
        "print(X_tfidf.toarray())\n"
      ],
      "metadata": {
        "id": "M8YmIOq9Mlbk",
        "colab": {
          "base_uri": "https://localhost:8080/"
        },
        "outputId": "5ce8398c-97ca-4c3a-aaef-9678ee9a9e15"
      },
      "execution_count": 18,
      "outputs": [
        {
          "output_type": "stream",
          "name": "stdout",
          "text": [
            "Feature names: ['10' '100' '1000' ... 'zip' 'zone' 'zoo']\n",
            "TF-IDF matrix:\n",
            "[[0. 0. 0. ... 0. 0. 0.]\n",
            " [0. 0. 0. ... 0. 0. 0.]\n",
            " [0. 0. 0. ... 0. 0. 0.]\n",
            " ...\n",
            " [0. 0. 0. ... 0. 0. 0.]\n",
            " [0. 0. 0. ... 0. 0. 0.]\n",
            " [0. 0. 0. ... 0. 0. 0.]]\n"
          ]
        }
      ]
    },
    {
      "cell_type": "code",
      "source": [
        "# Assuming 'ds' is your DataFrame and 'target' is the column with labels\n",
        "y = ds['class']\n",
        "\n",
        "# Display class distribution\n",
        "class_distribution = y.value_counts()\n",
        "print(\"Class Distribution:\")\n",
        "print(class_distribution)\n"
      ],
      "metadata": {
        "colab": {
          "base_uri": "https://localhost:8080/"
        },
        "id": "fwdXsL6WVuNz",
        "outputId": "94e8e36d-7ab4-4959-fc82-3a250d9236d4"
      },
      "execution_count": 19,
      "outputs": [
        {
          "output_type": "stream",
          "name": "stdout",
          "text": [
            "Class Distribution:\n",
            "1    19190\n",
            "2     4163\n",
            "0     1430\n",
            "Name: class, dtype: int64\n"
          ]
        }
      ]
    },
    {
      "cell_type": "code",
      "source": [
        "print(y.value_counts())\n"
      ],
      "metadata": {
        "colab": {
          "base_uri": "https://localhost:8080/"
        },
        "id": "dl2f1byPcx5W",
        "outputId": "56f089fb-7079-452e-bf92-21cf5889399f"
      },
      "execution_count": 25,
      "outputs": [
        {
          "output_type": "stream",
          "name": "stdout",
          "text": [
            "offensive_language  hate_speech  neither\n",
            "3                   0            0          13306\n",
            "2                   1            0           2815\n",
            "0                   0            3           2753\n",
            "2                   0            1           1384\n",
            "1                   2            0           1009\n",
            "                                            ...  \n",
            "                    7            1              1\n",
            "2                   2            5              1\n",
            "0                   5            4              1\n",
            "                    4            2              1\n",
            "                    6            3              1\n",
            "Length: 75, dtype: int64\n"
          ]
        }
      ]
    },
    {
      "cell_type": "code",
      "source": [
        "from sklearn.model_selection import train_test_split\n",
        "\n",
        "# Set a threshold for considering classes as rare\n",
        "threshold = 2\n",
        "\n",
        "# Identify combinations with counts less than the threshold\n",
        "rare_classes = ds[ds.groupby(['offensive_language', 'hate_speech', 'neither']).transform('size') < threshold].index\n",
        "\n",
        "# Replace rare classes with a new class 'rare_class'\n",
        "ds.loc[rare_classes] = 'rare_class'\n",
        "\n",
        "# Define feature matrix 'X' and target variable 'y'\n",
        "X = ds[['tweet', 'count']]  # Features\n",
        "y = ds[['offensive_language', 'hate_speech', 'neither']]  # Targets\n",
        "\n",
        "# Split the data into training and testing sets with stratification\n",
        "X_train, X_test, y_train, y_test = train_test_split(X, y, test_size=0.2, random_state=42, stratify=y)\n",
        "\n",
        "# Display the modified target variable 'y'\n",
        "print(\"Modified Target Variable 'y':\")\n",
        "print(y)\n"
      ],
      "metadata": {
        "colab": {
          "base_uri": "https://localhost:8080/"
        },
        "id": "_hZAnqCzdlVP",
        "outputId": "46ae1de2-8229-45e2-d8c9-d8c554a17b88"
      },
      "execution_count": 26,
      "outputs": [
        {
          "output_type": "stream",
          "name": "stdout",
          "text": [
            "Modified Target Variable 'y':\n",
            "      offensive_language hate_speech neither\n",
            "0                      0           0       3\n",
            "1                      3           0       0\n",
            "2                      3           0       0\n",
            "3                      2           0       1\n",
            "4                      6           0       0\n",
            "...                  ...         ...     ...\n",
            "24778                  2           0       1\n",
            "24779                  1           0       2\n",
            "24780                  3           0       0\n",
            "24781                  6           0       0\n",
            "24782                  0           0       3\n",
            "\n",
            "[24783 rows x 3 columns]\n"
          ]
        }
      ]
    },
    {
      "cell_type": "code",
      "source": [
        "# Display feature matrix 'X'\n",
        "print(\"Feature Matrix 'X':\")\n",
        "print(X)\n",
        "\n"
      ],
      "metadata": {
        "colab": {
          "base_uri": "https://localhost:8080/"
        },
        "id": "n4hVmBWWXa9P",
        "outputId": "0ac89ea0-c3cd-46db-f751-f754087d1f58"
      },
      "execution_count": 27,
      "outputs": [
        {
          "output_type": "stream",
          "name": "stdout",
          "text": [
            "Feature Matrix 'X':\n",
            "                                                   tweet count\n",
            "0      [ 'woman ' , 'shouldnt ' , 'complain ' , 'clea...     3\n",
            "1      [ 'boy ' , 'dats ' , 'coldtyga ' , 'dwn ' , 'b...     3\n",
            "2      [ 'Dawg ' , 'ever ' , 'fuck ' , 'bitch ' , 'st...     3\n",
            "3                      [ 'look ' , 'like ' , 'tranny ' ]     3\n",
            "4      [ 'shit ' , 'hear ' , 'might ' , 'true ' , 'mi...     6\n",
            "...                                                  ...   ...\n",
            "24778  [ 'yous ' , 'muthafin ' , 'lie ' , 'right ' , ...     3\n",
            "24779  [ 'youve ' , 'gone ' , 'broke ' , 'wrong ' , '...     3\n",
            "24780  [ 'young ' , 'buck ' , 'wan ' , 'na ' , 'eat '...     3\n",
            "24781  [ 'youu ' , 'got ' , 'wild ' , 'bitches ' , 't...     6\n",
            "24782  [ 'Ruffled ' , 'Ntac ' , 'Eileen ' , 'Dahlia '...     3\n",
            "\n",
            "[24783 rows x 2 columns]\n"
          ]
        }
      ]
    },
    {
      "cell_type": "code",
      "source": [
        "print(f\"num test tweet: {y_test.shape[0]}\")\n",
        "print(f\"num train tweet: {y_train.shape[0]}\")"
      ],
      "metadata": {
        "colab": {
          "base_uri": "https://localhost:8080/"
        },
        "id": "BvGa5SGKhO7u",
        "outputId": "4f24dfcb-38e2-4c30-f76d-8e46b9984784"
      },
      "execution_count": 28,
      "outputs": [
        {
          "output_type": "stream",
          "name": "stdout",
          "text": [
            "num test tweet: 4957\n",
            "num train tweet: 19826\n"
          ]
        }
      ]
    },
    {
      "cell_type": "code",
      "source": [
        "import numpy as np\n",
        "\n",
        "# Define the true labels (ground truth) from dataset\n",
        "y_true = ds[['offensive_language', 'hate_speech', 'neither']]\n",
        "\n",
        "random_predictions = np.random.randint(2, size=(len(ds), 3))\n",
        "\n",
        "# Convert the array of predictions to a DataFrame with appropriate column names\n",
        "y_pred = pd.DataFrame(random_predictions, columns=['offensive_language', 'hate_speech', 'neither'])"
      ],
      "metadata": {
        "id": "Pglq_bH8iFoL"
      },
      "execution_count": 29,
      "outputs": []
    },
    {
      "cell_type": "code",
      "source": [
        "print(\"Data Types in y_true:\")\n",
        "print(y_true.dtypes)\n",
        "\n",
        "print(\"\\nData Types in y_pred:\")\n",
        "print(y_pred.dtypes)\n"
      ],
      "metadata": {
        "colab": {
          "base_uri": "https://localhost:8080/"
        },
        "id": "882I_0t3jNrt",
        "outputId": "b3349c05-9b21-43a9-f230-31e6e6927f5a"
      },
      "execution_count": 31,
      "outputs": [
        {
          "output_type": "stream",
          "name": "stdout",
          "text": [
            "Data Types in y_true:\n",
            "offensive_language    object\n",
            "hate_speech           object\n",
            "neither               object\n",
            "dtype: object\n",
            "\n",
            "Data Types in y_pred:\n",
            "offensive_language    int64\n",
            "hate_speech           int64\n",
            "neither               int64\n",
            "dtype: object\n"
          ]
        }
      ]
    },
    {
      "cell_type": "code",
      "source": [
        "# Replace non-numeric values with 0\n",
        "y_true = y_true.apply(pd.to_numeric, errors='coerce').fillna(0).astype(int)\n",
        "y_pred = y_pred.astype(int)"
      ],
      "metadata": {
        "id": "pyXK4VM7jYKO"
      },
      "execution_count": 33,
      "outputs": []
    },
    {
      "cell_type": "code",
      "source": [
        "from sklearn.preprocessing import LabelEncoder\n",
        "from sklearn.metrics import accuracy_score, precision_score, recall_score, f1_score, confusion_matrix\n",
        "\n",
        "# Flatten multi-class targets into a single column\n",
        "label_encoder = LabelEncoder()\n",
        "y_true_flat = label_encoder.fit_transform(y_true.values.argmax(axis=1))\n",
        "y_pred_flat = label_encoder.transform(y_pred.values.argmax(axis=1))\n",
        "\n",
        "# Compute evaluation metrics\n",
        "accuracy = accuracy_score(y_true_flat, y_pred_flat)\n",
        "precision = precision_score(y_true_flat, y_pred_flat, average='weighted')\n",
        "recall = recall_score(y_true_flat, y_pred_flat, average='weighted')\n",
        "f1 = f1_score(y_true_flat, y_pred_flat, average='weighted')\n",
        "conf_matrix = confusion_matrix(y_true_flat, y_pred_flat)\n",
        "\n",
        "# Display the results\n",
        "print(f\"Accuracy: {accuracy:.4f}\")\n",
        "print(f\"Precision: {precision:.4f}\")\n",
        "print(f\"Recall: {recall:.4f}\")\n",
        "print(f\"F1 Score: {f1:.4f}\")\n",
        "print(\"Confusion Matrix:\")\n",
        "print(conf_matrix)\n"
      ],
      "metadata": {
        "colab": {
          "base_uri": "https://localhost:8080/"
        },
        "id": "BCrs6FoPaAU9",
        "outputId": "d15bb948-dac7-4b6e-ff85-1fb7d54e311e"
      },
      "execution_count": 35,
      "outputs": [
        {
          "output_type": "stream",
          "name": "stdout",
          "text": [
            "Accuracy: 0.5159\n",
            "Precision: 0.6295\n",
            "Recall: 0.5159\n",
            "F1 Score: 0.5625\n",
            "Confusion Matrix:\n",
            "[[11927  4892  2383]\n",
            " [  922   336   165]\n",
            " [ 2608  1028   522]]\n"
          ]
        }
      ]
    },
    {
      "cell_type": "code",
      "source": [],
      "metadata": {
        "id": "dviPaXF3i3Mi"
      },
      "execution_count": null,
      "outputs": []
    }
  ]
}