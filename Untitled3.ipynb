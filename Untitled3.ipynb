{
  "cells": [
    {
      "cell_type": "markdown",
      "metadata": {
        "id": "view-in-github",
        "colab_type": "text"
      },
      "source": [
        "<a href=\"https://colab.research.google.com/github/kalumay/Major/blob/master/Untitled3.ipynb\" target=\"_parent\"><img src=\"https://colab.research.google.com/assets/colab-badge.svg\" alt=\"Open In Colab\"/></a>"
      ]
    },
    {
      "cell_type": "code",
      "execution_count": null,
      "metadata": {
        "id": "w4JvmJ81CFEG",
        "colab": {
          "base_uri": "https://localhost:8080/"
        },
        "outputId": "c57df834-17ae-4ca7-a094-8d962b070579"
      },
      "outputs": [
        {
          "output_type": "stream",
          "name": "stdout",
          "text": [
            "Drive already mounted at /content/drive; to attempt to forcibly remount, call drive.mount(\"/content/drive\", force_remount=True).\n"
          ]
        }
      ],
      "source": [
        "from google.colab  import drive\n",
        "drive.mount('/content/drive')"
      ]
    },
    {
      "cell_type": "code",
      "execution_count": null,
      "metadata": {
        "id": "tbC8pBePDjuF"
      },
      "outputs": [],
      "source": [
        "data_path='/content/drive/MyDrive/Colab Notebooks/Datas/'"
      ]
    },
    {
      "cell_type": "code",
      "execution_count": null,
      "metadata": {
        "id": "ptLMnrD1DoDA"
      },
      "outputs": [],
      "source": [
        "import pandas as pd\n",
        "ds=pd.read_csv('/content/drive/MyDrive/Colab Notebooks/Datas/FinalBalancedDataset.csv/FinalBalancedDataset1.csv')"
      ]
    },
    {
      "cell_type": "code",
      "execution_count": null,
      "metadata": {
        "id": "nfbOqNj-DyZg",
        "colab": {
          "base_uri": "https://localhost:8080/"
        },
        "outputId": "82e5039f-4267-4003-9936-25b9cef61916"
      },
      "outputs": [
        {
          "output_type": "stream",
          "name": "stdout",
          "text": [
            "<bound method DataFrame.to_string of        Unnamed: 0  Toxicity                                              tweet\n",
            "0               0         0   @user when a father is dysfunctional and is s...\n",
            "1               1         0  @user @user thanks for #lyft credit i can't us...\n",
            "2               2         0                                bihday your majesty\n",
            "3               3         0  #model   i love u take with u all the time in ...\n",
            "4               4         0             factsguide: society now    #motivation\n",
            "...           ...       ...                                                ...\n",
            "56740       56740         1  you's a muthaf***in lie &#8220;@LifeAsKing: @2...\n",
            "56741       56741         1  you've gone and broke the wrong heart baby, an...\n",
            "56742       56742         1  young buck wanna eat!!.. dat nigguh like I ain...\n",
            "56743       56743         1              youu got wild bitches tellin you lies\n",
            "56744       56744         0  ~~Ruffled | Ntac Eileen Dahlia - Beautiful col...\n",
            "\n",
            "[56745 rows x 3 columns]>\n"
          ]
        }
      ],
      "source": [
        "print(ds.to_string)"
      ]
    },
    {
      "cell_type": "code",
      "execution_count": null,
      "metadata": {
        "id": "G5jB7KJCD1zu",
        "colab": {
          "base_uri": "https://localhost:8080/"
        },
        "outputId": "cc56546b-0451-4291-972f-10d003c7cfcf"
      },
      "outputs": [
        {
          "output_type": "stream",
          "name": "stdout",
          "text": [
            "\n",
            "Column: Unnamed: 0\n",
            "Unnamed: 0\n",
            "0        1\n",
            "37834    1\n",
            "37823    1\n",
            "37824    1\n",
            "37825    1\n",
            "        ..\n",
            "18919    1\n",
            "18920    1\n",
            "18921    1\n",
            "18922    1\n",
            "56744    1\n",
            "Name: count, Length: 56745, dtype: int64\n",
            "\n",
            "Column: Toxicity\n",
            "Toxicity\n",
            "0    32592\n",
            "1    24153\n",
            "Name: count, dtype: int64\n",
            "\n",
            "Column: tweet\n",
            "tweet\n",
            "#model   i love u take with u all the time in urð±!!! ððððð¦ð¦ð¦                                               319\n",
            "i finally found a way how to delete old tweets! you might find it useful as well:    #deletetweets                                  82\n",
            "aww yeah it's all good bing bong bing bong                                                                                          75\n",
            "i'm so   and #grateful now that - #affirmations                                                                                     56\n",
            "@user you might be a libtard if... #libtard  #sjw #liberal #politics                                                                40\n",
            "                                                                                                                                  ... \n",
            "happiness is just a thought away    #loa #feelgood #livewell                                                                         1\n",
            "first #mexico... now the #warrios. #icant   #disappointed #nbafinals #fathersday                                                     1\n",
            "drake has always been babe &amp; i never been to one of his conce   ðð©                                                         1\n",
            "i'm a little bit sad,here is a rainy day...what can i do if the person that i love never stay with me?  #foreveralone                1\n",
            "~~Ruffled | Ntac Eileen Dahlia - Beautiful color combination of pink, orange, yellow &amp; white. A Coll http://t.co/H0dYEBvnZB      1\n",
            "Name: count, Length: 54313, dtype: int64\n"
          ]
        }
      ],
      "source": [
        "for column in ds.columns:\n",
        "    print(f\"\\nColumn: {column}\")\n",
        "    print(ds[column].value_counts())\n"
      ]
    },
    {
      "cell_type": "code",
      "execution_count": null,
      "metadata": {
        "id": "cprXVGm6qYj8",
        "colab": {
          "base_uri": "https://localhost:8080/",
          "height": 444
        },
        "outputId": "aaecee0c-c180-43ad-cc0e-c76d9768e429"
      },
      "outputs": [
        {
          "output_type": "display_data",
          "data": {
            "text/plain": [
              "<Figure size 500x500 with 1 Axes>"
            ],
            "image/png": "[encoded data removed]"
          },
          "metadata": {}
        }
      ],
      "source": [
        "import matplotlib.pyplot as plt\n",
        "class_counts = ds['Toxicity'].value_counts()\n",
        "# Plot a pie chart\n",
        "plt.figure(figsize=(5, 5))\n",
        "plt.pie(class_counts, labels=class_counts.index, autopct='%1.1f%%', startangle=90)\n",
        "plt.title('Class Distribution')\n",
        "plt.show()"
      ]
    },
    {
      "cell_type": "code",
      "execution_count": null,
      "metadata": {
        "id": "ORDgu7nhECed"
      },
      "outputs": [],
      "source": [
        "ds['tweet'] = ds['tweet'].str.lower()\n"
      ]
    },
    {
      "cell_type": "code",
      "execution_count": null,
      "metadata": {
        "id": "zyXaqaDtopJc"
      },
      "outputs": [],
      "source": [
        "# Assuming your DataFrame is named df and the column with line breaks is 'column_name'\n",
        "ds['tweet'] = ds['tweet'].str.replace('\\n', ' ')"
      ]
    },
    {
      "cell_type": "code",
      "execution_count": null,
      "metadata": {
        "id": "5V6-f6cLovir"
      },
      "outputs": [],
      "source": [
        "# punctuation_signs = list(\"?:!.,;|\")\n",
        "# remove_usernames = r'@([^\\s]+)'\n",
        "# remove_hash_no = r'#\\d+'\n",
        "\n",
        "# # Remove punctuation signs\n",
        "# for punct_sign in punctuation_signs:\n",
        "#     ds['tweet'] = ds['tweet'].str.replace(punct_sign, '', regex=True)\n",
        "\n",
        "# # Remove usernames\n",
        "# ds['tweet'] = ds['tweet'].str.replace(remove_usernames, '', regex=True)\n",
        "\n",
        "# # Remove hashtags with numbers\n",
        "# ds['tweet'] = ds['tweet'].str.replace(remove_hash_no, '', regex=True)"
      ]
    },
    {
      "cell_type": "code",
      "execution_count": null,
      "metadata": {
        "id": "7LxcaUmFpBkL",
        "colab": {
          "base_uri": "https://localhost:8080/"
        },
        "outputId": "3c111b3b-4ea6-45cc-ea4a-b705dd317615"
      },
      "outputs": [
        {
          "output_type": "execute_result",
          "data": {
            "text/plain": [
              "0         @user when a father is dysfunctional and is s...\n",
              "1        @user @user thanks for lyft credit i cant use ...\n",
              "2                                      bihday your majesty\n",
              "3        model   i love u take with u all the time in u...\n",
              "4                       factsguide: society now motivation\n",
              "                               ...                        \n",
              "56740    you a muthafin lie &8220;@lifeasking: @20_pear...\n",
              "56741    youve gone and broke the wrong hea baby, and d...\n",
              "56742    young buck wanna eat.. dat nigguh like i aint ...\n",
              "56743                youu got wild bitches tellin you lies\n",
              "56744    ~~ | ntac eileen dahlia  beautiful color combi...\n",
              "Name: tweet, Length: 56745, dtype: object"
            ]
          },
          "metadata": {},
          "execution_count": 10
        }
      ],
      "source": [
        "ds['tweet'] = ds['tweet'].apply(lambda x: x.replace('\\n', ' '))\n",
        "ds['tweet'] = ds['tweet'].apply(lambda x: x.replace('\\t', ' '))\n",
        "\n",
        "# Replace url and symbols\n",
        "ds['tweet'] = ds['tweet'].str.replace(\"    \", \" \")\n",
        "ds['tweet'] = ds['tweet'].str.replace('\"', '')\n",
        "ds['tweet'] = ds['tweet'].str.replace(\"!\", \"\")\n",
        "ds['tweet'] = ds['tweet'].str.replace(\"'s\", \"\")\n",
        "ds['tweet'] = ds['tweet'].str.replace(\"'\", \"\")\n",
        "ds['tweet'] = ds['tweet'].str.replace(\"`\", \"\")\n",
        "ds['tweet'] = ds['tweet'].str.replace(\"https\", \"\")\n",
        "ds['tweet'] = ds['tweet'].str.replace(\"http\", \"\")\n",
        "ds['tweet'] = ds['tweet'].str.replace(\"rt\", \"\")\n",
        "ds['tweet'] = ds['tweet'].str.replace(\"-\", \"\")\n",
        "ds['tweet'] = ds['tweet'].str.replace(\"ruffled\", \"\")\n",
        "ds['tweet'] = ds['tweet'].str.replace(\"#\", \"\")\n",
        "ds['tweet'] = ds['tweet'].str.replace(\"*\", \"\")\n",
        "ds['tweet']"
      ]
    },
    {
      "cell_type": "code",
      "execution_count": null,
      "metadata": {
        "id": "53ZEODUqE5Kv",
        "colab": {
          "base_uri": "https://localhost:8080/"
        },
        "outputId": "317b1235-cfe8-43f9-aaa2-e0421f150a96"
      },
      "outputs": [
        {
          "output_type": "stream",
          "name": "stderr",
          "text": [
            "[nltk_data] Downloading package stopwords to /root/nltk_data...\n",
            "[nltk_data]   Unzipping corpora/stopwords.zip.\n"
          ]
        }
      ],
      "source": [
        "import nltk\n",
        "import re\n",
        "from nltk.stem import PorterStemmer\n",
        "from nltk.corpus import stopwords\n",
        "nltk.download('stopwords')\n",
        "stop_words = set(stopwords.words('english'))\n",
        "\n",
        "for stop_word in stop_words:\n",
        "    regex_stopword = r\"\\b\" + stop_word + r\"\\b\"\n",
        "    ds['tweet'] = ds['tweet'].str.replace(regex_stopword, '', regex=True)"
      ]
    },
    {
      "cell_type": "code",
      "execution_count": null,
      "metadata": {
        "id": "Q--mMHvEIMPF",
        "colab": {
          "base_uri": "https://localhost:8080/"
        },
        "outputId": "235d9459-5e0d-47dd-d2d7-3421afabae78"
      },
      "outputs": [
        {
          "output_type": "stream",
          "name": "stderr",
          "text": [
            "[nltk_data] Downloading package punkt to /root/nltk_data...\n",
            "[nltk_data]   Unzipping tokenizers/punkt.zip.\n"
          ]
        },
        {
          "output_type": "stream",
          "name": "stdout",
          "text": [
            "       Unnamed: 0  Toxicity                                              tweet\n",
            "0               0         0  [@, user, father, dysfunctional, selfish, drag...\n",
            "1               1         0  [@, user, @, user, thanks, lyft, credit, cant,...\n",
            "2               2         0                                  [bihday, majesty]\n",
            "3               3         0  [model, love, u, take, u, time, urð±, ðð...\n",
            "4               4         0               [factsguide, :, society, motivation]\n",
            "...           ...       ...                                                ...\n",
            "56740       56740         1  [muthafin, lie, &, 8220, ;, @, lifeasking, :, ...\n",
            "56741       56741         1  [youve, gone, broke, wrong, hea, baby, ,, drov...\n",
            "56742       56742         1  [young, buck, wan, na, eat, .., dat, nigguh, l...\n",
            "56743       56743         1           [youu, got, wild, bitches, tellin, lies]\n",
            "56744       56744         0  [~~, |, ntac, eileen, dahlia, beautiful, color...\n",
            "\n",
            "[56745 rows x 3 columns]\n"
          ]
        }
      ],
      "source": [
        "import nltk\n",
        "from nltk.tokenize import word_tokenize\n",
        "\n",
        "# Download NLTK tokenization data\n",
        "nltk.download('punkt')\n",
        "\n",
        "# Specify the column(s) you want to tokenize\n",
        "columns_to_tokenize = ['tweet']\n",
        "\n",
        "# Convert the column to string type\n",
        "ds['tweet'] = ds['tweet'].astype(str)\n",
        "\n",
        "# Tokenize text in the specified columns\n",
        "for column in columns_to_tokenize:\n",
        "    ds['tweet'] = ds['tweet'].apply(lambda x: word_tokenize(x))\n",
        "\n",
        "# Display the DataFrame after tokenization\n",
        "print(ds)\n"
      ]
    },
    {
      "cell_type": "code",
      "execution_count": null,
      "metadata": {
        "id": "JI8x7FPPCy6r"
      },
      "outputs": [],
      "source": [
        "# extract the text and labels\n",
        "tweet = list(ds['tweet'])\n",
        "labels = list(ds['Toxicity'])"
      ]
    },
    {
      "cell_type": "markdown",
      "metadata": {
        "id": "fQgtL7dLvhZO"
      },
      "source": [
        "**Test Train Split**"
      ]
    },
    {
      "cell_type": "code",
      "execution_count": null,
      "metadata": {
        "id": "44A2UJgRCd2l"
      },
      "outputs": [],
      "source": [
        "from sklearn.model_selection import train_test_split\n",
        "X_train, X_test, y_train, y_test = train_test_split(tweet, labels, test_size=0.2, random_state=42)"
      ]
    },
    {
      "cell_type": "code",
      "source": [
        "from tensorflow.keras.preprocessing.text import Tokenizer\n",
        "from tensorflow.keras.preprocessing.sequence import pad_sequences\n",
        "from tensorflow.keras.models import Sequential\n",
        "from tensorflow.keras.layers import Embedding, LSTM, Dense\n",
        "import numpy as np\n",
        "\n",
        "# Convert y_train and y_test to numpy arrays\n",
        "y_train = np.array(y_train)\n",
        "y_test = np.array(y_test)\n",
        "\n",
        "# Tokenization\n",
        "tokenizer = Tokenizer()\n",
        "tokenizer.fit_on_texts(X_train)\n",
        "X_train_tokenized = tokenizer.texts_to_sequences(X_train)\n",
        "X_test_tokenized = tokenizer.texts_to_sequences(X_test)\n",
        "\n",
        "# Padding sequences\n",
        "max_length = 100  # adjust as needed based on the maximum sequence length\n",
        "X_train_padded = pad_sequences(X_train_tokenized, maxlen=max_length)\n",
        "X_test_padded = pad_sequences(X_test_tokenized, maxlen=max_length)\n",
        "\n",
        "# Vocabulary size\n",
        "vocab_size = len(tokenizer.word_index) + 1  # Add 1 for the reserved 0 index\n",
        "embedding_dim = 100\n",
        "\n",
        "# Define the LSTM model\n",
        "model = Sequential([\n",
        "    Embedding(input_dim=vocab_size, output_dim=embedding_dim, input_length=max_length),\n",
        "    LSTM(units=64),\n",
        "    Dense(units=1, activation='sigmoid')\n",
        "])\n",
        "\n",
        "# Compile the model\n",
        "model.compile(optimizer='adam', loss='binary_crossentropy', metrics=['accuracy'])\n",
        "\n",
        "# Train the model\n",
        "history=model.fit(X_train_padded, y_train, epochs=10, batch_size=64, validation_data=(X_test_padded, y_test))\n",
        "\n",
        "# Evaluate the model\n",
        "loss, accuracy = model.evaluate(X_test_padded, y_test)\n",
        "print(\"Test Loss:\", loss)\n",
        "print(\"Test Accuracy:\", accuracy)\n"
      ],
      "metadata": {
        "colab": {
          "base_uri": "https://localhost:8080/"
        },
        "id": "S3iuam6bcycJ",
        "outputId": "b151abf0-0c55-4907-9ecd-b85f519e04d4"
      },
      "execution_count": null,
      "outputs": [
        {
          "output_type": "stream",
          "name": "stdout",
          "text": [
            "Epoch 1/10\n",
            "710/710 [==============================] - 32s 37ms/step - loss: 0.2162 - accuracy: 0.9130 - val_loss: 0.1519 - val_accuracy: 0.9411\n",
            "Epoch 2/10\n",
            "710/710 [==============================] - 8s 11ms/step - loss: 0.0768 - accuracy: 0.9732 - val_loss: 0.1737 - val_accuracy: 0.9370\n",
            "Epoch 3/10\n",
            "710/710 [==============================] - 8s 12ms/step - loss: 0.0364 - accuracy: 0.9884 - val_loss: 0.2099 - val_accuracy: 0.9348\n",
            "Epoch 4/10\n",
            "710/710 [==============================] - 7s 10ms/step - loss: 0.0214 - accuracy: 0.9930 - val_loss: 0.2384 - val_accuracy: 0.9322\n",
            "Epoch 5/10\n",
            "710/710 [==============================] - 7s 10ms/step - loss: 0.0150 - accuracy: 0.9953 - val_loss: 0.3007 - val_accuracy: 0.9304\n",
            "Epoch 6/10\n",
            "710/710 [==============================] - 7s 10ms/step - loss: 0.0097 - accuracy: 0.9971 - val_loss: 0.3157 - val_accuracy: 0.9327\n",
            "Epoch 7/10\n",
            "710/710 [==============================] - 7s 9ms/step - loss: 0.0069 - accuracy: 0.9980 - val_loss: 0.3700 - val_accuracy: 0.9307\n",
            "Epoch 8/10\n",
            "710/710 [==============================] - 8s 11ms/step - loss: 0.0052 - accuracy: 0.9985 - val_loss: 0.4198 - val_accuracy: 0.9271\n",
            "Epoch 9/10\n",
            "710/710 [==============================] - 7s 9ms/step - loss: 0.0045 - accuracy: 0.9988 - val_loss: 0.4938 - val_accuracy: 0.9305\n",
            "Epoch 10/10\n",
            "710/710 [==============================] - 8s 11ms/step - loss: 0.0055 - accuracy: 0.9984 - val_loss: 0.4112 - val_accuracy: 0.9262\n",
            "355/355 [==============================] - 1s 4ms/step - loss: 0.4112 - accuracy: 0.9262\n",
            "Test Loss: 0.41121214628219604\n",
            "Test Accuracy: 0.9262490272521973\n"
          ]
        }
      ]
    },
    {
      "cell_type": "code",
      "source": [
        "import numpy as np\n",
        "from sklearn.metrics import classification_report\n",
        "\n",
        "# Predict probabilities for the test set\n",
        "y_pred_probs = model.predict(X_test_padded)\n",
        "\n",
        "# Convert probabilities to class labels\n",
        "y_pred_labels = np.where(y_pred_probs > 0.5, 1, 0)\n",
        "\n",
        "# Print the classification report\n",
        "print(classification_report(y_test, y_pred_labels))\n"
      ],
      "metadata": {
        "colab": {
          "base_uri": "https://localhost:8080/"
        },
        "id": "UWNyz2TzlW-Y",
        "outputId": "988325fb-9603-425f-b52c-43713135f30f"
      },
      "execution_count": null,
      "outputs": [
        {
          "output_type": "stream",
          "name": "stdout",
          "text": [
            "355/355 [==============================] - 1s 3ms/step\n",
            "              precision    recall  f1-score   support\n",
            "\n",
            "           0       0.93      0.94      0.94      6472\n",
            "           1       0.92      0.91      0.91      4877\n",
            "\n",
            "    accuracy                           0.93     11349\n",
            "   macro avg       0.93      0.92      0.92     11349\n",
            "weighted avg       0.93      0.93      0.93     11349\n",
            "\n"
          ]
        }
      ]
    },
    {
      "cell_type": "code",
      "source": [
        "# Save the model\n",
        "model.save(\"00_LSTM_hateSpeech.h5\")"
      ],
      "metadata": {
        "colab": {
          "base_uri": "https://localhost:8080/"
        },
        "id": "VWCbJvSRg8O_",
        "outputId": "44106455-113c-4174-ea6d-854aac18d1f4"
      },
      "execution_count": null,
      "outputs": [
        {
          "output_type": "stream",
          "name": "stderr",
          "text": [
            "/usr/local/lib/python3.10/dist-packages/keras/src/engine/training.py:3103: UserWarning: You are saving your model as an HDF5 file via `model.save()`. This file format is considered legacy. We recommend using instead the native Keras format, e.g. `model.save('my_model.keras')`.\n",
            "  saving_api.save_model(\n"
          ]
        }
      ]
    },
    {
      "cell_type": "code",
      "source": [
        "# import matplotlib.pyplot as plt\n",
        "# from sklearn.metrics import precision_recall_curve, auc\n",
        "\n",
        "# # Train the model\n",
        "# history = model.fit(X_train_padded, y_train, epochs=10, batch_size=64, validation_data=(X_test_padded, y_test))\n",
        "\n",
        "# # Plot loss\n",
        "# plt.plot(history.history['loss'], label='Training Loss')\n",
        "# plt.plot(history.history['val_loss'], label='Validation Loss')\n",
        "# plt.title('Training and Validation Loss')\n",
        "# plt.xlabel('Epoch')\n",
        "# plt.ylabel('Loss')\n",
        "# plt.legend()\n",
        "# plt.show()\n",
        "\n",
        "# # Predict probabilities for test set\n",
        "# y_pred_prob = model.predict(X_test_padded)\n",
        "\n",
        "# # Precision-recall curve\n",
        "# precision, recall, _ = precision_recall_curve(y_test, y_pred_prob)\n",
        "# plt.plot(recall, precision, label='Precision-Recall curve (area = %0.2f)' % auc(recall, precision))\n",
        "# plt.xlabel('Recall')\n",
        "# plt.ylabel('Precision')\n",
        "# plt.title('Precision-Recall Curve')\n",
        "# plt.legend(loc='lower left')\n",
        "# plt.show()\n",
        "\n",
        "# # Accuracy\n",
        "# plt.plot(history.history['accuracy'], label='Training Accuracy')\n",
        "# plt.plot(history.history['val_accuracy'], label='Validation Accuracy')\n",
        "# plt.title('Training and Validation Accuracy')\n",
        "# plt.xlabel('Epoch')\n",
        "# plt.ylabel('Accuracy')\n",
        "# plt.legend()\n",
        "# plt.show()\n",
        "\n",
        "\n"
      ],
      "metadata": {
        "id": "KOD000mO7SUP"
      },
      "execution_count": null,
      "outputs": []
    },
    {
      "cell_type": "code",
      "source": [
        "# from sklearn.metrics import precision_recall_curve, auc, roc_curve\n",
        "# # AUC\n",
        "# fpr, tpr, _ = roc_curve(y_test, y_pred_prob)\n",
        "# roc_auc = auc(fpr, tpr)\n",
        "# plt.plot(fpr, tpr, label='ROC curve (area = %0.2f)' % roc_auc)\n",
        "# plt.plot([0, 1], [0, 1], 'k--')\n",
        "# plt.xlabel('False Positive Rate')\n",
        "# plt.ylabel('True Positive Rate')\n",
        "# plt.title('Receiver Operating Characteristic (ROC)')\n",
        "# plt.legend(loc='lower right')\n",
        "# plt.show()"
      ],
      "metadata": {
        "id": "a_JMtQH28Vl2"
      },
      "execution_count": null,
      "outputs": []
    },
    {
      "cell_type": "code",
      "source": [
        "from sklearn.metrics import precision_recall_curve, auc\n",
        "\n",
        "\n",
        "\n",
        "# Predict probabilities for test set\n",
        "y_pred_prob = model.predict(X_test_padded)\n",
        "\n",
        "# # Plot loss\n",
        "# axes[0, 0].plot(history.history['loss'], label='Training Loss')\n",
        "# axes[0, 0].plot(history.history['val_loss'], label='Validation Loss')\n",
        "# axes[0, 0].set_title('Training and Validation Loss')\n",
        "# axes[0, 0].set_xlabel('Epoch')\n",
        "# axes[0, 0].set_ylabel('Loss')\n",
        "# axes[0, 0].legend()\n",
        "\n",
        "# # Precision-recall curve\n",
        "# precision, recall, _ = precision_recall_curve(y_test, y_pred_prob)\n",
        "# axes[0, 1].plot(recall, precision, label='Precision-Recall curve (area = %0.2f)' % auc(recall, precision))\n",
        "# axes[0, 1].set_xlabel('Recall')\n",
        "# axes[0, 1].set_ylabel('Precision')\n",
        "# axes[0, 1].set_title('Precision-Recall Curve')\n",
        "# axes[0, 1].legend(loc='lower left')\n",
        "\n",
        "# # Accuracy\n",
        "# axes[1, 0].plot(history.history['accuracy'], label='Training Accuracy')\n",
        "# axes[1, 0].plot(history.history['val_accuracy'], label='Validation Accuracy')\n",
        "# axes[1, 0].set_title('Training and Validation Accuracy')\n",
        "# axes[1, 0].set_xlabel('Epoch')\n",
        "# axes[1, 0].set_ylabel('Accuracy')\n",
        "# axes[1, 0].legend()\n",
        "\n",
        "# # AUC\n",
        "# fpr, tpr, _ = roc_curve(y_test, y_pred_prob)\n",
        "# roc_auc = auc(fpr, tpr)\n",
        "# axes[1, 1].plot(fpr, tpr, label='ROC curve (area = %0.2f)' % roc_auc)\n",
        "# axes[1, 1].plot([0, 1], [0, 1], 'k--')\n",
        "# axes[1, 1].set_xlabel('False Positive Rate')\n",
        "# axes[1, 1].set_ylabel('True Positive Rate')\n",
        "# axes[1, 1].set_title('Receiver Operating Characteristic (ROC)')\n",
        "# axes[1, 1].legend(loc='lower right')\n",
        "\n",
        "# # Adjust layout\n",
        "# plt.tight_layout()\n",
        "\n",
        "# # Show the plot\n",
        "# plt.show()\n"
      ],
      "metadata": {
        "colab": {
          "base_uri": "https://localhost:8080/"
        },
        "id": "XBF1lltk813u",
        "outputId": "030c78eb-7e58-41c0-cbcd-9c345c2548b8"
      },
      "execution_count": null,
      "outputs": [
        {
          "output_type": "stream",
          "name": "stdout",
          "text": [
            "355/355 [==============================] - 1s 3ms/step\n"
          ]
        }
      ]
    },
    {
      "cell_type": "code",
      "source": [
        "\n",
        "\n",
        "# Create subplots\n",
        "fig, axes = plt.subplots(2, 2, figsize=(12, 10))\n",
        "\n",
        "# Plot loss\n",
        "axes[0, 0].plot(history.history['loss'], label='Training Loss')\n",
        "axes[0, 0].plot(history.history['val_loss'], label='Validation Loss')\n",
        "axes[0, 0].set_title('Training and Validation Loss')\n",
        "axes[0, 0].set_xlabel('Epoch')\n",
        "axes[0, 0].set_ylabel('Loss')\n",
        "axes[0, 0].legend()\n",
        "\n",
        "# Precision-recall curve\n",
        "precision, recall, _ = precision_recall_curve(y_test, y_pred_prob)\n",
        "axes[0, 1].plot(recall, precision, label='Precision-Recall curve (area = %0.2f)' % auc(recall, precision))\n",
        "axes[0, 1].set_xlabel('Recall')\n",
        "axes[0, 1].set_ylabel('Precision')\n",
        "axes[0, 1].set_title('Precision-Recall Curve')\n",
        "axes[0, 1].legend(loc='lower left')\n",
        "\n",
        "# Accuracy\n",
        "axes[1, 0].plot(history.history['accuracy'], label='Training Accuracy')\n",
        "axes[1, 0].plot(history.history['val_accuracy'], label='Validation Accuracy')\n",
        "axes[1, 0].set_title('Training and Validation Accuracy')\n",
        "axes[1, 0].set_xlabel('Epoch')\n",
        "axes[1, 0].set_ylabel('Accuracy')\n",
        "axes[1, 0].legend()\n",
        "\n",
        "# Remove empty subplot\n",
        "fig.delaxes(axes[1, 1])\n",
        "\n",
        "# Adjust layout\n",
        "plt.tight_layout()\n",
        "\n",
        "# Show the plot\n",
        "plt.show()\n"
      ],
      "metadata": {
        "colab": {
          "base_uri": "https://localhost:8080/",
          "height": 1000
        },
        "id": "SSJllPPzxf9s",
        "outputId": "684a20a3-c25d-4eb0-bee3-5a7ead8043eb"
      },
      "execution_count": null,
      "outputs": [
        {
          "output_type": "display_data",
          "data": {
            "text/plain": [
              "<Figure size 1200x1000 with 3 Axes>"
            ],
            "image/png": "[encoded data removed]"
          },
          "metadata": {}
        }
      ]
    },
    {
      "cell_type": "code",
      "source": [
        "from keras.models import load_model\n",
        "from keras.preprocessing.sequence import pad_sequences\n",
        "\n",
        "# Load the saved model\n",
        "loaded_model = load_model(\"00_LSTM_hateSpeech.h5\")\n",
        "\n",
        "def classify_text(text):\n",
        "    # Tokenize and pad the input text\n",
        "    tokenized_text = tokenizer.texts_to_sequences([text])\n",
        "    padded_text = pad_sequences(tokenized_text, maxlen=max_length)\n",
        "\n",
        "    # Make predictions using the loaded model\n",
        "    predictions = loaded_model.predict(padded_text)\n",
        "\n",
        "    # Extract the prediction for the input text\n",
        "    prediction = predictions[0][0]  # Assuming binary classification\n",
        "\n",
        "    # Print the predicted class\n",
        "    if prediction < 0.5:\n",
        "        print(\"Non-Toxic\")\n",
        "    else:\n",
        "        print(\"Toxic\")\n"
      ],
      "metadata": {
        "id": "YRQ62aoPlkiP"
      },
      "execution_count": null,
      "outputs": []
    },
    {
      "cell_type": "code",
      "source": [
        "# Example usage:\n",
        "input_text = \"This is a non-toxic text.\"\n",
        "classify_text(input_text)\n",
        "\n",
        "input_text = \"you might be a libtard\"\n",
        "classify_text(input_text)"
      ],
      "metadata": {
        "colab": {
          "base_uri": "https://localhost:8080/"
        },
        "id": "yyphNkyTnHWF",
        "outputId": "6f283f57-883d-49b9-ad4d-2d1000ae796f"
      },
      "execution_count": null,
      "outputs": [
        {
          "output_type": "stream",
          "name": "stdout",
          "text": [
            "1/1 [==============================] - 0s 343ms/step\n",
            "Non-Toxic\n",
            "1/1 [==============================] - 0s 19ms/step\n",
            "Toxic\n"
          ]
        }
      ]
    },
    {
      "cell_type": "code",
      "source": [
        "# import torch\n",
        "# import torch.nn as nn\n",
        "# import torch.nn.functional as F\n",
        "\n",
        "# # Load the Keras model\n",
        "# keras_model = load_model(\"00_LSTM_hateSpeech.h5\")\n",
        "\n",
        "# # Define the equivalent PyTorch model\n",
        "# class PyTorchModel(nn.Module):\n",
        "#     def __init__(self):\n",
        "#         super(PyTorchModel, self).__init__()\n",
        "#         # Defining the layers based on the Keras model's architecture\n",
        "#         self.embedding = nn.Embedding(num_embeddings=VOCAB_SIZE, embedding_dim=EMBEDDING_DIM)\n",
        "#         self.lstm = nn.LSTM(input_size=EMBEDDING_DIM, hidden_size=HIDDEN_SIZE, num_layers=NUM_LAYERS, batch_first=True)\n",
        "#         self.fc = nn.Linear(in_features=HIDDEN_SIZE, out_features=NUM_CLASSES)\n",
        "\n",
        "\n",
        "#     def forward(self, x):\n",
        "#         x = self.embedding(x)\n",
        "#         lstm_out, _ = self.lstm(x)\n",
        "#         last_hidden_state = lstm_out[:, -1, :]\n",
        "#         x = self.fc(last_hidden_state)\n",
        "#         return x\n",
        "\n",
        "# # Initialize the PyTorch model\n",
        "# pytorch_model = PyTorchModel()\n",
        "\n",
        "# # Save the PyTorch model in the .pth format\n",
        "# torch.save(pytorch_model.state_dict(), '00_LSTM_hateSpeech.pth')\n"
      ],
      "metadata": {
        "id": "g3Sh11MviB0F"
      },
      "execution_count": null,
      "outputs": []
    },
    {
      "cell_type": "code",
      "source": [
        "# # Tokenize and pad sequences (assuming tweet is a list of strings)\n",
        "# max_length = 100  # Adjust as needed based on the maximum sequence length\n",
        "# tokenizer = Tokenizer()\n",
        "# tokenizer.fit_on_texts(X_train)\n",
        "# X_train = tokenizer.texts_to_sequences(X_train)\n",
        "# X_test = tokenizer.texts_to_sequences(X_test)\n",
        "# X_train = pad_sequences(X_train, maxlen=max_length, padding='post')\n",
        "# X_test = pad_sequences(X_test, maxlen=max_length, padding='post')\n"
      ],
      "metadata": {
        "id": "w0RgWG_UPPfF"
      },
      "execution_count": null,
      "outputs": []
    },
    {
      "cell_type": "code",
      "source": [
        "# import numpy as np\n",
        "# # Convert lists to NumPy arrays\n",
        "# X_train = np.array(X_train)\n",
        "# X_test = np.array(X_test)\n",
        "# y_train = np.array(y_train)\n",
        "# y_test = np.array(y_test)\n",
        "# print(\"Shape of X_train:\", X_train.shape)\n",
        "# print(\"Shape of X_test:\", X_test.shape)\n",
        "# print(\"Shape of y_train:\", y_train.shape)\n",
        "# print(\"Shape of y_test:\", y_test.shape)\n"
      ],
      "metadata": {
        "colab": {
          "base_uri": "https://localhost:8080/"
        },
        "id": "k6BU_idEaFpU",
        "outputId": "de43d34f-4bfd-4057-d51f-f8ac039c0b47"
      },
      "execution_count": null,
      "outputs": [
        {
          "output_type": "stream",
          "name": "stdout",
          "text": [
            "Shape of X_train: (45396, 100)\n",
            "Shape of X_test: (11349, 100)\n",
            "Shape of y_train: (45396,)\n",
            "Shape of y_test: (11349,)\n"
          ]
        }
      ]
    },
    {
      "cell_type": "code",
      "execution_count": null,
      "metadata": {
        "id": "GQrY5wKDD_wR"
      },
      "outputs": [],
      "source": [
        "# from tensorflow.keras.preprocessing.sequence import pad_sequences\n",
        "# from tensorflow.keras.models import Sequential\n",
        "# from tensorflow.keras.layers import Embedding, LSTM, Dense, Dropout\n",
        "# from keras.utils import to_categorical\n",
        "# from keras import backend as K\n",
        "\n",
        "# # Tokenizing and Padding\n",
        "# tokenizer = Tokenizer()\n",
        "# tokenizer.fit_on_texts(X_train)\n",
        "# X_train = tokenizer.texts_to_sequences(X_train)\n",
        "# X_test = tokenizer.texts_to_sequences(X_test)\n",
        "\n",
        "# # # Convert target labels to categorical\n",
        "# # y_train = to_categorical(y_train, num_classes=2)\n",
        "# # y_test = to_categorical(y_test, num_classes=2)\n",
        "\n",
        "# # Vocabulary size (number of unique words)\n",
        "# vocab_size = len(tokenizer.word_index) + 1\n"
      ]
    },
    {
      "cell_type": "code",
      "execution_count": null,
      "metadata": {
        "id": "WjnFLknUEg4T"
      },
      "outputs": [],
      "source": [
        "# # Calculate max_length separately for X_train and X_test\n",
        "# max_length_train = max(len(seq) for seq in X_train)\n",
        "# max_length_test = max(len(seq) for seq in X_test)\n",
        "# max_length = max(max_length_train, max_length_test)\n",
        "\n",
        "# # Pad sequences for both X_train and X_test\n",
        "# X_train = pad_sequences(X_train, maxlen=max_length)\n",
        "# X_test = pad_sequences(X_test, maxlen=max_length)\n"
      ]
    },
    {
      "cell_type": "code",
      "source": [
        "# print(X_test.shape)\n",
        "# print(X_train.shape)\n",
        "# print(y_test.shape)\n",
        "# print(y_train.shape)"
      ],
      "metadata": {
        "colab": {
          "base_uri": "https://localhost:8080/"
        },
        "id": "4T1qgP5HPlmt",
        "outputId": "7ab5790c-7b99-447b-ebf3-0d804b11276b"
      },
      "execution_count": null,
      "outputs": [
        {
          "output_type": "stream",
          "name": "stdout",
          "text": [
            "(11349, 84)\n",
            "(45396, 84)\n",
            "(11349, 2)\n",
            "(45396, 2)\n"
          ]
        }
      ]
    },
    {
      "cell_type": "code",
      "execution_count": null,
      "metadata": {
        "id": "mKHxPFW1EjEk",
        "colab": {
          "base_uri": "https://localhost:8080/"
        },
        "outputId": "ddf0c60d-5116-4dae-df9b-30733806ac10"
      },
      "outputs": [
        {
          "output_type": "stream",
          "name": "stdout",
          "text": [
            "(11349, 2)\n",
            "(45396, 2)\n"
          ]
        }
      ],
      "source": [
        "# # create hot_labels\n",
        "# y_test = to_categorical(y_test, num_classes=2)\n",
        "# y_train = to_categorical(y_train, num_classes=2)\n",
        "# print(y_test.shape)\n",
        "# print(y_train.shape)"
      ]
    },
    {
      "cell_type": "code",
      "execution_count": null,
      "metadata": {
        "id": "vP07oMQCEqfT"
      },
      "outputs": [],
      "source": [
        "\n",
        "# print(f\"num test tweet: {y_test.shape[0]}\")\n",
        "# print(f\"num train tweet: {y_train.shape[0]}\")"
      ]
    },
    {
      "cell_type": "code",
      "source": [
        "# print(y_test.shape)\n",
        "# print(y_train.shape)"
      ],
      "metadata": {
        "id": "Hs-P0IVWMLlZ"
      },
      "execution_count": null,
      "outputs": []
    },
    {
      "cell_type": "code",
      "source": [
        "# print(X_test.shape)\n",
        "# print(X_train.shape)"
      ],
      "metadata": {
        "colab": {
          "base_uri": "https://localhost:8080/"
        },
        "id": "qqHphdETMX9Z",
        "outputId": "fa45102f-c9cb-4a5d-92f8-6493f4f685b4"
      },
      "execution_count": null,
      "outputs": [
        {
          "output_type": "stream",
          "name": "stdout",
          "text": [
            "(11349, 84)\n",
            "(45396, 84)\n"
          ]
        }
      ]
    },
    {
      "cell_type": "code",
      "execution_count": null,
      "metadata": {
        "id": "9BVjNdQCEs-V"
      },
      "outputs": [],
      "source": [
        "# def recall(y_true, y_pred):\n",
        "#     true_positives = K.sum(K.round(K.clip(y_true * y_pred, 0, 1)))\n",
        "#     possible_positives = K.sum(K.round(K.clip(y_true, 0, 1)))\n",
        "#     recall = true_positives / (possible_positives + K.epsilon())\n",
        "#     return recall\n",
        "\n",
        "# def precision(y_true, y_pred):\n",
        "#     true_positives = K.sum(K.round(K.clip(y_true * y_pred, 0, 1)))\n",
        "#     predicted_positives = K.sum(K.round(K.clip(y_pred, 0, 1)))\n",
        "#     precision = true_positives / (predicted_positives + K.epsilon())\n",
        "#     return precision\n",
        "\n",
        "# def f1(y_true, y_pred):\n",
        "#     precisions = precision(y_true, y_pred)\n",
        "#     recalls = recall(y_true, y_pred)\n",
        "#     return 2*((precisions*recalls)/(precisions+recalls+K.epsilon()))\n"
      ]
    },
    {
      "cell_type": "code",
      "execution_count": null,
      "metadata": {
        "id": "Nddn-YtyIv5h",
        "colab": {
          "base_uri": "https://localhost:8080/"
        },
        "outputId": "7bfb0a1b-ffff-4595-eb1e-570471c80179"
      },
      "outputs": [
        {
          "output_type": "stream",
          "name": "stderr",
          "text": [
            "WARNING:tensorflow:Layer lstm_9 will not use cuDNN kernels since it doesn't meet the criteria. It will use a generic GPU kernel as fallback when running on GPU.\n"
          ]
        },
        {
          "output_type": "stream",
          "name": "stdout",
          "text": [
            "Model: \"sequential_9\"\n",
            "_________________________________________________________________\n",
            " Layer (type)                Output Shape              Param #   \n",
            "=================================================================\n",
            " embedding_9 (Embedding)     (None, 84, 200)           10692000  \n",
            "                                                                 \n",
            " lstm_9 (LSTM)               (None, 64)                67840     \n",
            "                                                                 \n",
            " dropout_18 (Dropout)        (None, 64)                0         \n",
            "                                                                 \n",
            " dense_17 (Dense)            (None, 128)               8320      \n",
            "                                                                 \n",
            " dropout_19 (Dropout)        (None, 128)               0         \n",
            "                                                                 \n",
            " dense_18 (Dense)            (None, 1)                 129       \n",
            "                                                                 \n",
            "=================================================================\n",
            "Total params: 10768289 (41.08 MB)\n",
            "Trainable params: 10768289 (41.08 MB)\n",
            "Non-trainable params: 0 (0.00 Byte)\n",
            "_________________________________________________________________\n"
          ]
        }
      ],
      "source": [
        "\n",
        "# import re\n",
        "# from tensorflow.keras.models import Sequential\n",
        "# from tensorflow.keras.layers import Embedding, LSTM, Dropout, Dense\n",
        "\n",
        "# output_dim = 200\n",
        "\n",
        "# # Define the model\n",
        "# model = Sequential([\n",
        "#     Embedding(vocab_size, output_dim, input_length=max_length),\n",
        "#     LSTM(64, dropout=0.3, recurrent_dropout=0.3, activation='tanh'),\n",
        "\n",
        "#     Dropout(0.5),\n",
        "#     Dense(128, activation=\"relu\"),\n",
        "#     Dropout(0.5),\n",
        "#     Dense(1, activation=\"softmax\"),  # Binary classification output\n",
        "# ])\n",
        "\n",
        "# # Compiling the model\n",
        "# model.compile(optimizer='adam', loss='binary_crossentropy', metrics=['accuracy', 'Precision', 'Recall'])\n",
        "\n",
        "# model.summary()\n"
      ]
    },
    {
      "cell_type": "code",
      "execution_count": null,
      "metadata": {
        "colab": {
          "base_uri": "https://localhost:8080/"
        },
        "id": "k-xXGwp9GJAm",
        "outputId": "c4a31084-24c3-4507-fe53-29fa9a5dc281"
      },
      "outputs": [
        {
          "output_type": "stream",
          "name": "stdout",
          "text": [
            "178/178 [==============================] - 5s 27ms/step\n",
            "y_test_categorical shape: (11349,)\n",
            "y_pred_bool shape: (11349,)\n",
            "              precision    recall  f1-score   support\n",
            "\n",
            "           0       0.57      1.00      0.73      6472\n",
            "           1       0.00      0.00      0.00      4877\n",
            "\n",
            "    accuracy                           0.57     11349\n",
            "   macro avg       0.29      0.50      0.36     11349\n",
            "weighted avg       0.33      0.57      0.41     11349\n",
            "\n"
          ]
        },
        {
          "output_type": "stream",
          "name": "stderr",
          "text": [
            "/usr/local/lib/python3.10/dist-packages/sklearn/metrics/_classification.py:1344: UndefinedMetricWarning: Precision and F-score are ill-defined and being set to 0.0 in labels with no predicted samples. Use `zero_division` parameter to control this behavior.\n",
            "  _warn_prf(average, modifier, msg_start, len(result))\n",
            "/usr/local/lib/python3.10/dist-packages/sklearn/metrics/_classification.py:1344: UndefinedMetricWarning: Precision and F-score are ill-defined and being set to 0.0 in labels with no predicted samples. Use `zero_division` parameter to control this behavior.\n",
            "  _warn_prf(average, modifier, msg_start, len(result))\n",
            "/usr/local/lib/python3.10/dist-packages/sklearn/metrics/_classification.py:1344: UndefinedMetricWarning: Precision and F-score are ill-defined and being set to 0.0 in labels with no predicted samples. Use `zero_division` parameter to control this behavior.\n",
            "  _warn_prf(average, modifier, msg_start, len(result))\n"
          ]
        }
      ],
      "source": [
        "# import numpy as np\n",
        "# from sklearn.metrics import classification_report\n",
        "\n",
        "# # y_pred = model.predict(X_test)\n",
        "# y_pred = model.predict(X_test, batch_size=64, verbose=1)\n",
        "# y_pred_bool = np.argmax(y_pred, axis=1)\n",
        "# y_test_categorical = np.argmax(y_test, axis=1)\n",
        "# print(\"y_test_categorical shape:\", y_test_categorical.shape)\n",
        "# print(\"y_pred_bool shape:\", y_pred_bool.shape)\n",
        "# print(classification_report(y_test_categorical, y_pred_bool))"
      ]
    },
    {
      "cell_type": "code",
      "execution_count": null,
      "metadata": {
        "colab": {
          "base_uri": "https://localhost:8080/"
        },
        "id": "wGIcDdkXCKWq",
        "outputId": "3deef53e-513b-402e-d54e-7b781d9a6a66"
      },
      "outputs": [
        {
          "output_type": "stream",
          "name": "stdout",
          "text": [
            "y_test_categorical shape: (11349,)\n",
            "y_pred_bool shape: (11349,)\n",
            "Data type of y_test_categorical: int64\n",
            "Data type of y_pred_bool: int64\n",
            "              precision    recall  f1-score   support\n",
            "\n",
            "           0       0.57      1.00      0.73      6472\n",
            "           1       0.00      0.00      0.00      4877\n",
            "\n",
            "    accuracy                           0.57     11349\n",
            "   macro avg       0.29      0.50      0.36     11349\n",
            "weighted avg       0.33      0.57      0.41     11349\n",
            "\n"
          ]
        },
        {
          "output_type": "stream",
          "name": "stderr",
          "text": [
            "/usr/local/lib/python3.10/dist-packages/sklearn/metrics/_classification.py:1344: UndefinedMetricWarning: Precision and F-score are ill-defined and being set to 0.0 in labels with no predicted samples. Use `zero_division` parameter to control this behavior.\n",
            "  _warn_prf(average, modifier, msg_start, len(result))\n",
            "/usr/local/lib/python3.10/dist-packages/sklearn/metrics/_classification.py:1344: UndefinedMetricWarning: Precision and F-score are ill-defined and being set to 0.0 in labels with no predicted samples. Use `zero_division` parameter to control this behavior.\n",
            "  _warn_prf(average, modifier, msg_start, len(result))\n",
            "/usr/local/lib/python3.10/dist-packages/sklearn/metrics/_classification.py:1344: UndefinedMetricWarning: Precision and F-score are ill-defined and being set to 0.0 in labels with no predicted samples. Use `zero_division` parameter to control this behavior.\n",
            "  _warn_prf(average, modifier, msg_start, len(result))\n"
          ]
        }
      ],
      "source": [
        "# from sklearn.metrics import classification_report\n",
        "# import numpy as np\n",
        "\n",
        "# # Assuming y_test is one-hot encoded, convert it to categorical labels\n",
        "# y_test_categorical = np.argmax(y_test, axis=1)\n",
        "\n",
        "\n",
        "# # Print the shape to verify\n",
        "# print(\"y_test_categorical shape:\", y_test_categorical.shape)\n",
        "# print(\"y_pred_bool shape:\", y_pred_bool.shape)\n",
        "\n",
        "# # Print data types to verify\n",
        "# print(\"Data type of y_test_categorical:\", y_test_categorical.dtype)\n",
        "# print(\"Data type of y_pred_bool:\", y_pred_bool.dtype)\n",
        "\n",
        "# # Print the classification report\n",
        "# print(classification_report(y_test_categorical, y_pred_bool))\n"
      ]
    },
    {
      "cell_type": "code",
      "execution_count": null,
      "metadata": {
        "colab": {
          "base_uri": "https://localhost:8080/"
        },
        "id": "JinqR-o1Fg81",
        "outputId": "07411ad2-6ec1-48f4-d307-764c2d3f34b3"
      },
      "outputs": [
        {
          "output_type": "stream",
          "name": "stdout",
          "text": [
            "Class Distribution in 'toxicity' column:\n",
            "0    32592\n",
            "1    24153\n",
            "Name: Toxicity, dtype: int64\n"
          ]
        }
      ],
      "source": [
        "# class_distribution = ds['Toxicity'].value_counts()\n",
        "\n",
        "# print(\"Class Distribution in 'toxicity' column:\")\n",
        "# print(class_distribution)"
      ]
    },
    {
      "cell_type": "code",
      "execution_count": null,
      "metadata": {
        "colab": {
          "base_uri": "https://localhost:8080/"
        },
        "id": "ka0gf2XsG-cY",
        "outputId": "ad98232c-7586-4460-88c9-929962fe9f34"
      },
      "outputs": [
        {
          "output_type": "stream",
          "name": "stdout",
          "text": [
            "Class Distribution (Percentage) in 'toxicity' column:\n",
            "0    57.435897\n",
            "1    42.564103\n",
            "Name: Toxicity, dtype: float64\n"
          ]
        }
      ],
      "source": [
        "# class_distribution_percentage = ds['Toxicity'].value_counts(normalize=True) * 100\n",
        "\n",
        "# print(\"Class Distribution (Percentage) in 'toxicity' column:\")\n",
        "# print(class_distribution_percentage)"
      ]
    },
    {
      "cell_type": "code",
      "execution_count": null,
      "metadata": {
        "colab": {
          "base_uri": "https://localhost:8080/"
        },
        "id": "OBvdiVZVHGcg",
        "outputId": "d82d2a5d-a20c-456b-c0e2-86ac80c4eb90"
      },
      "outputs": [
        {
          "output_type": "stream",
          "name": "stdout",
          "text": [
            "Model: \"sequential_8\"\n",
            "_________________________________________________________________\n",
            " Layer (type)                Output Shape              Param #   \n",
            "=================================================================\n",
            " embedding_8 (Embedding)     (None, 84, 200)           10692000  \n",
            "                                                                 \n",
            " lstm_8 (LSTM)               (None, 64)                67840     \n",
            "                                                                 \n",
            " dropout_16 (Dropout)        (None, 64)                0         \n",
            "                                                                 \n",
            " dense_15 (Dense)            (None, 128)               8320      \n",
            "                                                                 \n",
            " dropout_17 (Dropout)        (None, 128)               0         \n",
            "                                                                 \n",
            " dense_16 (Dense)            (None, 1)                 129       \n",
            "                                                                 \n",
            "=================================================================\n",
            "Total params: 10768289 (41.08 MB)\n",
            "Trainable params: 10768289 (41.08 MB)\n",
            "Non-trainable params: 0 (0.00 Byte)\n",
            "_________________________________________________________________\n"
          ]
        }
      ],
      "source": [
        "# # checking the model parameters\n",
        "# model.summary()"
      ]
    },
    {
      "cell_type": "code",
      "execution_count": null,
      "metadata": {
        "colab": {
          "base_uri": "https://localhost:8080/",
          "height": 790
        },
        "id": "tpQL1AWtHTuX",
        "outputId": "07c4c98c-0168-4c85-cc02-2f95b21337ec"
      },
      "outputs": [
        {
          "output_type": "stream",
          "name": "stdout",
          "text": [
            "Epoch 1/10\n"
          ]
        },
        {
          "output_type": "error",
          "ename": "ValueError",
          "evalue": "in user code:\n\n    File \"/usr/local/lib/python3.10/dist-packages/keras/src/engine/training.py\", line 1401, in train_function  *\n        return step_function(self, iterator)\n    File \"/usr/local/lib/python3.10/dist-packages/keras/src/engine/training.py\", line 1384, in step_function  **\n        outputs = model.distribute_strategy.run(run_step, args=(data,))\n    File \"/usr/local/lib/python3.10/dist-packages/keras/src/engine/training.py\", line 1373, in run_step  **\n        outputs = model.train_step(data)\n    File \"/usr/local/lib/python3.10/dist-packages/keras/src/engine/training.py\", line 1151, in train_step\n        loss = self.compute_loss(x, y, y_pred, sample_weight)\n    File \"/usr/local/lib/python3.10/dist-packages/keras/src/engine/training.py\", line 1209, in compute_loss\n        return self.compiled_loss(\n    File \"/usr/local/lib/python3.10/dist-packages/keras/src/engine/compile_utils.py\", line 277, in __call__\n        loss_value = loss_obj(y_t, y_p, sample_weight=sw)\n    File \"/usr/local/lib/python3.10/dist-packages/keras/src/losses.py\", line 143, in __call__\n        losses = call_fn(y_true, y_pred)\n    File \"/usr/local/lib/python3.10/dist-packages/keras/src/losses.py\", line 270, in call  **\n        return ag_fn(y_true, y_pred, **self._fn_kwargs)\n    File \"/usr/local/lib/python3.10/dist-packages/keras/src/losses.py\", line 2532, in binary_crossentropy\n        backend.binary_crossentropy(y_true, y_pred, from_logits=from_logits),\n    File \"/usr/local/lib/python3.10/dist-packages/keras/src/backend.py\", line 5822, in binary_crossentropy\n        return tf.nn.sigmoid_cross_entropy_with_logits(\n\n    ValueError: `logits` and `labels` must have the same shape, received ((None, 1) vs (None, 2)).\n",
          "traceback": [
            "\u001b[0;31m---------------------------------------------------------------------------\u001b[0m",
            "\u001b[0;31mValueError\u001b[0m                                Traceback (most recent call last)",
            "\u001b[0;32m<ipython-input-265-9bef2e29d772>\u001b[0m in \u001b[0;36m<cell line: 2>\u001b[0;34m()\u001b[0m\n\u001b[1;32m      1\u001b[0m \u001b[0;31m# Train the model\u001b[0m\u001b[0;34m\u001b[0m\u001b[0;34m\u001b[0m\u001b[0m\n\u001b[0;32m----> 2\u001b[0;31m model_history = model.fit(\n\u001b[0m\u001b[1;32m      3\u001b[0m     \u001b[0mX_train\u001b[0m\u001b[0;34m,\u001b[0m\u001b[0;34m\u001b[0m\u001b[0;34m\u001b[0m\u001b[0m\n\u001b[1;32m      4\u001b[0m     \u001b[0my_train\u001b[0m\u001b[0;34m,\u001b[0m\u001b[0;34m\u001b[0m\u001b[0;34m\u001b[0m\u001b[0m\n\u001b[1;32m      5\u001b[0m     \u001b[0mbatch_size\u001b[0m \u001b[0;34m=\u001b[0m \u001b[0;36m64\u001b[0m\u001b[0;34m,\u001b[0m\u001b[0;34m\u001b[0m\u001b[0;34m\u001b[0m\u001b[0m\n",
            "\u001b[0;32m/usr/local/lib/python3.10/dist-packages/keras/src/utils/traceback_utils.py\u001b[0m in \u001b[0;36merror_handler\u001b[0;34m(*args, **kwargs)\u001b[0m\n\u001b[1;32m     68\u001b[0m             \u001b[0;31m# To get the full stack trace, call:\u001b[0m\u001b[0;34m\u001b[0m\u001b[0;34m\u001b[0m\u001b[0m\n\u001b[1;32m     69\u001b[0m             \u001b[0;31m# `tf.debugging.disable_traceback_filtering()`\u001b[0m\u001b[0;34m\u001b[0m\u001b[0;34m\u001b[0m\u001b[0m\n\u001b[0;32m---> 70\u001b[0;31m             \u001b[0;32mraise\u001b[0m \u001b[0me\u001b[0m\u001b[0;34m.\u001b[0m\u001b[0mwith_traceback\u001b[0m\u001b[0;34m(\u001b[0m\u001b[0mfiltered_tb\u001b[0m\u001b[0;34m)\u001b[0m \u001b[0;32mfrom\u001b[0m \u001b[0;32mNone\u001b[0m\u001b[0;34m\u001b[0m\u001b[0;34m\u001b[0m\u001b[0m\n\u001b[0m\u001b[1;32m     71\u001b[0m         \u001b[0;32mfinally\u001b[0m\u001b[0;34m:\u001b[0m\u001b[0;34m\u001b[0m\u001b[0;34m\u001b[0m\u001b[0m\n\u001b[1;32m     72\u001b[0m             \u001b[0;32mdel\u001b[0m \u001b[0mfiltered_tb\u001b[0m\u001b[0;34m\u001b[0m\u001b[0;34m\u001b[0m\u001b[0m\n",
            "\u001b[0;32m/usr/local/lib/python3.10/dist-packages/keras/src/engine/training.py\u001b[0m in \u001b[0;36mtf__train_function\u001b[0;34m(iterator)\u001b[0m\n\u001b[1;32m     13\u001b[0m                 \u001b[0;32mtry\u001b[0m\u001b[0;34m:\u001b[0m\u001b[0;34m\u001b[0m\u001b[0;34m\u001b[0m\u001b[0m\n\u001b[1;32m     14\u001b[0m                     \u001b[0mdo_return\u001b[0m \u001b[0;34m=\u001b[0m \u001b[0;32mTrue\u001b[0m\u001b[0;34m\u001b[0m\u001b[0;34m\u001b[0m\u001b[0m\n\u001b[0;32m---> 15\u001b[0;31m                     \u001b[0mretval_\u001b[0m \u001b[0;34m=\u001b[0m \u001b[0mag__\u001b[0m\u001b[0;34m.\u001b[0m\u001b[0mconverted_call\u001b[0m\u001b[0;34m(\u001b[0m\u001b[0mag__\u001b[0m\u001b[0;34m.\u001b[0m\u001b[0mld\u001b[0m\u001b[0;34m(\u001b[0m\u001b[0mstep_function\u001b[0m\u001b[0;34m)\u001b[0m\u001b[0;34m,\u001b[0m \u001b[0;34m(\u001b[0m\u001b[0mag__\u001b[0m\u001b[0;34m.\u001b[0m\u001b[0mld\u001b[0m\u001b[0;34m(\u001b[0m\u001b[0mself\u001b[0m\u001b[0;34m)\u001b[0m\u001b[0;34m,\u001b[0m \u001b[0mag__\u001b[0m\u001b[0;34m.\u001b[0m\u001b[0mld\u001b[0m\u001b[0;34m(\u001b[0m\u001b[0miterator\u001b[0m\u001b[0;34m)\u001b[0m\u001b[0;34m)\u001b[0m\u001b[0;34m,\u001b[0m \u001b[0;32mNone\u001b[0m\u001b[0;34m,\u001b[0m \u001b[0mfscope\u001b[0m\u001b[0;34m)\u001b[0m\u001b[0;34m\u001b[0m\u001b[0;34m\u001b[0m\u001b[0m\n\u001b[0m\u001b[1;32m     16\u001b[0m                 \u001b[0;32mexcept\u001b[0m\u001b[0;34m:\u001b[0m\u001b[0;34m\u001b[0m\u001b[0;34m\u001b[0m\u001b[0m\n\u001b[1;32m     17\u001b[0m                     \u001b[0mdo_return\u001b[0m \u001b[0;34m=\u001b[0m \u001b[0;32mFalse\u001b[0m\u001b[0;34m\u001b[0m\u001b[0;34m\u001b[0m\u001b[0m\n",
            "\u001b[0;31mValueError\u001b[0m: in user code:\n\n    File \"/usr/local/lib/python3.10/dist-packages/keras/src/engine/training.py\", line 1401, in train_function  *\n        return step_function(self, iterator)\n    File \"/usr/local/lib/python3.10/dist-packages/keras/src/engine/training.py\", line 1384, in step_function  **\n        outputs = model.distribute_strategy.run(run_step, args=(data,))\n    File \"/usr/local/lib/python3.10/dist-packages/keras/src/engine/training.py\", line 1373, in run_step  **\n        outputs = model.train_step(data)\n    File \"/usr/local/lib/python3.10/dist-packages/keras/src/engine/training.py\", line 1151, in train_step\n        loss = self.compute_loss(x, y, y_pred, sample_weight)\n    File \"/usr/local/lib/python3.10/dist-packages/keras/src/engine/training.py\", line 1209, in compute_loss\n        return self.compiled_loss(\n    File \"/usr/local/lib/python3.10/dist-packages/keras/src/engine/compile_utils.py\", line 277, in __call__\n        loss_value = loss_obj(y_t, y_p, sample_weight=sw)\n    File \"/usr/local/lib/python3.10/dist-packages/keras/src/losses.py\", line 143, in __call__\n        losses = call_fn(y_true, y_pred)\n    File \"/usr/local/lib/python3.10/dist-packages/keras/src/losses.py\", line 270, in call  **\n        return ag_fn(y_true, y_pred, **self._fn_kwargs)\n    File \"/usr/local/lib/python3.10/dist-packages/keras/src/losses.py\", line 2532, in binary_crossentropy\n        backend.binary_crossentropy(y_true, y_pred, from_logits=from_logits),\n    File \"/usr/local/lib/python3.10/dist-packages/keras/src/backend.py\", line 5822, in binary_crossentropy\n        return tf.nn.sigmoid_cross_entropy_with_logits(\n\n    ValueError: `logits` and `labels` must have the same shape, received ((None, 1) vs (None, 2)).\n"
          ]
        }
      ],
      "source": [
        "\n",
        "# # Train the model\n",
        "# model_history = model.fit(\n",
        "#     X_train,\n",
        "#     y_train,\n",
        "#     batch_size = 64,\n",
        "#     epochs=10,\n",
        "#     validation_data=(X_test, y_test)\n",
        "# )"
      ]
    },
    {
      "cell_type": "code",
      "execution_count": null,
      "metadata": {
        "id": "kNlH9hpMHZSC"
      },
      "outputs": [],
      "source": [
        "# import matplotlib.pyplot as plt\n",
        "# hist = model.history.history\n",
        "# plt.plot(hist['loss'],'r',linewidth=2, label='Training loss')\n",
        "# plt.plot(hist['val_loss'], 'g',linewidth=2, label='Validation loss')\n",
        "# plt.title('Hate Speech and Offensive language Model')\n",
        "# plt.xlabel('Epochs numbers')\n",
        "# plt.ylabel('MSE numbers')\n",
        "# plt.show()"
      ]
    },
    {
      "cell_type": "code",
      "execution_count": null,
      "metadata": {
        "id": "wmf1MS6JVSqt"
      },
      "outputs": [],
      "source": [
        "# # Save model\n",
        "# model.save('model.h5')"
      ]
    },
    {
      "cell_type": "code",
      "execution_count": null,
      "metadata": {
        "id": "pdc7DgFdWVtU"
      },
      "outputs": [],
      "source": [
        "# Install tensorflow-addons\n",
        "# !pip install tensorflow-addons"
      ]
    },
    {
      "cell_type": "code",
      "execution_count": null,
      "metadata": {
        "id": "D6cdL3tTW1Pw"
      },
      "outputs": [],
      "source": [
        "# # Loading saved model, providing the custom_objects parameter with the custom metric\n",
        "# # with custom_object_scope({'f1_score': f1_score}):\n",
        "\n",
        "# model.save('/content/model.h5')\n"
      ]
    },
    {
      "cell_type": "code",
      "execution_count": null,
      "metadata": {
        "id": "y0J6Rq2NU5ZH"
      },
      "outputs": [],
      "source": []
    },
    {
      "cell_type": "code",
      "execution_count": null,
      "metadata": {
        "id": "FpByHmOKVnFy"
      },
      "outputs": [],
      "source": []
    }
  ],
  "metadata": {
    "accelerator": "GPU",
    "colab": {
      "gpuType": "T4",
      "provenance": [],
      "mount_file_id": "1H3RpPy_Sl-bUt98KUnILdk4kkUUrlpaG",
      "authorship_tag": "ABX9TyM4mzGUqWsSIM3bgH38hhRu",
      "include_colab_link": true
    },
    "kernelspec": {
      "display_name": "Python 3",
      "name": "python3"
    },
    "language_info": {
      "name": "python"
    }
  },
  "nbformat": 4,
  "nbformat_minor": 0
}